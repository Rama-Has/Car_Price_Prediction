{
 "cells": [
  {
   "cell_type": "code",
   "execution_count": 1,
   "metadata": {},
   "outputs": [],
   "source": [
    "#importing libraries\n",
    "from bs4 import BeautifulSoup as bs \n",
    "import pandas as pd   \n",
    "import numpy as np\n",
    "import os"
   ]
  },
  {
   "cell_type": "code",
   "execution_count": 2,
   "metadata": {},
   "outputs": [],
   "source": [
    "#Get files names to be able to read each file \n",
    "files_names = os.listdir(r'C:\\\\Users\\\\hp\\\\Downloads\\\\ML_Data\\\\data')"
   ]
  },
  {
   "cell_type": "code",
   "execution_count": 5,
   "metadata": {},
   "outputs": [],
   "source": [
    "#Initiate bs_dict the dictionary that will cotain the data\n",
    "bs_dict = dict()"
   ]
  },
  {
   "cell_type": "code",
   "execution_count": 6,
   "metadata": {},
   "outputs": [],
   "source": [
    "#Crate a dictionary with the folder number as the key and the bs object as the value\n",
    "for file_name in files_names: \n",
    "    #open file according to file_name\n",
    "    file = open( ('C:\\\\Users\\\\hp\\\\Downloads\\\\ML_Data\\\\data\\\\' + file_name), 'r', encoding = 'utf-8') \n",
    "    #set the reference point in the beginning of the file    \n",
    "    file.seek(0)      \n",
    "    #store file content \n",
    "    txt = file.read()\n",
    "    #conver txt into a Beautiful Soup object\n",
    "    bs_obj = bs(txt) \n",
    "    #store the object in bs_dict dictionary\n",
    "    bs_dict[file_name] = bs_obj"
   ]
  },
  {
   "attachments": {},
   "cell_type": "markdown",
   "metadata": {},
   "source": [
    "### Delete files doesn't contain usefull data "
   ]
  },
  {
   "cell_type": "code",
   "execution_count": 47,
   "metadata": {},
   "outputs": [],
   "source": [
    "#define bs_dict_keys a list of files names \n",
    "bs_dict_keys = list(bs_dict.keys())\n",
    "#for each file check if it contains class notice then drop it from bs_dict, otherwise continue\n",
    "for file in bs_dict_keys:\n",
    "    if(bs_dict[file].find(class_ = \"notice\")):\n",
    "        bs_dict.pop(file)\n",
    "    else: \n",
    "        continue "
   ]
  },
  {
   "cell_type": "code",
   "execution_count": 48,
   "metadata": {},
   "outputs": [],
   "source": [
    "def get_value(file_number, feature, class_name):   \n",
    "    \"\"\"\n",
    "    a function to extract a particular values from a particular file, return nan if it doesnot exist\n",
    "    inputs:\n",
    "        file_number(str): file name want to search in it's content\n",
    "        feature(str): feature name to return it's value\n",
    "        class_name(str): name of the class the feature exists in\n",
    "    returns:    \n",
    "        value of the given feature according to file_name, class_name.\n",
    "        nan if value of the given feature doesnot exist in the file.\n",
    "    \"\"\"\n",
    "    #define additions a list of 8 car additions names\n",
    "    additions = [ 'مُكيّف', 'إغلاق مركزي', 'جهاز إنذار', 'مسجل CD', 'فتحة سقف', 'جنطات مغنيسيوم', 'فرش جلد', 'وسادة حماية هوائية' ]\n",
    "    #define value with nan as a default value  \n",
    "    value = np.NaN\n",
    "    #check if the class_name is driving-table then get value of الموديل or موديل سنة \n",
    "    if class_name == \"driving-table\":   \n",
    "        if feature == 'الموديل':   \n",
    "            #get the h3 tag text which contains the value of الموديل\n",
    "            value = bs_dict[file_number].find(class_ = class_name).find(\"h3\").text\n",
    "        elif feature == 'موديل سنة':\n",
    "            #store the result of h5 tags in h5_list \n",
    "            h5_list = bs_dict[file_number].find(class_ = class_name).findAll(\"h5\")\n",
    "            #get the tag contains 'موديل سنة' to get the year\n",
    "            for item in h5_list:  \n",
    "                if 'موديل سنة' in item.text:\n",
    "                    #split item(the tag) text according to 'موديل سنة' which will return an array of the year and a whitespace in the first index \n",
    "                    value = int(item.text.split(\"موديل سنة\")[1])\n",
    "    #check if the class_name is post-price to get the car price \n",
    "    elif class_name == \"post-price\":\n",
    "        value = bs_dict[file_number]\\\n",
    "                        .find(class_ = class_name)\\\n",
    "                        .text.split(\"\\n\")[0]\\\n",
    "                        .split(' ')[0] \n",
    "    #else for the list_ads class \n",
    "    else:\n",
    "        #check if the feature is سعر التأمين then get the second tag of class list_ads \n",
    "        if feature == \"سعر التأمين\":\n",
    "            #get the value of سعر التأمين which exists in the 19th index after splitting the text based on '\\n'  \n",
    "            value = int(bs_dict[file_number].findAll(class_ = \"list_ads\")[1].text.split('\\n')[19])\n",
    "        else:\n",
    "            #define features_list, a list contains features values existed in the first element\n",
    "            #that has class 'list_ads' for the car \n",
    "            features_list = bs_dict[file_number].find(class_ = class_name).text.split(\"\\n\")\n",
    "            #check if the feature is in additions list\n",
    "            if feature in additions:\n",
    "                #check if the feature is in features_list list so the value will 1\n",
    "                if feature in features_list:\n",
    "                    value = 1 \n",
    "                else:        \n",
    "                    value = 0\n",
    "            #else for features that isn't in additions \n",
    "            else:\n",
    "                #\n",
    "                for match in features_list: \n",
    "                    if feature in match:  \n",
    "                        value = match.split(feature)[1] \n",
    "    return value "
   ]
  },
  {
   "cell_type": "code",
   "execution_count": 49,
   "metadata": {},
   "outputs": [],
   "source": [
    "#define cars_info a list of dictionaries each one represents a particular car \n",
    "cars_info = []\n",
    "#get features value for each car stored in bs_dict\n",
    "for current_file_number in list(bs_dict.keys()): \n",
    "    cuurent_car_info = {  \n",
    "        \"السعر\": float(get_value(current_file_number,\"السعر\", \"post-price\")),\n",
    "        \"الموديل\": get_value(current_file_number , \"الموديل\", \"driving-table\"),\n",
    "        'موديل سنة': get_value(current_file_number , 'موديل سنة', \"driving-table\"),\n",
    "        \"لون السيارة\": get_value(current_file_number,\"لون السيارة\", \"list_ads\"),\n",
    "        'قوة الماتور': float(get_value(current_file_number,'قوة الماتور', \"list_ads\")),\n",
    "        \"عدد الركاب\": get_value(current_file_number, \"عدد الركاب\", \"list_ads\"),  \n",
    "        \"عداد السيارة\": get_value(current_file_number,\"عداد السيارة\", \"list_ads\"),\n",
    "        \"أصحاب سابقون\": get_value(current_file_number, \"أصحاب سابقون\", \"list_ads\"),\n",
    "        'أصل السيارة': get_value(current_file_number,'أصل السيارة', \"list_ads\"),\n",
    "        'رخصة السيارة': get_value(current_file_number,'رخصة السيارة', \"list_ads\"),\n",
    "        \"نوع الوقود\": get_value(current_file_number,\"نوع الوقود\", \"list_ads\"),\n",
    "        'نوع الجير': get_value(current_file_number,'نوع الجير', \"list_ads\"),  \n",
    "        'الزجاج': get_value(current_file_number,'الزجاج', \"list_ads\"), \n",
    "        \"سعر التأمين\": get_value(current_file_number, \"سعر التأمين\", \"list_ads\"),\n",
    "        'وسادة حماية هوائية': get_value(current_file_number, 'وسادة حماية هوائية', \"list_ads\"),\n",
    "        'فرش جلد': get_value(current_file_number, 'فرش جلد', \"list_ads\"),   \n",
    "        'جنطات مغنيسيوم': get_value(current_file_number,'جنطات مغنيسيوم', \"list_ads\"),\n",
    "        'فتحة سقف': get_value(current_file_number,'فتحة سقف', \"list_ads\"),\n",
    "        'مسجل CD': get_value(current_file_number,'مسجل CD', \"list_ads\"),    \n",
    "        'إغلاق مركزي': get_value(current_file_number,'إغلاق مركزي', \"list_ads\"),\n",
    "        'مُكيّف': get_value(current_file_number,'مُكيّف', \"list_ads\"), \n",
    "        'جهاز إنذار': get_value(current_file_number,'جهاز إنذار', \"list_ads\"),\n",
    "    }   \n",
    "    cars_info.append(cuurent_car_info)      "
   ]
  },
  {
   "cell_type": "code",
   "execution_count": 50,
   "metadata": {},
   "outputs": [],
   "source": [
    "#define data, a data frame contains cars data  \n",
    "data = pd.DataFrame(cars_info)"
   ]
  },
  {
   "cell_type": "code",
   "execution_count": null,
   "metadata": {},
   "outputs": [],
   "source": [
    "#Write data to cars_data file\n",
    "data.to_csv('../data/cars_data.csv', index = False)  "
   ]
  }
 ],
 "metadata": {
  "kernelspec": {
   "display_name": "Python 3.10.7 ('.venv': venv)",
   "language": "python",
   "name": "python3"
  },
  "language_info": {
   "codemirror_mode": {
    "name": "ipython",
    "version": 3
   },
   "file_extension": ".py",
   "mimetype": "text/x-python",
   "name": "python",
   "nbconvert_exporter": "python",
   "pygments_lexer": "ipython3",
   "version": "3.10.7"
  },
  "orig_nbformat": 4,
  "vscode": {
   "interpreter": {
    "hash": "f1c6c9e832061e2ca5974e4f225c73d648207b097861166a8b694dd478f20e3b"
   }
  }
 },
 "nbformat": 4,
 "nbformat_minor": 2
}
