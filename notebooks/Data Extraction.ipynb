{
 "cells": [
  {
   "cell_type": "code",
   "execution_count": 1,
   "metadata": {},
   "outputs": [],
   "source": [
    "#importing libraries\n",
    "from bs4 import BeautifulSoup as bs \n",
    "import pandas as pd   \n",
    "import numpy as np\n",
    "import os\n",
    "from src.utils import get_value"
   ]
  },
  {
   "cell_type": "code",
   "execution_count": 2,
   "metadata": {},
   "outputs": [],
   "source": [
    "#Get files names to be able to read each file \n",
    "files_names = os.listdir(r'C:\\\\Users\\\\hp\\\\Downloads\\\\ML_Data\\\\data')"
   ]
  },
  {
   "cell_type": "code",
   "execution_count": 5,
   "metadata": {},
   "outputs": [],
   "source": [
    "#Initiate bs_dict the dictionary that will cotain the data\n",
    "bs_dict = dict()"
   ]
  },
  {
   "cell_type": "code",
   "execution_count": 6,
   "metadata": {},
   "outputs": [],
   "source": [
    "#Crate a dictionary with the folder number as the key and the bs object as the value\n",
    "for file_name in files_names: \n",
    "    #open file according to file_name\n",
    "    file = open( ('C:\\\\Users\\\\hp\\\\Downloads\\\\ML_Data\\\\data\\\\' + file_name), 'r', encoding = 'utf-8') \n",
    "    #set the reference point in the beginning of the file    \n",
    "    file.seek(0)      \n",
    "    #store file content \n",
    "    txt = file.read()\n",
    "    #conver txt into a Beautiful Soup object\n",
    "    bs_obj = bs(txt) \n",
    "    #store the object in bs_dict dictionary\n",
    "    bs_dict[file_name] = bs_obj"
   ]
  },
  {
   "attachments": {},
   "cell_type": "markdown",
   "metadata": {},
   "source": [
    "### Delete files doesn't contain usefull data "
   ]
  },
  {
   "cell_type": "code",
   "execution_count": 47,
   "metadata": {},
   "outputs": [],
   "source": [
    "#define bs_dict_keys a list of files names \n",
    "bs_dict_keys = list(bs_dict.keys())\n",
    "#for each file check if it contains class notice then drop it from bs_dict, otherwise continue\n",
    "for file in bs_dict_keys:\n",
    "    if(bs_dict[file].find(class_ = \"notice\")):\n",
    "        bs_dict.pop(file)\n",
    "    else: \n",
    "        continue "
   ]
  },
  {
   "cell_type": "code",
   "execution_count": 49,
   "metadata": {},
   "outputs": [],
   "source": [
    "#define cars_info a list of dictionaries each one represents a particular car \n",
    "cars_info = []\n",
    "#get features value for each car stored in bs_dict\n",
    "for current_file_number in list(bs_dict.keys()): \n",
    "    cuurent_car_info = {  \n",
    "        \"السعر\": float(get_value(current_file_number,\"السعر\", \"post-price\")),\n",
    "        \"الموديل\": get_value(current_file_number , \"الموديل\", \"driving-table\"),\n",
    "        'موديل سنة': get_value(current_file_number , 'موديل سنة', \"driving-table\"),\n",
    "        \"لون السيارة\": get_value(current_file_number,\"لون السيارة\", \"list_ads\"),\n",
    "        'قوة الماتور': float(get_value(current_file_number,'قوة الماتور', \"list_ads\")),\n",
    "        \"عدد الركاب\": get_value(current_file_number, \"عدد الركاب\", \"list_ads\"),  \n",
    "        \"عداد السيارة\": get_value(current_file_number,\"عداد السيارة\", \"list_ads\"),\n",
    "        \"أصحاب سابقون\": get_value(current_file_number, \"أصحاب سابقون\", \"list_ads\"),\n",
    "        'أصل السيارة': get_value(current_file_number,'أصل السيارة', \"list_ads\"),\n",
    "        'رخصة السيارة': get_value(current_file_number,'رخصة السيارة', \"list_ads\"),\n",
    "        \"نوع الوقود\": get_value(current_file_number,\"نوع الوقود\", \"list_ads\"),\n",
    "        'نوع الجير': get_value(current_file_number,'نوع الجير', \"list_ads\"),  \n",
    "        'الزجاج': get_value(current_file_number,'الزجاج', \"list_ads\"), \n",
    "        \"سعر التأمين\": get_value(current_file_number, \"سعر التأمين\", \"list_ads\"),\n",
    "        'وسادة حماية هوائية': get_value(current_file_number, 'وسادة حماية هوائية', \"list_ads\"),\n",
    "        'فرش جلد': get_value(current_file_number, 'فرش جلد', \"list_ads\"),   \n",
    "        'جنطات مغنيسيوم': get_value(current_file_number,'جنطات مغنيسيوم', \"list_ads\"),\n",
    "        'فتحة سقف': get_value(current_file_number,'فتحة سقف', \"list_ads\"),\n",
    "        'مسجل CD': get_value(current_file_number,'مسجل CD', \"list_ads\"),    \n",
    "        'إغلاق مركزي': get_value(current_file_number,'إغلاق مركزي', \"list_ads\"),\n",
    "        'مُكيّف': get_value(current_file_number,'مُكيّف', \"list_ads\"), \n",
    "        'جهاز إنذار': get_value(current_file_number,'جهاز إنذار', \"list_ads\"),\n",
    "    }   \n",
    "    cars_info.append(cuurent_car_info)      "
   ]
  },
  {
   "cell_type": "code",
   "execution_count": 50,
   "metadata": {},
   "outputs": [],
   "source": [
    "#define data, a data frame contains cars data  \n",
    "data = pd.DataFrame(cars_info)"
   ]
  },
  {
   "cell_type": "code",
   "execution_count": null,
   "metadata": {},
   "outputs": [],
   "source": [
    "#Write data to cars_data file\n",
    "data.to_csv('../data/cars_data.csv', index = False)  "
   ]
  }
 ],
 "metadata": {
  "kernelspec": {
   "display_name": ".venv",
   "language": "python",
   "name": "python3"
  },
  "language_info": {
   "codemirror_mode": {
    "name": "ipython",
    "version": 3
   },
   "file_extension": ".py",
   "mimetype": "text/x-python",
   "name": "python",
   "nbconvert_exporter": "python",
   "pygments_lexer": "ipython3",
   "version": "3.10.7 (tags/v3.10.7:6cc6b13, Sep  5 2022, 14:08:36) [MSC v.1933 64 bit (AMD64)]"
  },
  "orig_nbformat": 4,
  "vscode": {
   "interpreter": {
    "hash": "67703f6099c847180c0c33697b6a3bb9eae65267b7a5e35291c05dc5406b6c79"
   }
  }
 },
 "nbformat": 4,
 "nbformat_minor": 2
}
