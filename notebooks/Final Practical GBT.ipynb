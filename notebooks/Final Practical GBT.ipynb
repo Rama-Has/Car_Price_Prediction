{
 "cells": [
  {
   "cell_type": "code",
   "execution_count": 1,
   "metadata": {},
   "outputs": [],
   "source": [
    "import warnings    \n",
    "warnings.simplefilter(\"ignore\", UserWarning)\n",
    "import pandas as pd\n",
    "import numpy as np \n",
    "import matplotlib.pyplot as plt    \n",
    "from sklearn.linear_model import LinearRegression, Ridge, Lasso, SGDRegressor\n",
    "from sklearn.preprocessing import PolynomialFeatures, FunctionTransformer,\\\n",
    "    OneHotEncoder, LabelEncoder, PowerTransformer, StandardScaler\n",
    "from sklearn.neighbors import KNeighborsRegressor \n",
    "import seaborn as sns\n",
    "from sklearn.impute import KNNImputer\n",
    "import re\n",
    "from sklearn.tree import DecisionTreeRegressor\n",
    "from scipy import stats  \n",
    "from sklearn.compose import ColumnTransformer \n",
    "from sklearn.pipeline import Pipeline \n",
    "from sklearn.model_selection import cross_val_score, RandomizedSearchCV\n",
    "import pickle  \n",
    "from sklearn.ensemble import GradientBoostingRegressor \n",
    "from pprint import pprint\n",
    "from src.utils import previous_owners, convert_text_to_number,\\\n",
    "    passengers_number, get_model_scores, outlier_detector,\\\n",
    "    outlier_detector_zscore "
   ]
  },
  {
   "attachments": {},
   "cell_type": "markdown",
   "metadata": {},
   "source": [
    "Reading Data"
   ]
  },
  {
   "cell_type": "code",
   "execution_count": 2,
   "metadata": {},
   "outputs": [],
   "source": [
    "data = pd.read_csv('../data/clean_data.csv')"
   ]
  },
  {
   "cell_type": "code",
   "execution_count": 3,
   "metadata": {},
   "outputs": [
    {
     "name": "stdout",
     "output_type": "stream",
     "text": [
      "{'alpha': 0.9,\n",
      " 'ccp_alpha': 0.0,\n",
      " 'criterion': 'friedman_mse',\n",
      " 'init': None,\n",
      " 'learning_rate': 0.1,\n",
      " 'loss': 'squared_error',\n",
      " 'max_depth': 3,\n",
      " 'max_features': None,\n",
      " 'max_leaf_nodes': None,\n",
      " 'min_impurity_decrease': 0.0,\n",
      " 'min_samples_leaf': 1,\n",
      " 'min_samples_split': 2,\n",
      " 'min_weight_fraction_leaf': 0.0,\n",
      " 'n_estimators': 100,\n",
      " 'n_iter_no_change': None,\n",
      " 'random_state': None,\n",
      " 'subsample': 1.0,\n",
      " 'tol': 0.0001,\n",
      " 'validation_fraction': 0.1,\n",
      " 'verbose': 0,\n",
      " 'warm_start': False}\n"
     ]
    }
   ],
   "source": [
    "gbt = GradientBoostingRegressor()\n",
    "pprint(gbt.get_params())"
   ]
  },
  {
   "cell_type": "code",
   "execution_count": 4,
   "metadata": {},
   "outputs": [],
   "source": [
    "# Number of trees in random forest\n",
    "n_estimators = [int(x) for x in np.linspace(start = 100, stop = 500, num = 5)]\n",
    "# Maximum number of levels in tree\n",
    "max_depth = [int(x) for x in np.linspace(5, 74, num = 10)]\n",
    "max_depth.append(None)\n",
    "# Minimum number of samples required to split a node\n",
    "min_samples_split = [5, 10, 16]\n",
    "# Minimum number of samples required at each leaf node\n",
    "min_samples_leaf = [2, 4, 7]\n",
    "# Method of selecting samples for training each tree\n",
    "learning_rate = [0.01, 0.1]\n",
    "# Create the random grid\n",
    "random_grid = {'n_estimators': n_estimators,\n",
    "               'max_depth': max_depth,\n",
    "               'min_samples_split': min_samples_split,\n",
    "               'min_samples_leaf': min_samples_leaf,\n",
    "               'learning_rate': learning_rate}"
   ]
  },
  {
   "cell_type": "code",
   "execution_count": 5,
   "metadata": {},
   "outputs": [],
   "source": [
    "# Use the random grid to search for best hyperparameters\n",
    "# Random search of parameters, using 4 fold cross validation, \n",
    "# search across 20 different combinations, and use all available cores\n",
    "gbt_random = RandomizedSearchCV(estimator = gbt, # the base model\n",
    "                               param_distributions = random_grid, # grid of hyper parameters\n",
    "                               n_iter = 20, # number of combinations of random hyper parameters to choose\n",
    "                               cv = 5,#5-fold \n",
    "                               verbose=4,  # print some logs while evaluating the different combinations\n",
    "                            #    random_state=42,\n",
    "                               n_jobs = 1) # use all cores in the machine to train (parallel)"
   ]
  },
  {
   "cell_type": "code",
   "execution_count": 6,
   "metadata": {},
   "outputs": [],
   "source": [
    "#get numeric features name\n",
    "numeric_features = [\n",
    "                'عدد الركاب', \n",
    "                'قوة الماتور', \n",
    "                'موديل سنة', \n",
    "                'أصحاب سابقون', \n",
    "                'عداد السيارة'\n",
    "                ]"
   ]
  },
  {
   "cell_type": "code",
   "execution_count": 7,
   "metadata": {},
   "outputs": [],
   "source": [
    "ohe = OneHotEncoder()\n",
    "#get categorical features name\n",
    "categorical_features = [col for col in data.columns if data[col].dtypes == 'O']\n",
    "#define transformer to selectively apply data preparation transforms\n",
    "transformer = ColumnTransformer( \n",
    "    transformers = [  \n",
    "        #apply OneHotEncoder to categorical features\n",
    "        ('categorical', ohe, categorical_features), \n",
    "        #apply log transformer to numeric features\n",
    "        ('numerical', StandardScaler(), numeric_features),\n",
    "    ],\n",
    "    #unspecified columns will be passed through without transformation  \n",
    "    remainder='passthrough',\n",
    "    #prevent adding prefix to columns names\n",
    "    verbose_feature_names_out = False \n",
    ")"
   ]
  },
  {
   "cell_type": "code",
   "execution_count": 8,
   "metadata": {},
   "outputs": [],
   "source": [
    "#slice the target variable and the other features\n",
    "X = data.drop(columns = 'السعر')\n",
    "y = data['السعر'] \n",
    "#transform the data (without the target variable) \n",
    "X = transformer.fit_transform(X)"
   ]
  },
  {
   "cell_type": "code",
   "execution_count": 9,
   "metadata": {},
   "outputs": [
    {
     "name": "stdout",
     "output_type": "stream",
     "text": [
      "Fitting 5 folds for each of 20 candidates, totalling 100 fits\n",
      "[CV] END learning_rate=0.1, max_depth=28, min_samples_leaf=7, min_samples_split=10, n_estimators=200; total time=  35.1s\n",
      "[CV] END learning_rate=0.1, max_depth=28, min_samples_leaf=7, min_samples_split=10, n_estimators=200; total time=  32.9s\n",
      "[CV] END learning_rate=0.1, max_depth=28, min_samples_leaf=7, min_samples_split=10, n_estimators=200; total time=  36.0s\n",
      "[CV] END learning_rate=0.1, max_depth=28, min_samples_leaf=7, min_samples_split=10, n_estimators=200; total time=  34.8s\n",
      "[CV] END learning_rate=0.1, max_depth=28, min_samples_leaf=7, min_samples_split=10, n_estimators=200; total time=  34.6s\n",
      "[CV] END learning_rate=0.1, max_depth=43, min_samples_leaf=2, min_samples_split=5, n_estimators=100; total time=  36.0s\n",
      "[CV] END learning_rate=0.1, max_depth=43, min_samples_leaf=2, min_samples_split=5, n_estimators=100; total time=  37.1s\n",
      "[CV] END learning_rate=0.1, max_depth=43, min_samples_leaf=2, min_samples_split=5, n_estimators=100; total time=  37.6s\n",
      "[CV] END learning_rate=0.1, max_depth=43, min_samples_leaf=2, min_samples_split=5, n_estimators=100; total time=  35.4s\n",
      "[CV] END learning_rate=0.1, max_depth=43, min_samples_leaf=2, min_samples_split=5, n_estimators=100; total time=  37.5s\n",
      "[CV] END learning_rate=0.1, max_depth=74, min_samples_leaf=2, min_samples_split=16, n_estimators=300; total time= 1.9min\n",
      "[CV] END learning_rate=0.1, max_depth=74, min_samples_leaf=2, min_samples_split=16, n_estimators=300; total time= 1.9min\n",
      "[CV] END learning_rate=0.1, max_depth=74, min_samples_leaf=2, min_samples_split=16, n_estimators=300; total time= 1.9min\n",
      "[CV] END learning_rate=0.1, max_depth=74, min_samples_leaf=2, min_samples_split=16, n_estimators=300; total time= 1.9min\n",
      "[CV] END learning_rate=0.1, max_depth=74, min_samples_leaf=2, min_samples_split=16, n_estimators=300; total time= 1.8min\n",
      "[CV] END learning_rate=0.1, max_depth=28, min_samples_leaf=7, min_samples_split=16, n_estimators=100; total time=  17.3s\n",
      "[CV] END learning_rate=0.1, max_depth=28, min_samples_leaf=7, min_samples_split=16, n_estimators=100; total time=  17.4s\n",
      "[CV] END learning_rate=0.1, max_depth=28, min_samples_leaf=7, min_samples_split=16, n_estimators=100; total time=  17.5s\n",
      "[CV] END learning_rate=0.1, max_depth=28, min_samples_leaf=7, min_samples_split=16, n_estimators=100; total time=  17.0s\n",
      "[CV] END learning_rate=0.1, max_depth=28, min_samples_leaf=7, min_samples_split=16, n_estimators=100; total time=  16.6s\n",
      "[CV] END learning_rate=0.1, max_depth=5, min_samples_leaf=7, min_samples_split=10, n_estimators=300; total time=   8.8s\n",
      "[CV] END learning_rate=0.1, max_depth=5, min_samples_leaf=7, min_samples_split=10, n_estimators=300; total time=   8.5s\n",
      "[CV] END learning_rate=0.1, max_depth=5, min_samples_leaf=7, min_samples_split=10, n_estimators=300; total time=   8.5s\n",
      "[CV] END learning_rate=0.1, max_depth=5, min_samples_leaf=7, min_samples_split=10, n_estimators=300; total time=   8.6s\n",
      "[CV] END learning_rate=0.1, max_depth=5, min_samples_leaf=7, min_samples_split=10, n_estimators=300; total time=   8.6s\n",
      "[CV] END learning_rate=0.1, max_depth=66, min_samples_leaf=7, min_samples_split=16, n_estimators=100; total time=  25.8s\n",
      "[CV] END learning_rate=0.1, max_depth=66, min_samples_leaf=7, min_samples_split=16, n_estimators=100; total time=  29.9s\n",
      "[CV] END learning_rate=0.1, max_depth=66, min_samples_leaf=7, min_samples_split=16, n_estimators=100; total time=  30.3s\n",
      "[CV] END learning_rate=0.1, max_depth=66, min_samples_leaf=7, min_samples_split=16, n_estimators=100; total time=  26.6s\n",
      "[CV] END learning_rate=0.1, max_depth=66, min_samples_leaf=7, min_samples_split=16, n_estimators=100; total time=  24.9s\n",
      "[CV] END learning_rate=0.1, max_depth=43, min_samples_leaf=7, min_samples_split=16, n_estimators=100; total time=  20.7s\n",
      "[CV] END learning_rate=0.1, max_depth=43, min_samples_leaf=7, min_samples_split=16, n_estimators=100; total time=  21.1s\n",
      "[CV] END learning_rate=0.1, max_depth=43, min_samples_leaf=7, min_samples_split=16, n_estimators=100; total time=  21.6s\n",
      "[CV] END learning_rate=0.1, max_depth=43, min_samples_leaf=7, min_samples_split=16, n_estimators=100; total time=  20.5s\n",
      "[CV] END learning_rate=0.1, max_depth=43, min_samples_leaf=7, min_samples_split=16, n_estimators=100; total time=  20.5s\n",
      "[CV] END learning_rate=0.01, max_depth=28, min_samples_leaf=2, min_samples_split=16, n_estimators=200; total time=  47.6s\n",
      "[CV] END learning_rate=0.01, max_depth=28, min_samples_leaf=2, min_samples_split=16, n_estimators=200; total time=  47.6s\n",
      "[CV] END learning_rate=0.01, max_depth=28, min_samples_leaf=2, min_samples_split=16, n_estimators=200; total time= 1.2min\n",
      "[CV] END learning_rate=0.01, max_depth=28, min_samples_leaf=2, min_samples_split=16, n_estimators=200; total time= 1.5min\n",
      "[CV] END learning_rate=0.01, max_depth=28, min_samples_leaf=2, min_samples_split=16, n_estimators=200; total time= 1.5min\n",
      "[CV] END learning_rate=0.01, max_depth=66, min_samples_leaf=4, min_samples_split=10, n_estimators=500; total time= 3.6min\n",
      "[CV] END learning_rate=0.01, max_depth=66, min_samples_leaf=4, min_samples_split=10, n_estimators=500; total time= 2.1min\n",
      "[CV] END learning_rate=0.01, max_depth=66, min_samples_leaf=4, min_samples_split=10, n_estimators=500; total time= 2.1min\n",
      "[CV] END learning_rate=0.01, max_depth=66, min_samples_leaf=4, min_samples_split=10, n_estimators=500; total time= 3.7min\n",
      "[CV] END learning_rate=0.01, max_depth=66, min_samples_leaf=4, min_samples_split=10, n_estimators=500; total time= 3.8min\n",
      "[CV] END learning_rate=0.01, max_depth=20, min_samples_leaf=7, min_samples_split=10, n_estimators=400; total time= 2.1min\n",
      "[CV] END learning_rate=0.01, max_depth=20, min_samples_leaf=7, min_samples_split=10, n_estimators=400; total time= 2.2min\n",
      "[CV] END learning_rate=0.01, max_depth=20, min_samples_leaf=7, min_samples_split=10, n_estimators=400; total time= 2.1min\n",
      "[CV] END learning_rate=0.01, max_depth=20, min_samples_leaf=7, min_samples_split=10, n_estimators=400; total time= 2.0min\n",
      "[CV] END learning_rate=0.01, max_depth=20, min_samples_leaf=7, min_samples_split=10, n_estimators=400; total time= 2.1min\n",
      "[CV] END learning_rate=0.1, max_depth=20, min_samples_leaf=4, min_samples_split=16, n_estimators=100; total time=  25.3s\n",
      "[CV] END learning_rate=0.1, max_depth=20, min_samples_leaf=4, min_samples_split=16, n_estimators=100; total time=  24.5s\n",
      "[CV] END learning_rate=0.1, max_depth=20, min_samples_leaf=4, min_samples_split=16, n_estimators=100; total time=  25.6s\n",
      "[CV] END learning_rate=0.1, max_depth=20, min_samples_leaf=4, min_samples_split=16, n_estimators=100; total time=  24.3s\n",
      "[CV] END learning_rate=0.1, max_depth=20, min_samples_leaf=4, min_samples_split=16, n_estimators=100; total time=  25.1s\n",
      "[CV] END learning_rate=0.01, max_depth=None, min_samples_leaf=4, min_samples_split=16, n_estimators=200; total time= 1.2min\n",
      "[CV] END learning_rate=0.01, max_depth=None, min_samples_leaf=4, min_samples_split=16, n_estimators=200; total time=  35.6s\n",
      "[CV] END learning_rate=0.01, max_depth=None, min_samples_leaf=4, min_samples_split=16, n_estimators=200; total time=  33.2s\n",
      "[CV] END learning_rate=0.01, max_depth=None, min_samples_leaf=4, min_samples_split=16, n_estimators=200; total time=  34.9s\n",
      "[CV] END learning_rate=0.01, max_depth=None, min_samples_leaf=4, min_samples_split=16, n_estimators=200; total time=  33.3s\n",
      "[CV] END learning_rate=0.01, max_depth=66, min_samples_leaf=7, min_samples_split=10, n_estimators=100; total time=  20.5s\n",
      "[CV] END learning_rate=0.01, max_depth=66, min_samples_leaf=7, min_samples_split=10, n_estimators=100; total time=  30.7s\n",
      "[CV] END learning_rate=0.01, max_depth=66, min_samples_leaf=7, min_samples_split=10, n_estimators=100; total time=  31.6s\n",
      "[CV] END learning_rate=0.01, max_depth=66, min_samples_leaf=7, min_samples_split=10, n_estimators=100; total time=  32.6s\n",
      "[CV] END learning_rate=0.01, max_depth=66, min_samples_leaf=7, min_samples_split=10, n_estimators=100; total time=  32.7s\n",
      "[CV] END learning_rate=0.01, max_depth=35, min_samples_leaf=7, min_samples_split=10, n_estimators=300; total time= 1.3min\n",
      "[CV] END learning_rate=0.01, max_depth=35, min_samples_leaf=7, min_samples_split=10, n_estimators=300; total time=  55.6s\n",
      "[CV] END learning_rate=0.01, max_depth=35, min_samples_leaf=7, min_samples_split=10, n_estimators=300; total time=  51.8s\n",
      "[CV] END learning_rate=0.01, max_depth=35, min_samples_leaf=7, min_samples_split=10, n_estimators=300; total time= 1.0min\n",
      "[CV] END learning_rate=0.01, max_depth=35, min_samples_leaf=7, min_samples_split=10, n_estimators=300; total time= 1.0min\n",
      "[CV] END learning_rate=0.1, max_depth=None, min_samples_leaf=4, min_samples_split=5, n_estimators=300; total time= 1.6min\n",
      "[CV] END learning_rate=0.1, max_depth=None, min_samples_leaf=4, min_samples_split=5, n_estimators=300; total time= 1.7min\n",
      "[CV] END learning_rate=0.1, max_depth=None, min_samples_leaf=4, min_samples_split=5, n_estimators=300; total time= 1.8min\n",
      "[CV] END learning_rate=0.1, max_depth=None, min_samples_leaf=4, min_samples_split=5, n_estimators=300; total time= 3.1min\n",
      "[CV] END learning_rate=0.1, max_depth=None, min_samples_leaf=4, min_samples_split=5, n_estimators=300; total time= 3.2min\n",
      "[CV] END learning_rate=0.1, max_depth=43, min_samples_leaf=7, min_samples_split=10, n_estimators=100; total time=  40.3s\n",
      "[CV] END learning_rate=0.1, max_depth=43, min_samples_leaf=7, min_samples_split=10, n_estimators=100; total time=  41.4s\n",
      "[CV] END learning_rate=0.1, max_depth=43, min_samples_leaf=7, min_samples_split=10, n_estimators=100; total time=  41.7s\n",
      "[CV] END learning_rate=0.1, max_depth=43, min_samples_leaf=7, min_samples_split=10, n_estimators=100; total time=  41.2s\n",
      "[CV] END learning_rate=0.1, max_depth=43, min_samples_leaf=7, min_samples_split=10, n_estimators=100; total time=  40.9s\n",
      "[CV] END learning_rate=0.1, max_depth=20, min_samples_leaf=7, min_samples_split=10, n_estimators=100; total time=  24.7s\n",
      "[CV] END learning_rate=0.1, max_depth=20, min_samples_leaf=7, min_samples_split=10, n_estimators=100; total time=  24.9s\n",
      "[CV] END learning_rate=0.1, max_depth=20, min_samples_leaf=7, min_samples_split=10, n_estimators=100; total time=  25.1s\n",
      "[CV] END learning_rate=0.1, max_depth=20, min_samples_leaf=7, min_samples_split=10, n_estimators=100; total time=  24.6s\n",
      "[CV] END learning_rate=0.1, max_depth=20, min_samples_leaf=7, min_samples_split=10, n_estimators=100; total time=  25.2s\n",
      "[CV] END learning_rate=0.1, max_depth=5, min_samples_leaf=2, min_samples_split=10, n_estimators=200; total time=  10.1s\n",
      "[CV] END learning_rate=0.1, max_depth=5, min_samples_leaf=2, min_samples_split=10, n_estimators=200; total time=   9.6s\n",
      "[CV] END learning_rate=0.1, max_depth=5, min_samples_leaf=2, min_samples_split=10, n_estimators=200; total time=   9.9s\n",
      "[CV] END learning_rate=0.1, max_depth=5, min_samples_leaf=2, min_samples_split=10, n_estimators=200; total time=  10.0s\n",
      "[CV] END learning_rate=0.1, max_depth=5, min_samples_leaf=2, min_samples_split=10, n_estimators=200; total time=   9.8s\n",
      "[CV] END learning_rate=0.01, max_depth=5, min_samples_leaf=7, min_samples_split=10, n_estimators=500; total time=  30.6s\n",
      "[CV] END learning_rate=0.01, max_depth=5, min_samples_leaf=7, min_samples_split=10, n_estimators=500; total time=  31.2s\n",
      "[CV] END learning_rate=0.01, max_depth=5, min_samples_leaf=7, min_samples_split=10, n_estimators=500; total time=  30.6s\n",
      "[CV] END learning_rate=0.01, max_depth=5, min_samples_leaf=7, min_samples_split=10, n_estimators=500; total time=  31.2s\n",
      "[CV] END learning_rate=0.01, max_depth=5, min_samples_leaf=7, min_samples_split=10, n_estimators=500; total time=  29.4s\n",
      "[CV] END learning_rate=0.1, max_depth=51, min_samples_leaf=4, min_samples_split=5, n_estimators=200; total time= 1.1min\n",
      "[CV] END learning_rate=0.1, max_depth=51, min_samples_leaf=4, min_samples_split=5, n_estimators=200; total time= 1.0min\n",
      "[CV] END learning_rate=0.1, max_depth=51, min_samples_leaf=4, min_samples_split=5, n_estimators=200; total time= 1.8min\n",
      "[CV] END learning_rate=0.1, max_depth=51, min_samples_leaf=4, min_samples_split=5, n_estimators=200; total time= 1.8min\n",
      "[CV] END learning_rate=0.1, max_depth=51, min_samples_leaf=4, min_samples_split=5, n_estimators=200; total time= 1.7min\n"
     ]
    },
    {
     "data": {
      "text/html": [
       "<style>#sk-container-id-1 {color: black;background-color: white;}#sk-container-id-1 pre{padding: 0;}#sk-container-id-1 div.sk-toggleable {background-color: white;}#sk-container-id-1 label.sk-toggleable__label {cursor: pointer;display: block;width: 100%;margin-bottom: 0;padding: 0.3em;box-sizing: border-box;text-align: center;}#sk-container-id-1 label.sk-toggleable__label-arrow:before {content: \"▸\";float: left;margin-right: 0.25em;color: #696969;}#sk-container-id-1 label.sk-toggleable__label-arrow:hover:before {color: black;}#sk-container-id-1 div.sk-estimator:hover label.sk-toggleable__label-arrow:before {color: black;}#sk-container-id-1 div.sk-toggleable__content {max-height: 0;max-width: 0;overflow: hidden;text-align: left;background-color: #f0f8ff;}#sk-container-id-1 div.sk-toggleable__content pre {margin: 0.2em;color: black;border-radius: 0.25em;background-color: #f0f8ff;}#sk-container-id-1 input.sk-toggleable__control:checked~div.sk-toggleable__content {max-height: 200px;max-width: 100%;overflow: auto;}#sk-container-id-1 input.sk-toggleable__control:checked~label.sk-toggleable__label-arrow:before {content: \"▾\";}#sk-container-id-1 div.sk-estimator input.sk-toggleable__control:checked~label.sk-toggleable__label {background-color: #d4ebff;}#sk-container-id-1 div.sk-label input.sk-toggleable__control:checked~label.sk-toggleable__label {background-color: #d4ebff;}#sk-container-id-1 input.sk-hidden--visually {border: 0;clip: rect(1px 1px 1px 1px);clip: rect(1px, 1px, 1px, 1px);height: 1px;margin: -1px;overflow: hidden;padding: 0;position: absolute;width: 1px;}#sk-container-id-1 div.sk-estimator {font-family: monospace;background-color: #f0f8ff;border: 1px dotted black;border-radius: 0.25em;box-sizing: border-box;margin-bottom: 0.5em;}#sk-container-id-1 div.sk-estimator:hover {background-color: #d4ebff;}#sk-container-id-1 div.sk-parallel-item::after {content: \"\";width: 100%;border-bottom: 1px solid gray;flex-grow: 1;}#sk-container-id-1 div.sk-label:hover label.sk-toggleable__label {background-color: #d4ebff;}#sk-container-id-1 div.sk-serial::before {content: \"\";position: absolute;border-left: 1px solid gray;box-sizing: border-box;top: 0;bottom: 0;left: 50%;z-index: 0;}#sk-container-id-1 div.sk-serial {display: flex;flex-direction: column;align-items: center;background-color: white;padding-right: 0.2em;padding-left: 0.2em;position: relative;}#sk-container-id-1 div.sk-item {position: relative;z-index: 1;}#sk-container-id-1 div.sk-parallel {display: flex;align-items: stretch;justify-content: center;background-color: white;position: relative;}#sk-container-id-1 div.sk-item::before, #sk-container-id-1 div.sk-parallel-item::before {content: \"\";position: absolute;border-left: 1px solid gray;box-sizing: border-box;top: 0;bottom: 0;left: 50%;z-index: -1;}#sk-container-id-1 div.sk-parallel-item {display: flex;flex-direction: column;z-index: 1;position: relative;background-color: white;}#sk-container-id-1 div.sk-parallel-item:first-child::after {align-self: flex-end;width: 50%;}#sk-container-id-1 div.sk-parallel-item:last-child::after {align-self: flex-start;width: 50%;}#sk-container-id-1 div.sk-parallel-item:only-child::after {width: 0;}#sk-container-id-1 div.sk-dashed-wrapped {border: 1px dashed gray;margin: 0 0.4em 0.5em 0.4em;box-sizing: border-box;padding-bottom: 0.4em;background-color: white;}#sk-container-id-1 div.sk-label label {font-family: monospace;font-weight: bold;display: inline-block;line-height: 1.2em;}#sk-container-id-1 div.sk-label-container {text-align: center;}#sk-container-id-1 div.sk-container {/* jupyter's `normalize.less` sets `[hidden] { display: none; }` but bootstrap.min.css set `[hidden] { display: none !important; }` so we also need the `!important` here to be able to override the default hidden behavior on the sphinx rendered scikit-learn.org. See: https://github.com/scikit-learn/scikit-learn/issues/21755 */display: inline-block !important;position: relative;}#sk-container-id-1 div.sk-text-repr-fallback {display: none;}</style><div id=\"sk-container-id-1\" class=\"sk-top-container\"><div class=\"sk-text-repr-fallback\"><pre>RandomizedSearchCV(cv=5, estimator=GradientBoostingRegressor(), n_iter=20,\n",
       "                   n_jobs=1,\n",
       "                   param_distributions={&#x27;learning_rate&#x27;: [0.01, 0.1],\n",
       "                                        &#x27;max_depth&#x27;: [5, 12, 20, 28, 35, 43, 51,\n",
       "                                                      58, 66, 74, None],\n",
       "                                        &#x27;min_samples_leaf&#x27;: [2, 4, 7],\n",
       "                                        &#x27;min_samples_split&#x27;: [5, 10, 16],\n",
       "                                        &#x27;n_estimators&#x27;: [100, 200, 300, 400,\n",
       "                                                         500]},\n",
       "                   verbose=2)</pre><b>In a Jupyter environment, please rerun this cell to show the HTML representation or trust the notebook. <br />On GitHub, the HTML representation is unable to render, please try loading this page with nbviewer.org.</b></div><div class=\"sk-container\" hidden><div class=\"sk-item sk-dashed-wrapped\"><div class=\"sk-label-container\"><div class=\"sk-label sk-toggleable\"><input class=\"sk-toggleable__control sk-hidden--visually\" id=\"sk-estimator-id-1\" type=\"checkbox\" ><label for=\"sk-estimator-id-1\" class=\"sk-toggleable__label sk-toggleable__label-arrow\">RandomizedSearchCV</label><div class=\"sk-toggleable__content\"><pre>RandomizedSearchCV(cv=5, estimator=GradientBoostingRegressor(), n_iter=20,\n",
       "                   n_jobs=1,\n",
       "                   param_distributions={&#x27;learning_rate&#x27;: [0.01, 0.1],\n",
       "                                        &#x27;max_depth&#x27;: [5, 12, 20, 28, 35, 43, 51,\n",
       "                                                      58, 66, 74, None],\n",
       "                                        &#x27;min_samples_leaf&#x27;: [2, 4, 7],\n",
       "                                        &#x27;min_samples_split&#x27;: [5, 10, 16],\n",
       "                                        &#x27;n_estimators&#x27;: [100, 200, 300, 400,\n",
       "                                                         500]},\n",
       "                   verbose=2)</pre></div></div></div><div class=\"sk-parallel\"><div class=\"sk-parallel-item\"><div class=\"sk-item\"><div class=\"sk-label-container\"><div class=\"sk-label sk-toggleable\"><input class=\"sk-toggleable__control sk-hidden--visually\" id=\"sk-estimator-id-2\" type=\"checkbox\" ><label for=\"sk-estimator-id-2\" class=\"sk-toggleable__label sk-toggleable__label-arrow\">estimator: GradientBoostingRegressor</label><div class=\"sk-toggleable__content\"><pre>GradientBoostingRegressor()</pre></div></div></div><div class=\"sk-serial\"><div class=\"sk-item\"><div class=\"sk-estimator sk-toggleable\"><input class=\"sk-toggleable__control sk-hidden--visually\" id=\"sk-estimator-id-3\" type=\"checkbox\" ><label for=\"sk-estimator-id-3\" class=\"sk-toggleable__label sk-toggleable__label-arrow\">GradientBoostingRegressor</label><div class=\"sk-toggleable__content\"><pre>GradientBoostingRegressor()</pre></div></div></div></div></div></div></div></div></div></div>"
      ],
      "text/plain": [
       "RandomizedSearchCV(cv=5, estimator=GradientBoostingRegressor(), n_iter=20,\n",
       "                   n_jobs=1,\n",
       "                   param_distributions={'learning_rate': [0.01, 0.1],\n",
       "                                        'max_depth': [5, 12, 20, 28, 35, 43, 51,\n",
       "                                                      58, 66, 74, None],\n",
       "                                        'min_samples_leaf': [2, 4, 7],\n",
       "                                        'min_samples_split': [5, 10, 16],\n",
       "                                        'n_estimators': [100, 200, 300, 400,\n",
       "                                                         500]},\n",
       "                   verbose=2)"
      ]
     },
     "execution_count": 9,
     "metadata": {},
     "output_type": "execute_result"
    }
   ],
   "source": [
    "gbt_random.fit(X, y)"
   ]
  },
  {
   "cell_type": "code",
   "execution_count": 10,
   "metadata": {},
   "outputs": [
    {
     "data": {
      "text/html": [
       "<style>#sk-container-id-2 {color: black;background-color: white;}#sk-container-id-2 pre{padding: 0;}#sk-container-id-2 div.sk-toggleable {background-color: white;}#sk-container-id-2 label.sk-toggleable__label {cursor: pointer;display: block;width: 100%;margin-bottom: 0;padding: 0.3em;box-sizing: border-box;text-align: center;}#sk-container-id-2 label.sk-toggleable__label-arrow:before {content: \"▸\";float: left;margin-right: 0.25em;color: #696969;}#sk-container-id-2 label.sk-toggleable__label-arrow:hover:before {color: black;}#sk-container-id-2 div.sk-estimator:hover label.sk-toggleable__label-arrow:before {color: black;}#sk-container-id-2 div.sk-toggleable__content {max-height: 0;max-width: 0;overflow: hidden;text-align: left;background-color: #f0f8ff;}#sk-container-id-2 div.sk-toggleable__content pre {margin: 0.2em;color: black;border-radius: 0.25em;background-color: #f0f8ff;}#sk-container-id-2 input.sk-toggleable__control:checked~div.sk-toggleable__content {max-height: 200px;max-width: 100%;overflow: auto;}#sk-container-id-2 input.sk-toggleable__control:checked~label.sk-toggleable__label-arrow:before {content: \"▾\";}#sk-container-id-2 div.sk-estimator input.sk-toggleable__control:checked~label.sk-toggleable__label {background-color: #d4ebff;}#sk-container-id-2 div.sk-label input.sk-toggleable__control:checked~label.sk-toggleable__label {background-color: #d4ebff;}#sk-container-id-2 input.sk-hidden--visually {border: 0;clip: rect(1px 1px 1px 1px);clip: rect(1px, 1px, 1px, 1px);height: 1px;margin: -1px;overflow: hidden;padding: 0;position: absolute;width: 1px;}#sk-container-id-2 div.sk-estimator {font-family: monospace;background-color: #f0f8ff;border: 1px dotted black;border-radius: 0.25em;box-sizing: border-box;margin-bottom: 0.5em;}#sk-container-id-2 div.sk-estimator:hover {background-color: #d4ebff;}#sk-container-id-2 div.sk-parallel-item::after {content: \"\";width: 100%;border-bottom: 1px solid gray;flex-grow: 1;}#sk-container-id-2 div.sk-label:hover label.sk-toggleable__label {background-color: #d4ebff;}#sk-container-id-2 div.sk-serial::before {content: \"\";position: absolute;border-left: 1px solid gray;box-sizing: border-box;top: 0;bottom: 0;left: 50%;z-index: 0;}#sk-container-id-2 div.sk-serial {display: flex;flex-direction: column;align-items: center;background-color: white;padding-right: 0.2em;padding-left: 0.2em;position: relative;}#sk-container-id-2 div.sk-item {position: relative;z-index: 1;}#sk-container-id-2 div.sk-parallel {display: flex;align-items: stretch;justify-content: center;background-color: white;position: relative;}#sk-container-id-2 div.sk-item::before, #sk-container-id-2 div.sk-parallel-item::before {content: \"\";position: absolute;border-left: 1px solid gray;box-sizing: border-box;top: 0;bottom: 0;left: 50%;z-index: -1;}#sk-container-id-2 div.sk-parallel-item {display: flex;flex-direction: column;z-index: 1;position: relative;background-color: white;}#sk-container-id-2 div.sk-parallel-item:first-child::after {align-self: flex-end;width: 50%;}#sk-container-id-2 div.sk-parallel-item:last-child::after {align-self: flex-start;width: 50%;}#sk-container-id-2 div.sk-parallel-item:only-child::after {width: 0;}#sk-container-id-2 div.sk-dashed-wrapped {border: 1px dashed gray;margin: 0 0.4em 0.5em 0.4em;box-sizing: border-box;padding-bottom: 0.4em;background-color: white;}#sk-container-id-2 div.sk-label label {font-family: monospace;font-weight: bold;display: inline-block;line-height: 1.2em;}#sk-container-id-2 div.sk-label-container {text-align: center;}#sk-container-id-2 div.sk-container {/* jupyter's `normalize.less` sets `[hidden] { display: none; }` but bootstrap.min.css set `[hidden] { display: none !important; }` so we also need the `!important` here to be able to override the default hidden behavior on the sphinx rendered scikit-learn.org. See: https://github.com/scikit-learn/scikit-learn/issues/21755 */display: inline-block !important;position: relative;}#sk-container-id-2 div.sk-text-repr-fallback {display: none;}</style><div id=\"sk-container-id-2\" class=\"sk-top-container\"><div class=\"sk-text-repr-fallback\"><pre>GradientBoostingRegressor(max_depth=5, min_samples_leaf=2, min_samples_split=10,\n",
       "                          n_estimators=200)</pre><b>In a Jupyter environment, please rerun this cell to show the HTML representation or trust the notebook. <br />On GitHub, the HTML representation is unable to render, please try loading this page with nbviewer.org.</b></div><div class=\"sk-container\" hidden><div class=\"sk-item\"><div class=\"sk-estimator sk-toggleable\"><input class=\"sk-toggleable__control sk-hidden--visually\" id=\"sk-estimator-id-4\" type=\"checkbox\" checked><label for=\"sk-estimator-id-4\" class=\"sk-toggleable__label sk-toggleable__label-arrow\">GradientBoostingRegressor</label><div class=\"sk-toggleable__content\"><pre>GradientBoostingRegressor(max_depth=5, min_samples_leaf=2, min_samples_split=10,\n",
       "                          n_estimators=200)</pre></div></div></div></div></div>"
      ],
      "text/plain": [
       "GradientBoostingRegressor(max_depth=5, min_samples_leaf=2, min_samples_split=10,\n",
       "                          n_estimators=200)"
      ]
     },
     "execution_count": 10,
     "metadata": {},
     "output_type": "execute_result"
    }
   ],
   "source": [
    "best_gbt_model = gbt_random.best_estimator_\n",
    "best_gbt_model"
   ]
  },
  {
   "cell_type": "code",
   "execution_count": 11,
   "metadata": {},
   "outputs": [
    {
     "data": {
      "text/plain": [
       "{'n_estimators': 200,\n",
       " 'min_samples_split': 10,\n",
       " 'min_samples_leaf': 2,\n",
       " 'max_depth': 5,\n",
       " 'learning_rate': 0.1}"
      ]
     },
     "execution_count": 11,
     "metadata": {},
     "output_type": "execute_result"
    }
   ],
   "source": [
    "gbt_random.best_params_"
   ]
  },
  {
   "cell_type": "code",
   "execution_count": 12,
   "metadata": {},
   "outputs": [
    {
     "name": "stdout",
     "output_type": "stream",
     "text": [
      "{'learning_rate': 0.1,\n",
      " 'max_depth': 5,\n",
      " 'min_samples_leaf': 2,\n",
      " 'min_samples_split': 10,\n",
      " 'n_estimators': 200}\n"
     ]
    }
   ],
   "source": [
    "# pprint(f\"Best parameters:\\n {gbt_random.best_params_}\\n\\n Best score\\n {gbt_random.best_score_}\")\n",
    "pprint(gbt_random.best_params_)"
   ]
  },
  {
   "cell_type": "code",
   "execution_count": 13,
   "metadata": {},
   "outputs": [
    {
     "name": "stdout",
     "output_type": "stream",
     "text": [
      "Best parameters:\n",
      " {'n_estimators': 200, 'min_samples_split': 10, 'min_samples_leaf': 2, 'max_depth': 5, 'learning_rate': 0.1}\n",
      "\n",
      " Best score\n",
      " 0.7992584243500028\n"
     ]
    }
   ],
   "source": [
    "print(f\"Best parameters:\\n {gbt_random.best_params_}\\n\\n Best score\\n {gbt_random.best_score_}\")"
   ]
  },
  {
   "cell_type": "code",
   "execution_count": 72,
   "metadata": {},
   "outputs": [
    {
     "name": "stdout",
     "output_type": "stream",
     "text": [
      "Fitting 5 folds for each of 20 candidates, totalling 100 fits\n",
      "[CV] END learning_rate=0.1, max_depth=5, min_samples_leaf=2, min_samples_split=32, n_estimators=400; total time=   7.4s\n",
      "[CV] END learning_rate=0.1, max_depth=5, min_samples_leaf=2, min_samples_split=32, n_estimators=400; total time=   7.2s\n",
      "[CV] END learning_rate=0.1, max_depth=5, min_samples_leaf=2, min_samples_split=32, n_estimators=400; total time=   7.1s\n",
      "[CV] END learning_rate=0.1, max_depth=5, min_samples_leaf=2, min_samples_split=32, n_estimators=400; total time=   8.4s\n",
      "[CV] END learning_rate=0.1, max_depth=5, min_samples_leaf=2, min_samples_split=32, n_estimators=400; total time=   8.5s\n",
      "[CV] END learning_rate=0.1, max_depth=5, min_samples_leaf=4, min_samples_split=16, n_estimators=400; total time=   8.4s\n",
      "[CV] END learning_rate=0.1, max_depth=5, min_samples_leaf=4, min_samples_split=16, n_estimators=400; total time=   8.4s\n",
      "[CV] END learning_rate=0.1, max_depth=5, min_samples_leaf=4, min_samples_split=16, n_estimators=400; total time=   8.4s\n",
      "[CV] END learning_rate=0.1, max_depth=5, min_samples_leaf=4, min_samples_split=16, n_estimators=400; total time=   8.2s\n",
      "[CV] END learning_rate=0.1, max_depth=5, min_samples_leaf=4, min_samples_split=16, n_estimators=400; total time=   7.8s\n",
      "[CV] END learning_rate=0.01, max_depth=None, min_samples_leaf=2, min_samples_split=16, n_estimators=100; total time=  20.4s\n",
      "[CV] END learning_rate=0.01, max_depth=None, min_samples_leaf=2, min_samples_split=16, n_estimators=100; total time=  20.0s\n",
      "[CV] END learning_rate=0.01, max_depth=None, min_samples_leaf=2, min_samples_split=16, n_estimators=100; total time=  20.1s\n",
      "[CV] END learning_rate=0.01, max_depth=None, min_samples_leaf=2, min_samples_split=16, n_estimators=100; total time=  20.2s\n",
      "[CV] END learning_rate=0.01, max_depth=None, min_samples_leaf=2, min_samples_split=16, n_estimators=100; total time=  21.1s\n",
      "[CV] END learning_rate=0.01, max_depth=5, min_samples_leaf=7, min_samples_split=10, n_estimators=500; total time=  12.6s\n",
      "[CV] END learning_rate=0.01, max_depth=5, min_samples_leaf=7, min_samples_split=10, n_estimators=500; total time=  12.4s\n",
      "[CV] END learning_rate=0.01, max_depth=5, min_samples_leaf=7, min_samples_split=10, n_estimators=500; total time=  12.2s\n",
      "[CV] END learning_rate=0.01, max_depth=5, min_samples_leaf=7, min_samples_split=10, n_estimators=500; total time=  12.1s\n",
      "[CV] END learning_rate=0.01, max_depth=5, min_samples_leaf=7, min_samples_split=10, n_estimators=500; total time=  11.8s\n",
      "[CV] END learning_rate=0.1, max_depth=None, min_samples_leaf=4, min_samples_split=16, n_estimators=200; total time=  44.9s\n",
      "[CV] END learning_rate=0.1, max_depth=None, min_samples_leaf=4, min_samples_split=16, n_estimators=200; total time=  44.3s\n",
      "[CV] END learning_rate=0.1, max_depth=None, min_samples_leaf=4, min_samples_split=16, n_estimators=200; total time=  44.8s\n",
      "[CV] END learning_rate=0.1, max_depth=None, min_samples_leaf=4, min_samples_split=16, n_estimators=200; total time=  46.1s\n",
      "[CV] END learning_rate=0.1, max_depth=None, min_samples_leaf=4, min_samples_split=16, n_estimators=200; total time=  46.1s\n",
      "[CV] END learning_rate=0.01, max_depth=66, min_samples_leaf=2, min_samples_split=10, n_estimators=200; total time=  46.6s\n",
      "[CV] END learning_rate=0.01, max_depth=66, min_samples_leaf=2, min_samples_split=10, n_estimators=200; total time=  49.2s\n",
      "[CV] END learning_rate=0.01, max_depth=66, min_samples_leaf=2, min_samples_split=10, n_estimators=200; total time=  45.6s\n",
      "[CV] END learning_rate=0.01, max_depth=66, min_samples_leaf=2, min_samples_split=10, n_estimators=200; total time=  44.0s\n",
      "[CV] END learning_rate=0.01, max_depth=66, min_samples_leaf=2, min_samples_split=10, n_estimators=200; total time=  47.2s\n",
      "[CV] END learning_rate=0.01, max_depth=74, min_samples_leaf=2, min_samples_split=10, n_estimators=400; total time= 1.7min\n",
      "[CV] END learning_rate=0.01, max_depth=74, min_samples_leaf=2, min_samples_split=10, n_estimators=400; total time= 1.7min\n",
      "[CV] END learning_rate=0.01, max_depth=74, min_samples_leaf=2, min_samples_split=10, n_estimators=400; total time= 1.6min\n",
      "[CV] END learning_rate=0.01, max_depth=74, min_samples_leaf=2, min_samples_split=10, n_estimators=400; total time= 2.1min\n",
      "[CV] END learning_rate=0.01, max_depth=74, min_samples_leaf=2, min_samples_split=10, n_estimators=400; total time= 2.6min\n",
      "[CV] END learning_rate=0.1, max_depth=35, min_samples_leaf=7, min_samples_split=5, n_estimators=100; total time=  22.8s\n",
      "[CV] END learning_rate=0.1, max_depth=35, min_samples_leaf=7, min_samples_split=5, n_estimators=100; total time=  25.7s\n",
      "[CV] END learning_rate=0.1, max_depth=35, min_samples_leaf=7, min_samples_split=5, n_estimators=100; total time=  26.1s\n",
      "[CV] END learning_rate=0.1, max_depth=35, min_samples_leaf=7, min_samples_split=5, n_estimators=100; total time=  25.5s\n",
      "[CV] END learning_rate=0.1, max_depth=35, min_samples_leaf=7, min_samples_split=5, n_estimators=100; total time=  25.8s\n",
      "[CV] END learning_rate=0.01, max_depth=12, min_samples_leaf=2, min_samples_split=32, n_estimators=400; total time=  41.8s\n",
      "[CV] END learning_rate=0.01, max_depth=12, min_samples_leaf=2, min_samples_split=32, n_estimators=400; total time=  46.5s\n",
      "[CV] END learning_rate=0.01, max_depth=12, min_samples_leaf=2, min_samples_split=32, n_estimators=400; total time=  47.0s\n",
      "[CV] END learning_rate=0.01, max_depth=12, min_samples_leaf=2, min_samples_split=32, n_estimators=400; total time=  50.1s\n",
      "[CV] END learning_rate=0.01, max_depth=12, min_samples_leaf=2, min_samples_split=32, n_estimators=400; total time=  48.4s\n",
      "[CV] END learning_rate=0.01, max_depth=66, min_samples_leaf=4, min_samples_split=10, n_estimators=200; total time= 1.1min\n",
      "[CV] END learning_rate=0.01, max_depth=66, min_samples_leaf=4, min_samples_split=10, n_estimators=200; total time= 1.1min\n",
      "[CV] END learning_rate=0.01, max_depth=66, min_samples_leaf=4, min_samples_split=10, n_estimators=200; total time= 1.1min\n",
      "[CV] END learning_rate=0.01, max_depth=66, min_samples_leaf=4, min_samples_split=10, n_estimators=200; total time= 1.0min\n",
      "[CV] END learning_rate=0.01, max_depth=66, min_samples_leaf=4, min_samples_split=10, n_estimators=200; total time= 1.0min\n",
      "[CV] END learning_rate=0.01, max_depth=28, min_samples_leaf=4, min_samples_split=16, n_estimators=100; total time=  28.7s\n",
      "[CV] END learning_rate=0.01, max_depth=28, min_samples_leaf=4, min_samples_split=16, n_estimators=100; total time=  27.4s\n",
      "[CV] END learning_rate=0.01, max_depth=28, min_samples_leaf=4, min_samples_split=16, n_estimators=100; total time=  29.0s\n",
      "[CV] END learning_rate=0.01, max_depth=28, min_samples_leaf=4, min_samples_split=16, n_estimators=100; total time=  26.8s\n",
      "[CV] END learning_rate=0.01, max_depth=28, min_samples_leaf=4, min_samples_split=16, n_estimators=100; total time=  26.0s\n",
      "[CV] END learning_rate=0.01, max_depth=28, min_samples_leaf=2, min_samples_split=5, n_estimators=500; total time= 2.7min\n",
      "[CV] END learning_rate=0.01, max_depth=28, min_samples_leaf=2, min_samples_split=5, n_estimators=500; total time= 2.8min\n",
      "[CV] END learning_rate=0.01, max_depth=28, min_samples_leaf=2, min_samples_split=5, n_estimators=500; total time= 1.9min\n",
      "[CV] END learning_rate=0.01, max_depth=28, min_samples_leaf=2, min_samples_split=5, n_estimators=500; total time= 1.9min\n",
      "[CV] END learning_rate=0.01, max_depth=28, min_samples_leaf=2, min_samples_split=5, n_estimators=500; total time= 1.8min\n",
      "[CV] END learning_rate=0.01, max_depth=66, min_samples_leaf=2, min_samples_split=10, n_estimators=100; total time=  21.3s\n",
      "[CV] END learning_rate=0.01, max_depth=66, min_samples_leaf=2, min_samples_split=10, n_estimators=100; total time=  21.8s\n",
      "[CV] END learning_rate=0.01, max_depth=66, min_samples_leaf=2, min_samples_split=10, n_estimators=100; total time=  20.2s\n",
      "[CV] END learning_rate=0.01, max_depth=66, min_samples_leaf=2, min_samples_split=10, n_estimators=100; total time=  20.8s\n",
      "[CV] END learning_rate=0.01, max_depth=66, min_samples_leaf=2, min_samples_split=10, n_estimators=100; total time=  20.9s\n",
      "[CV] END learning_rate=0.01, max_depth=58, min_samples_leaf=4, min_samples_split=16, n_estimators=200; total time=  33.4s\n",
      "[CV] END learning_rate=0.01, max_depth=58, min_samples_leaf=4, min_samples_split=16, n_estimators=200; total time=  33.4s\n",
      "[CV] END learning_rate=0.01, max_depth=58, min_samples_leaf=4, min_samples_split=16, n_estimators=200; total time=  33.9s\n",
      "[CV] END learning_rate=0.01, max_depth=58, min_samples_leaf=4, min_samples_split=16, n_estimators=200; total time=  33.3s\n",
      "[CV] END learning_rate=0.01, max_depth=58, min_samples_leaf=4, min_samples_split=16, n_estimators=200; total time=  32.9s\n",
      "[CV] END learning_rate=0.1, max_depth=58, min_samples_leaf=4, min_samples_split=10, n_estimators=100; total time=  21.0s\n",
      "[CV] END learning_rate=0.1, max_depth=58, min_samples_leaf=4, min_samples_split=10, n_estimators=100; total time=  21.1s\n",
      "[CV] END learning_rate=0.1, max_depth=58, min_samples_leaf=4, min_samples_split=10, n_estimators=100; total time=  21.3s\n",
      "[CV] END learning_rate=0.1, max_depth=58, min_samples_leaf=4, min_samples_split=10, n_estimators=100; total time=  21.0s\n",
      "[CV] END learning_rate=0.1, max_depth=58, min_samples_leaf=4, min_samples_split=10, n_estimators=100; total time=  20.8s\n",
      "[CV] END learning_rate=0.1, max_depth=28, min_samples_leaf=7, min_samples_split=10, n_estimators=300; total time=  34.4s\n",
      "[CV] END learning_rate=0.1, max_depth=28, min_samples_leaf=7, min_samples_split=10, n_estimators=300; total time=  35.1s\n",
      "[CV] END learning_rate=0.1, max_depth=28, min_samples_leaf=7, min_samples_split=10, n_estimators=300; total time=  35.4s\n",
      "[CV] END learning_rate=0.1, max_depth=28, min_samples_leaf=7, min_samples_split=10, n_estimators=300; total time=  34.6s\n",
      "[CV] END learning_rate=0.1, max_depth=28, min_samples_leaf=7, min_samples_split=10, n_estimators=300; total time=  35.5s\n",
      "[CV] END learning_rate=0.1, max_depth=28, min_samples_leaf=7, min_samples_split=16, n_estimators=100; total time=  11.7s\n",
      "[CV] END learning_rate=0.1, max_depth=28, min_samples_leaf=7, min_samples_split=16, n_estimators=100; total time=  12.5s\n",
      "[CV] END learning_rate=0.1, max_depth=28, min_samples_leaf=7, min_samples_split=16, n_estimators=100; total time=  13.0s\n",
      "[CV] END learning_rate=0.1, max_depth=28, min_samples_leaf=7, min_samples_split=16, n_estimators=100; total time=  12.0s\n",
      "[CV] END learning_rate=0.1, max_depth=28, min_samples_leaf=7, min_samples_split=16, n_estimators=100; total time=101.0min\n",
      "[CV] END learning_rate=0.1, max_depth=12, min_samples_leaf=2, min_samples_split=16, n_estimators=100; total time=   4.8s\n",
      "[CV] END learning_rate=0.1, max_depth=12, min_samples_leaf=2, min_samples_split=16, n_estimators=100; total time=   4.9s\n",
      "[CV] END learning_rate=0.1, max_depth=12, min_samples_leaf=2, min_samples_split=16, n_estimators=100; total time=   5.5s\n",
      "[CV] END learning_rate=0.1, max_depth=12, min_samples_leaf=2, min_samples_split=16, n_estimators=100; total time=   5.4s\n",
      "[CV] END learning_rate=0.1, max_depth=12, min_samples_leaf=2, min_samples_split=16, n_estimators=100; total time=   6.3s\n",
      "[CV] END learning_rate=0.1, max_depth=None, min_samples_leaf=2, min_samples_split=32, n_estimators=100; total time=  26.4s\n",
      "[CV] END learning_rate=0.1, max_depth=None, min_samples_leaf=2, min_samples_split=32, n_estimators=100; total time=  20.5s\n",
      "[CV] END learning_rate=0.1, max_depth=None, min_samples_leaf=2, min_samples_split=32, n_estimators=100; total time=  20.1s\n",
      "[CV] END learning_rate=0.1, max_depth=None, min_samples_leaf=2, min_samples_split=32, n_estimators=100; total time=  21.0s\n",
      "[CV] END learning_rate=0.1, max_depth=None, min_samples_leaf=2, min_samples_split=32, n_estimators=100; total time=  22.3s\n",
      "[CV] END learning_rate=0.01, max_depth=35, min_samples_leaf=7, min_samples_split=10, n_estimators=200; total time=  29.1s\n",
      "[CV] END learning_rate=0.01, max_depth=35, min_samples_leaf=7, min_samples_split=10, n_estimators=200; total time=  30.4s\n",
      "[CV] END learning_rate=0.01, max_depth=35, min_samples_leaf=7, min_samples_split=10, n_estimators=200; total time=  29.8s\n",
      "[CV] END learning_rate=0.01, max_depth=35, min_samples_leaf=7, min_samples_split=10, n_estimators=200; total time=  29.0s\n",
      "[CV] END learning_rate=0.01, max_depth=35, min_samples_leaf=7, min_samples_split=10, n_estimators=200; total time=  30.0s\n"
     ]
    },
    {
     "data": {
      "text/html": [
       "<style>#sk-container-id-5 {color: black;background-color: white;}#sk-container-id-5 pre{padding: 0;}#sk-container-id-5 div.sk-toggleable {background-color: white;}#sk-container-id-5 label.sk-toggleable__label {cursor: pointer;display: block;width: 100%;margin-bottom: 0;padding: 0.3em;box-sizing: border-box;text-align: center;}#sk-container-id-5 label.sk-toggleable__label-arrow:before {content: \"▸\";float: left;margin-right: 0.25em;color: #696969;}#sk-container-id-5 label.sk-toggleable__label-arrow:hover:before {color: black;}#sk-container-id-5 div.sk-estimator:hover label.sk-toggleable__label-arrow:before {color: black;}#sk-container-id-5 div.sk-toggleable__content {max-height: 0;max-width: 0;overflow: hidden;text-align: left;background-color: #f0f8ff;}#sk-container-id-5 div.sk-toggleable__content pre {margin: 0.2em;color: black;border-radius: 0.25em;background-color: #f0f8ff;}#sk-container-id-5 input.sk-toggleable__control:checked~div.sk-toggleable__content {max-height: 200px;max-width: 100%;overflow: auto;}#sk-container-id-5 input.sk-toggleable__control:checked~label.sk-toggleable__label-arrow:before {content: \"▾\";}#sk-container-id-5 div.sk-estimator input.sk-toggleable__control:checked~label.sk-toggleable__label {background-color: #d4ebff;}#sk-container-id-5 div.sk-label input.sk-toggleable__control:checked~label.sk-toggleable__label {background-color: #d4ebff;}#sk-container-id-5 input.sk-hidden--visually {border: 0;clip: rect(1px 1px 1px 1px);clip: rect(1px, 1px, 1px, 1px);height: 1px;margin: -1px;overflow: hidden;padding: 0;position: absolute;width: 1px;}#sk-container-id-5 div.sk-estimator {font-family: monospace;background-color: #f0f8ff;border: 1px dotted black;border-radius: 0.25em;box-sizing: border-box;margin-bottom: 0.5em;}#sk-container-id-5 div.sk-estimator:hover {background-color: #d4ebff;}#sk-container-id-5 div.sk-parallel-item::after {content: \"\";width: 100%;border-bottom: 1px solid gray;flex-grow: 1;}#sk-container-id-5 div.sk-label:hover label.sk-toggleable__label {background-color: #d4ebff;}#sk-container-id-5 div.sk-serial::before {content: \"\";position: absolute;border-left: 1px solid gray;box-sizing: border-box;top: 0;bottom: 0;left: 50%;z-index: 0;}#sk-container-id-5 div.sk-serial {display: flex;flex-direction: column;align-items: center;background-color: white;padding-right: 0.2em;padding-left: 0.2em;position: relative;}#sk-container-id-5 div.sk-item {position: relative;z-index: 1;}#sk-container-id-5 div.sk-parallel {display: flex;align-items: stretch;justify-content: center;background-color: white;position: relative;}#sk-container-id-5 div.sk-item::before, #sk-container-id-5 div.sk-parallel-item::before {content: \"\";position: absolute;border-left: 1px solid gray;box-sizing: border-box;top: 0;bottom: 0;left: 50%;z-index: -1;}#sk-container-id-5 div.sk-parallel-item {display: flex;flex-direction: column;z-index: 1;position: relative;background-color: white;}#sk-container-id-5 div.sk-parallel-item:first-child::after {align-self: flex-end;width: 50%;}#sk-container-id-5 div.sk-parallel-item:last-child::after {align-self: flex-start;width: 50%;}#sk-container-id-5 div.sk-parallel-item:only-child::after {width: 0;}#sk-container-id-5 div.sk-dashed-wrapped {border: 1px dashed gray;margin: 0 0.4em 0.5em 0.4em;box-sizing: border-box;padding-bottom: 0.4em;background-color: white;}#sk-container-id-5 div.sk-label label {font-family: monospace;font-weight: bold;display: inline-block;line-height: 1.2em;}#sk-container-id-5 div.sk-label-container {text-align: center;}#sk-container-id-5 div.sk-container {/* jupyter's `normalize.less` sets `[hidden] { display: none; }` but bootstrap.min.css set `[hidden] { display: none !important; }` so we also need the `!important` here to be able to override the default hidden behavior on the sphinx rendered scikit-learn.org. See: https://github.com/scikit-learn/scikit-learn/issues/21755 */display: inline-block !important;position: relative;}#sk-container-id-5 div.sk-text-repr-fallback {display: none;}</style><div id=\"sk-container-id-5\" class=\"sk-top-container\"><div class=\"sk-text-repr-fallback\"><pre>RandomizedSearchCV(cv=5, estimator=GradientBoostingRegressor(), n_iter=20,\n",
       "                   n_jobs=1,\n",
       "                   param_distributions={&#x27;learning_rate&#x27;: [0.01, 0.1],\n",
       "                                        &#x27;max_depth&#x27;: [5, 12, 20, 28, 35, 43, 51,\n",
       "                                                      58, 66, 74, None],\n",
       "                                        &#x27;min_samples_leaf&#x27;: [2, 4, 7],\n",
       "                                        &#x27;min_samples_split&#x27;: [5, 10, 16, 32],\n",
       "                                        &#x27;n_estimators&#x27;: [100, 200, 300, 400,\n",
       "                                                         500]},\n",
       "                   random_state=42, verbose=2)</pre><b>In a Jupyter environment, please rerun this cell to show the HTML representation or trust the notebook. <br />On GitHub, the HTML representation is unable to render, please try loading this page with nbviewer.org.</b></div><div class=\"sk-container\" hidden><div class=\"sk-item sk-dashed-wrapped\"><div class=\"sk-label-container\"><div class=\"sk-label sk-toggleable\"><input class=\"sk-toggleable__control sk-hidden--visually\" id=\"sk-estimator-id-9\" type=\"checkbox\" ><label for=\"sk-estimator-id-9\" class=\"sk-toggleable__label sk-toggleable__label-arrow\">RandomizedSearchCV</label><div class=\"sk-toggleable__content\"><pre>RandomizedSearchCV(cv=5, estimator=GradientBoostingRegressor(), n_iter=20,\n",
       "                   n_jobs=1,\n",
       "                   param_distributions={&#x27;learning_rate&#x27;: [0.01, 0.1],\n",
       "                                        &#x27;max_depth&#x27;: [5, 12, 20, 28, 35, 43, 51,\n",
       "                                                      58, 66, 74, None],\n",
       "                                        &#x27;min_samples_leaf&#x27;: [2, 4, 7],\n",
       "                                        &#x27;min_samples_split&#x27;: [5, 10, 16, 32],\n",
       "                                        &#x27;n_estimators&#x27;: [100, 200, 300, 400,\n",
       "                                                         500]},\n",
       "                   random_state=42, verbose=2)</pre></div></div></div><div class=\"sk-parallel\"><div class=\"sk-parallel-item\"><div class=\"sk-item\"><div class=\"sk-label-container\"><div class=\"sk-label sk-toggleable\"><input class=\"sk-toggleable__control sk-hidden--visually\" id=\"sk-estimator-id-10\" type=\"checkbox\" ><label for=\"sk-estimator-id-10\" class=\"sk-toggleable__label sk-toggleable__label-arrow\">estimator: GradientBoostingRegressor</label><div class=\"sk-toggleable__content\"><pre>GradientBoostingRegressor()</pre></div></div></div><div class=\"sk-serial\"><div class=\"sk-item\"><div class=\"sk-estimator sk-toggleable\"><input class=\"sk-toggleable__control sk-hidden--visually\" id=\"sk-estimator-id-11\" type=\"checkbox\" ><label for=\"sk-estimator-id-11\" class=\"sk-toggleable__label sk-toggleable__label-arrow\">GradientBoostingRegressor</label><div class=\"sk-toggleable__content\"><pre>GradientBoostingRegressor()</pre></div></div></div></div></div></div></div></div></div></div>"
      ],
      "text/plain": [
       "RandomizedSearchCV(cv=5, estimator=GradientBoostingRegressor(), n_iter=20,\n",
       "                   n_jobs=1,\n",
       "                   param_distributions={'learning_rate': [0.01, 0.1],\n",
       "                                        'max_depth': [5, 12, 20, 28, 35, 43, 51,\n",
       "                                                      58, 66, 74, None],\n",
       "                                        'min_samples_leaf': [2, 4, 7],\n",
       "                                        'min_samples_split': [5, 10, 16, 32],\n",
       "                                        'n_estimators': [100, 200, 300, 400,\n",
       "                                                         500]},\n",
       "                   random_state=42, verbose=2)"
      ]
     },
     "execution_count": 72,
     "metadata": {},
     "output_type": "execute_result"
    }
   ],
   "source": [
    "gbt_random.fit(X, y)"
   ]
  },
  {
   "cell_type": "code",
   "execution_count": 14,
   "metadata": {},
   "outputs": [
    {
     "name": "stdout",
     "output_type": "stream",
     "text": [
      "Best parameters:\n",
      " {'n_estimators': 200, 'min_samples_split': 10, 'min_samples_leaf': 2, 'max_depth': 5, 'learning_rate': 0.1}\n",
      "\n",
      " Best score\n",
      " 0.7992584243500028\n"
     ]
    }
   ],
   "source": [
    "print(f\"Best parameters:\\n {gbt_random.best_params_}\\n\\n Best score\\n {gbt_random.best_score_}\")"
   ]
  },
  {
   "cell_type": "code",
   "execution_count": null,
   "metadata": {},
   "outputs": [],
   "source": []
  }
 ],
 "metadata": {
  "kernelspec": {
   "display_name": ".venv",
   "language": "python",
   "name": "python3"
  },
  "language_info": {
   "codemirror_mode": {
    "name": "ipython",
    "version": 3
   },
   "file_extension": ".py",
   "mimetype": "text/x-python",
   "name": "python",
   "nbconvert_exporter": "python",
   "pygments_lexer": "ipython3",
   "version": "3.10.7"
  },
  "orig_nbformat": 4,
  "vscode": {
   "interpreter": {
    "hash": "67703f6099c847180c0c33697b6a3bb9eae65267b7a5e35291c05dc5406b6c79"
   }
  }
 },
 "nbformat": 4,
 "nbformat_minor": 2
}
