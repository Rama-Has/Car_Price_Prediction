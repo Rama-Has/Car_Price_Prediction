{
 "cells": [
  {
   "cell_type": "code",
   "execution_count": 1,
   "metadata": {},
   "outputs": [],
   "source": [
    "import warnings    \n",
    "warnings.simplefilter(\"ignore\", UserWarning)\n",
    "import pandas as pd\n",
    "import numpy as np \n",
    "import matplotlib.pyplot as plt    \n",
    "from sklearn.linear_model import LinearRegression, Ridge, Lasso, SGDRegressor\n",
    "from sklearn.preprocessing import PolynomialFeatures, FunctionTransformer,\\\n",
    "    OneHotEncoder, LabelEncoder, PowerTransformer\n",
    "from sklearn.neighbors import KNeighborsRegressor \n",
    "import seaborn as sns\n",
    "from sklearn.impute import KNNImputer\n",
    "import re\n",
    "from sklearn.tree import DecisionTreeRegressor\n",
    "from scipy import stats  \n",
    "from sklearn.compose import ColumnTransformer \n",
    "from sklearn.pipeline import Pipeline \n",
    "from sklearn.model_selection import cross_val_score\n",
    "import pickle \n",
    "from src.utils import previous_owners, convert_text_to_number,\\\n",
    "    passengers_number, get_model_scores, outlier_detector,\\\n",
    "    outlier_detector_zscore "
   ]
  },
  {
   "attachments": {},
   "cell_type": "markdown",
   "metadata": {},
   "source": [
    "Reading Data"
   ]
  },
  {
   "cell_type": "code",
   "execution_count": 2,
   "metadata": {},
   "outputs": [],
   "source": [
    "data = pd.read_csv('../data/cars_data.csv')"
   ]
  },
  {
   "cell_type": "code",
   "execution_count": null,
   "metadata": {},
   "outputs": [],
   "source": []
  }
 ],
 "metadata": {
  "kernelspec": {
   "display_name": ".venv",
   "language": "python",
   "name": "python3"
  },
  "language_info": {
   "codemirror_mode": {
    "name": "ipython",
    "version": 3
   },
   "file_extension": ".py",
   "mimetype": "text/x-python",
   "name": "python",
   "nbconvert_exporter": "python",
   "pygments_lexer": "ipython3",
   "version": "3.10.7"
  },
  "orig_nbformat": 4,
  "vscode": {
   "interpreter": {
    "hash": "67703f6099c847180c0c33697b6a3bb9eae65267b7a5e35291c05dc5406b6c79"
   }
  }
 },
 "nbformat": 4,
 "nbformat_minor": 2
}
