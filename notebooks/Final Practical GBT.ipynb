{
 "cells": [
  {
   "cell_type": "code",
   "execution_count": 94,
   "metadata": {},
   "outputs": [],
   "source": [
    "import warnings    \n",
    "warnings.simplefilter(\"ignore\", UserWarning)\n",
    "import pandas as pd\n",
    "import numpy as np   \n",
    "from sklearn.preprocessing import OneHotEncoder \n",
    "from sklearn.compose import ColumnTransformer \n",
    "from sklearn.pipeline import Pipeline \n",
    "from sklearn.model_selection import RandomizedSearchCV\n",
    "import pickle  \n",
    "from sklearn.ensemble import GradientBoostingRegressor \n",
    "from pprint import pprint "
   ]
  },
  {
   "attachments": {},
   "cell_type": "markdown",
   "metadata": {},
   "source": [
    "## Reading Data"
   ]
  },
  {
   "cell_type": "code",
   "execution_count": 95,
   "metadata": {},
   "outputs": [],
   "source": [
    "data = pd.read_csv('../data/clean_data.csv')"
   ]
  },
  {
   "cell_type": "code",
   "execution_count": 99,
   "metadata": {},
   "outputs": [
    {
     "data": {
      "text/html": [
       "<div>\n",
       "<style scoped>\n",
       "    .dataframe tbody tr th:only-of-type {\n",
       "        vertical-align: middle;\n",
       "    }\n",
       "\n",
       "    .dataframe tbody tr th {\n",
       "        vertical-align: top;\n",
       "    }\n",
       "\n",
       "    .dataframe thead th {\n",
       "        text-align: right;\n",
       "    }\n",
       "</style>\n",
       "<table border=\"1\" class=\"dataframe\">\n",
       "  <thead>\n",
       "    <tr style=\"text-align: right;\">\n",
       "      <th></th>\n",
       "      <th>السعر</th>\n",
       "      <th>الموديل</th>\n",
       "      <th>موديل سنة</th>\n",
       "      <th>لون السيارة</th>\n",
       "      <th>قوة الماتور</th>\n",
       "      <th>عدد الركاب</th>\n",
       "      <th>عداد السيارة</th>\n",
       "      <th>أصحاب سابقون</th>\n",
       "      <th>أصل السيارة</th>\n",
       "      <th>رخصة السيارة</th>\n",
       "      <th>...</th>\n",
       "      <th>نوع الجير</th>\n",
       "      <th>الزجاج</th>\n",
       "      <th>وسادة حماية هوائية</th>\n",
       "      <th>فرش جلد</th>\n",
       "      <th>جنطات مغنيسيوم</th>\n",
       "      <th>فتحة سقف</th>\n",
       "      <th>مسجل CD</th>\n",
       "      <th>إغلاق مركزي</th>\n",
       "      <th>مُكيّف</th>\n",
       "      <th>جهاز إنذار</th>\n",
       "    </tr>\n",
       "  </thead>\n",
       "  <tbody>\n",
       "    <tr>\n",
       "      <th>0</th>\n",
       "      <td>100000.0</td>\n",
       "      <td>كيا اوبتيما</td>\n",
       "      <td>2014</td>\n",
       "      <td>أبيض عاجي</td>\n",
       "      <td>2000.0</td>\n",
       "      <td>5.0</td>\n",
       "      <td>75000.0</td>\n",
       "      <td>1.0</td>\n",
       "      <td>خصوصي</td>\n",
       "      <td>فلسطينية</td>\n",
       "      <td>...</td>\n",
       "      <td>اوتوماتيك</td>\n",
       "      <td>الكتروني</td>\n",
       "      <td>1</td>\n",
       "      <td>1</td>\n",
       "      <td>1</td>\n",
       "      <td>1</td>\n",
       "      <td>1</td>\n",
       "      <td>1</td>\n",
       "      <td>1</td>\n",
       "      <td>1</td>\n",
       "    </tr>\n",
       "    <tr>\n",
       "      <th>1</th>\n",
       "      <td>60000.0</td>\n",
       "      <td>كيا سورينتو</td>\n",
       "      <td>2007</td>\n",
       "      <td>سكني</td>\n",
       "      <td>2500.0</td>\n",
       "      <td>8.0</td>\n",
       "      <td>130000.0</td>\n",
       "      <td>2.0</td>\n",
       "      <td>خصوصي</td>\n",
       "      <td>فلسطينية</td>\n",
       "      <td>...</td>\n",
       "      <td>نصف اوتوماتيك</td>\n",
       "      <td>الكتروني</td>\n",
       "      <td>1</td>\n",
       "      <td>1</td>\n",
       "      <td>1</td>\n",
       "      <td>1</td>\n",
       "      <td>1</td>\n",
       "      <td>1</td>\n",
       "      <td>1</td>\n",
       "      <td>1</td>\n",
       "    </tr>\n",
       "    <tr>\n",
       "      <th>2</th>\n",
       "      <td>43500.0</td>\n",
       "      <td>هونداي افانتي</td>\n",
       "      <td>2006</td>\n",
       "      <td>سكني</td>\n",
       "      <td>1600.0</td>\n",
       "      <td>5.0</td>\n",
       "      <td>65000.0</td>\n",
       "      <td>2.0</td>\n",
       "      <td>خصوصي</td>\n",
       "      <td>فلسطينية</td>\n",
       "      <td>...</td>\n",
       "      <td>اوتوماتيك</td>\n",
       "      <td>الكتروني</td>\n",
       "      <td>1</td>\n",
       "      <td>1</td>\n",
       "      <td>1</td>\n",
       "      <td>0</td>\n",
       "      <td>1</td>\n",
       "      <td>1</td>\n",
       "      <td>1</td>\n",
       "      <td>1</td>\n",
       "    </tr>\n",
       "    <tr>\n",
       "      <th>3</th>\n",
       "      <td>5500.0</td>\n",
       "      <td>فيات 127</td>\n",
       "      <td>1982</td>\n",
       "      <td>بيج</td>\n",
       "      <td>906.0</td>\n",
       "      <td>5.0</td>\n",
       "      <td>65000.0</td>\n",
       "      <td>0.0</td>\n",
       "      <td>خصوصي</td>\n",
       "      <td>فلسطينية</td>\n",
       "      <td>...</td>\n",
       "      <td>عادي</td>\n",
       "      <td>يدوي</td>\n",
       "      <td>0</td>\n",
       "      <td>0</td>\n",
       "      <td>0</td>\n",
       "      <td>0</td>\n",
       "      <td>1</td>\n",
       "      <td>0</td>\n",
       "      <td>1</td>\n",
       "      <td>0</td>\n",
       "    </tr>\n",
       "    <tr>\n",
       "      <th>4</th>\n",
       "      <td>54000.0</td>\n",
       "      <td>بيجو 208</td>\n",
       "      <td>2014</td>\n",
       "      <td>فضي</td>\n",
       "      <td>1200.0</td>\n",
       "      <td>5.0</td>\n",
       "      <td>38000.0</td>\n",
       "      <td>2.0</td>\n",
       "      <td>خصوصي</td>\n",
       "      <td>فلسطينية</td>\n",
       "      <td>...</td>\n",
       "      <td>اوتوماتيك</td>\n",
       "      <td>الكتروني</td>\n",
       "      <td>1</td>\n",
       "      <td>0</td>\n",
       "      <td>1</td>\n",
       "      <td>0</td>\n",
       "      <td>0</td>\n",
       "      <td>1</td>\n",
       "      <td>1</td>\n",
       "      <td>1</td>\n",
       "    </tr>\n",
       "  </tbody>\n",
       "</table>\n",
       "<p>5 rows × 21 columns</p>\n",
       "</div>"
      ],
      "text/plain": [
       "      السعر        الموديل  موديل سنة لون السيارة  قوة الماتور  عدد الركاب  \\\n",
       "0  100000.0    كيا اوبتيما       2014  أبيض عاجي        2000.0         5.0   \n",
       "1   60000.0    كيا سورينتو       2007       سكني        2500.0         8.0   \n",
       "2   43500.0  هونداي افانتي       2006       سكني        1600.0         5.0   \n",
       "3    5500.0       فيات 127       1982        بيج         906.0         5.0   \n",
       "4   54000.0       بيجو 208       2014        فضي        1200.0         5.0   \n",
       "\n",
       "   عداد السيارة  أصحاب سابقون أصل السيارة رخصة السيارة  ...       نوع الجير  \\\n",
       "0       75000.0           1.0      خصوصي     فلسطينية   ...      اوتوماتيك    \n",
       "1      130000.0           2.0      خصوصي     فلسطينية   ...  نصف اوتوماتيك    \n",
       "2       65000.0           2.0      خصوصي     فلسطينية   ...      اوتوماتيك    \n",
       "3       65000.0           0.0      خصوصي     فلسطينية   ...           عادي    \n",
       "4       38000.0           2.0      خصوصي     فلسطينية   ...      اوتوماتيك    \n",
       "\n",
       "      الزجاج وسادة حماية هوائية  فرش جلد  جنطات مغنيسيوم  فتحة سقف  مسجل CD  \\\n",
       "0  الكتروني                   1        1               1         1        1   \n",
       "1  الكتروني                   1        1               1         1        1   \n",
       "2  الكتروني                   1        1               1         0        1   \n",
       "3      يدوي                   0        0               0         0        1   \n",
       "4  الكتروني                   1        0               1         0        0   \n",
       "\n",
       "   إغلاق مركزي  مُكيّف  جهاز إنذار  \n",
       "0            1       1           1  \n",
       "1            1       1           1  \n",
       "2            1       1           1  \n",
       "3            0       1           0  \n",
       "4            1       1           1  \n",
       "\n",
       "[5 rows x 21 columns]"
      ]
     },
     "execution_count": 99,
     "metadata": {},
     "output_type": "execute_result"
    }
   ],
   "source": [
    "data.head()"
   ]
  },
  {
   "cell_type": "code",
   "execution_count": null,
   "metadata": {},
   "outputs": [],
   "source": [
    "#get categorical features name\n",
    "categorical_features = [col for col in data.columns if data[col].dtypes == 'O']"
   ]
  },
  {
   "cell_type": "code",
   "execution_count": null,
   "metadata": {},
   "outputs": [],
   "source": [
    "ohe = OneHotEncoder(sparse = False, handle_unknown = 'ignore') "
   ]
  },
  {
   "cell_type": "code",
   "execution_count": null,
   "metadata": {},
   "outputs": [],
   "source": [
    "#define transformer to selectively apply data preparation transforms\n",
    "transformer = ColumnTransformer( \n",
    "    transformers = [  \n",
    "        #apply onehot encoding to categorical features\n",
    "        ('categorical', ohe, categorical_features),  \n",
    "    ],\n",
    "    #unspecified columns will be passed through without transformation  \n",
    "    remainder='passthrough',\n",
    "    #prevent adding prefix to columns names\n",
    "    verbose_feature_names_out = False \n",
    ")"
   ]
  },
  {
   "cell_type": "code",
   "execution_count": null,
   "metadata": {},
   "outputs": [],
   "source": [
    "#slice the target variable and the other features\n",
    "X = data.drop(columns = 'السعر')\n",
    "y = data['السعر'] \n",
    "#transform the data (without the target variable) \n",
    "transformed_X = transformer.fit_transform(X)"
   ]
  },
  {
   "cell_type": "code",
   "execution_count": 72,
   "metadata": {},
   "outputs": [],
   "source": [
    "#Number of features to consider\n",
    "max_features = ['sqrt', 'log2', None] \n",
    "#Number of trees \n",
    "n_estimators = [int(x) for x in np.linspace(start = 100, stop = 500, num = 5)]  \n",
    "#Maximum number of levels in tree\n",
    "max_depth = [int(x) for x in np.linspace(5, 74, num = 10)]  \n",
    "max_depth.append(None)\n",
    "#Minimum number of samples required to split a node\n",
    "min_samples_split = [int(x) for x in np.linspace(100, 300, num = 10)]\n",
    "learning_rate = [0.01, 0.05, 0.1] \n",
    "#Create the random grid\n",
    "random_grid = {\n",
    "    'n_estimators': n_estimators,\n",
    "    'max_depth': max_depth,\n",
    "    'min_samples_split': min_samples_split, \n",
    "    'learning_rate': learning_rate,\n",
    "    'max_features': max_features\n",
    "    } "
   ]
  },
  {
   "cell_type": "code",
   "execution_count": null,
   "metadata": {},
   "outputs": [],
   "source": [
    "gbt = GradientBoostingRegressor() "
   ]
  },
  {
   "cell_type": "code",
   "execution_count": 73,
   "metadata": {},
   "outputs": [],
   "source": [
    "#define gbt_random a RandomizedSearchCV obj to search across 30 different combinations \n",
    "#for best hyperparameters for gradient boosting tree regressor using 5 fold cross validation \n",
    "gbt_random = RandomizedSearchCV(estimator = gbt, \n",
    "                               param_distributions = random_grid,  \n",
    "                               n_iter = 30,  \n",
    "                               cv = 5, \n",
    "                               verbose=4,  \n",
    "                               n_jobs = 4) "
   ]
  },
  {
   "cell_type": "code",
   "execution_count": null,
   "metadata": {},
   "outputs": [],
   "source": [
    "#Fit the random search model  \n",
    "gbt_random.fit(transformed_X, y)"
   ]
  },
  {
   "cell_type": "code",
   "execution_count": 83,
   "metadata": {},
   "outputs": [],
   "source": [
    "best_gbt_model = gbt_random.best_estimator_"
   ]
  },
  {
   "cell_type": "code",
   "execution_count": 85,
   "metadata": {},
   "outputs": [
    {
     "name": "stdout",
     "output_type": "stream",
     "text": [
      "Best parameters:\n",
      " {'n_estimators': 500, 'min_samples_split': 10, 'min_samples_leaf': 2, 'max_features': 'sqrt', 'max_depth': 51, 'learning_rate': 0.01}\n",
      "\n",
      " Best score\n",
      " 0.7791771230827625\n"
     ]
    }
   ],
   "source": [
    "print(f\"Best parameters:\\n {gbt_random.best_params_}\\n\\n Best score\\n {gbt_random.best_score_}\")"
   ]
  },
  {
   "attachments": {},
   "cell_type": "markdown",
   "metadata": {},
   "source": [
    "# Pickling"
   ]
  },
  {
   "cell_type": "code",
   "execution_count": 87,
   "metadata": {},
   "outputs": [
    {
     "data": {
      "text/html": [
       "<style>#sk-container-id-14 {color: black;background-color: white;}#sk-container-id-14 pre{padding: 0;}#sk-container-id-14 div.sk-toggleable {background-color: white;}#sk-container-id-14 label.sk-toggleable__label {cursor: pointer;display: block;width: 100%;margin-bottom: 0;padding: 0.3em;box-sizing: border-box;text-align: center;}#sk-container-id-14 label.sk-toggleable__label-arrow:before {content: \"▸\";float: left;margin-right: 0.25em;color: #696969;}#sk-container-id-14 label.sk-toggleable__label-arrow:hover:before {color: black;}#sk-container-id-14 div.sk-estimator:hover label.sk-toggleable__label-arrow:before {color: black;}#sk-container-id-14 div.sk-toggleable__content {max-height: 0;max-width: 0;overflow: hidden;text-align: left;background-color: #f0f8ff;}#sk-container-id-14 div.sk-toggleable__content pre {margin: 0.2em;color: black;border-radius: 0.25em;background-color: #f0f8ff;}#sk-container-id-14 input.sk-toggleable__control:checked~div.sk-toggleable__content {max-height: 200px;max-width: 100%;overflow: auto;}#sk-container-id-14 input.sk-toggleable__control:checked~label.sk-toggleable__label-arrow:before {content: \"▾\";}#sk-container-id-14 div.sk-estimator input.sk-toggleable__control:checked~label.sk-toggleable__label {background-color: #d4ebff;}#sk-container-id-14 div.sk-label input.sk-toggleable__control:checked~label.sk-toggleable__label {background-color: #d4ebff;}#sk-container-id-14 input.sk-hidden--visually {border: 0;clip: rect(1px 1px 1px 1px);clip: rect(1px, 1px, 1px, 1px);height: 1px;margin: -1px;overflow: hidden;padding: 0;position: absolute;width: 1px;}#sk-container-id-14 div.sk-estimator {font-family: monospace;background-color: #f0f8ff;border: 1px dotted black;border-radius: 0.25em;box-sizing: border-box;margin-bottom: 0.5em;}#sk-container-id-14 div.sk-estimator:hover {background-color: #d4ebff;}#sk-container-id-14 div.sk-parallel-item::after {content: \"\";width: 100%;border-bottom: 1px solid gray;flex-grow: 1;}#sk-container-id-14 div.sk-label:hover label.sk-toggleable__label {background-color: #d4ebff;}#sk-container-id-14 div.sk-serial::before {content: \"\";position: absolute;border-left: 1px solid gray;box-sizing: border-box;top: 0;bottom: 0;left: 50%;z-index: 0;}#sk-container-id-14 div.sk-serial {display: flex;flex-direction: column;align-items: center;background-color: white;padding-right: 0.2em;padding-left: 0.2em;position: relative;}#sk-container-id-14 div.sk-item {position: relative;z-index: 1;}#sk-container-id-14 div.sk-parallel {display: flex;align-items: stretch;justify-content: center;background-color: white;position: relative;}#sk-container-id-14 div.sk-item::before, #sk-container-id-14 div.sk-parallel-item::before {content: \"\";position: absolute;border-left: 1px solid gray;box-sizing: border-box;top: 0;bottom: 0;left: 50%;z-index: -1;}#sk-container-id-14 div.sk-parallel-item {display: flex;flex-direction: column;z-index: 1;position: relative;background-color: white;}#sk-container-id-14 div.sk-parallel-item:first-child::after {align-self: flex-end;width: 50%;}#sk-container-id-14 div.sk-parallel-item:last-child::after {align-self: flex-start;width: 50%;}#sk-container-id-14 div.sk-parallel-item:only-child::after {width: 0;}#sk-container-id-14 div.sk-dashed-wrapped {border: 1px dashed gray;margin: 0 0.4em 0.5em 0.4em;box-sizing: border-box;padding-bottom: 0.4em;background-color: white;}#sk-container-id-14 div.sk-label label {font-family: monospace;font-weight: bold;display: inline-block;line-height: 1.2em;}#sk-container-id-14 div.sk-label-container {text-align: center;}#sk-container-id-14 div.sk-container {/* jupyter's `normalize.less` sets `[hidden] { display: none; }` but bootstrap.min.css set `[hidden] { display: none !important; }` so we also need the `!important` here to be able to override the default hidden behavior on the sphinx rendered scikit-learn.org. See: https://github.com/scikit-learn/scikit-learn/issues/21755 */display: inline-block !important;position: relative;}#sk-container-id-14 div.sk-text-repr-fallback {display: none;}</style><div id=\"sk-container-id-14\" class=\"sk-top-container\"><div class=\"sk-text-repr-fallback\"><pre>Pipeline(steps=[(&#x27;transformer&#x27;,\n",
       "                 ColumnTransformer(remainder=&#x27;passthrough&#x27;,\n",
       "                                   transformers=[(&#x27;categorical&#x27;,\n",
       "                                                  OneHotEncoder(handle_unknown=&#x27;ignore&#x27;,\n",
       "                                                                sparse=False),\n",
       "                                                  [&#x27;الموديل&#x27;, &#x27;لون السيارة&#x27;,\n",
       "                                                   &#x27;أصل السيارة&#x27;,\n",
       "                                                   &#x27;رخصة السيارة&#x27;, &#x27;نوع الوقود&#x27;,\n",
       "                                                   &#x27;نوع الجير&#x27;, &#x27;الزجاج&#x27;])],\n",
       "                                   verbose_feature_names_out=False)),\n",
       "                (&#x27;GBTRegressor&#x27;,\n",
       "                 GradientBoostingRegressor(learning_rate=0.01, max_depth=51,\n",
       "                                           max_features=&#x27;sqrt&#x27;,\n",
       "                                           min_samples_leaf=2,\n",
       "                                           min_samples_split=10,\n",
       "                                           n_estimators=500))])</pre><b>In a Jupyter environment, please rerun this cell to show the HTML representation or trust the notebook. <br />On GitHub, the HTML representation is unable to render, please try loading this page with nbviewer.org.</b></div><div class=\"sk-container\" hidden><div class=\"sk-item sk-dashed-wrapped\"><div class=\"sk-label-container\"><div class=\"sk-label sk-toggleable\"><input class=\"sk-toggleable__control sk-hidden--visually\" id=\"sk-estimator-id-18\" type=\"checkbox\" ><label for=\"sk-estimator-id-18\" class=\"sk-toggleable__label sk-toggleable__label-arrow\">Pipeline</label><div class=\"sk-toggleable__content\"><pre>Pipeline(steps=[(&#x27;transformer&#x27;,\n",
       "                 ColumnTransformer(remainder=&#x27;passthrough&#x27;,\n",
       "                                   transformers=[(&#x27;categorical&#x27;,\n",
       "                                                  OneHotEncoder(handle_unknown=&#x27;ignore&#x27;,\n",
       "                                                                sparse=False),\n",
       "                                                  [&#x27;الموديل&#x27;, &#x27;لون السيارة&#x27;,\n",
       "                                                   &#x27;أصل السيارة&#x27;,\n",
       "                                                   &#x27;رخصة السيارة&#x27;, &#x27;نوع الوقود&#x27;,\n",
       "                                                   &#x27;نوع الجير&#x27;, &#x27;الزجاج&#x27;])],\n",
       "                                   verbose_feature_names_out=False)),\n",
       "                (&#x27;GBTRegressor&#x27;,\n",
       "                 GradientBoostingRegressor(learning_rate=0.01, max_depth=51,\n",
       "                                           max_features=&#x27;sqrt&#x27;,\n",
       "                                           min_samples_leaf=2,\n",
       "                                           min_samples_split=10,\n",
       "                                           n_estimators=500))])</pre></div></div></div><div class=\"sk-serial\"><div class=\"sk-item sk-dashed-wrapped\"><div class=\"sk-label-container\"><div class=\"sk-label sk-toggleable\"><input class=\"sk-toggleable__control sk-hidden--visually\" id=\"sk-estimator-id-19\" type=\"checkbox\" ><label for=\"sk-estimator-id-19\" class=\"sk-toggleable__label sk-toggleable__label-arrow\">transformer: ColumnTransformer</label><div class=\"sk-toggleable__content\"><pre>ColumnTransformer(remainder=&#x27;passthrough&#x27;,\n",
       "                  transformers=[(&#x27;categorical&#x27;,\n",
       "                                 OneHotEncoder(handle_unknown=&#x27;ignore&#x27;,\n",
       "                                               sparse=False),\n",
       "                                 [&#x27;الموديل&#x27;, &#x27;لون السيارة&#x27;, &#x27;أصل السيارة&#x27;,\n",
       "                                  &#x27;رخصة السيارة&#x27;, &#x27;نوع الوقود&#x27;, &#x27;نوع الجير&#x27;,\n",
       "                                  &#x27;الزجاج&#x27;])],\n",
       "                  verbose_feature_names_out=False)</pre></div></div></div><div class=\"sk-parallel\"><div class=\"sk-parallel-item\"><div class=\"sk-item\"><div class=\"sk-label-container\"><div class=\"sk-label sk-toggleable\"><input class=\"sk-toggleable__control sk-hidden--visually\" id=\"sk-estimator-id-20\" type=\"checkbox\" ><label for=\"sk-estimator-id-20\" class=\"sk-toggleable__label sk-toggleable__label-arrow\">categorical</label><div class=\"sk-toggleable__content\"><pre>[&#x27;الموديل&#x27;, &#x27;لون السيارة&#x27;, &#x27;أصل السيارة&#x27;, &#x27;رخصة السيارة&#x27;, &#x27;نوع الوقود&#x27;, &#x27;نوع الجير&#x27;, &#x27;الزجاج&#x27;]</pre></div></div></div><div class=\"sk-serial\"><div class=\"sk-item\"><div class=\"sk-estimator sk-toggleable\"><input class=\"sk-toggleable__control sk-hidden--visually\" id=\"sk-estimator-id-21\" type=\"checkbox\" ><label for=\"sk-estimator-id-21\" class=\"sk-toggleable__label sk-toggleable__label-arrow\">OneHotEncoder</label><div class=\"sk-toggleable__content\"><pre>OneHotEncoder(handle_unknown=&#x27;ignore&#x27;, sparse=False)</pre></div></div></div></div></div></div><div class=\"sk-parallel-item\"><div class=\"sk-item\"><div class=\"sk-label-container\"><div class=\"sk-label sk-toggleable\"><input class=\"sk-toggleable__control sk-hidden--visually\" id=\"sk-estimator-id-22\" type=\"checkbox\" ><label for=\"sk-estimator-id-22\" class=\"sk-toggleable__label sk-toggleable__label-arrow\">remainder</label><div class=\"sk-toggleable__content\"><pre>[&#x27;موديل سنة&#x27;, &#x27;قوة الماتور&#x27;, &#x27;عدد الركاب&#x27;, &#x27;عداد السيارة&#x27;, &#x27;أصحاب سابقون&#x27;, &#x27;وسادة حماية هوائية&#x27;, &#x27;فرش جلد&#x27;, &#x27;جنطات مغنيسيوم&#x27;, &#x27;فتحة سقف&#x27;, &#x27;مسجل CD&#x27;, &#x27;إغلاق مركزي&#x27;, &#x27;مُكيّف&#x27;, &#x27;جهاز إنذار&#x27;]</pre></div></div></div><div class=\"sk-serial\"><div class=\"sk-item\"><div class=\"sk-estimator sk-toggleable\"><input class=\"sk-toggleable__control sk-hidden--visually\" id=\"sk-estimator-id-23\" type=\"checkbox\" ><label for=\"sk-estimator-id-23\" class=\"sk-toggleable__label sk-toggleable__label-arrow\">passthrough</label><div class=\"sk-toggleable__content\"><pre>passthrough</pre></div></div></div></div></div></div></div></div><div class=\"sk-item\"><div class=\"sk-estimator sk-toggleable\"><input class=\"sk-toggleable__control sk-hidden--visually\" id=\"sk-estimator-id-24\" type=\"checkbox\" ><label for=\"sk-estimator-id-24\" class=\"sk-toggleable__label sk-toggleable__label-arrow\">GradientBoostingRegressor</label><div class=\"sk-toggleable__content\"><pre>GradientBoostingRegressor(learning_rate=0.01, max_depth=51, max_features=&#x27;sqrt&#x27;,\n",
       "                          min_samples_leaf=2, min_samples_split=10,\n",
       "                          n_estimators=500)</pre></div></div></div></div></div></div></div>"
      ],
      "text/plain": [
       "Pipeline(steps=[('transformer',\n",
       "                 ColumnTransformer(remainder='passthrough',\n",
       "                                   transformers=[('categorical',\n",
       "                                                  OneHotEncoder(handle_unknown='ignore',\n",
       "                                                                sparse=False),\n",
       "                                                  ['الموديل', 'لون السيارة',\n",
       "                                                   'أصل السيارة',\n",
       "                                                   'رخصة السيارة', 'نوع الوقود',\n",
       "                                                   'نوع الجير', 'الزجاج'])],\n",
       "                                   verbose_feature_names_out=False)),\n",
       "                ('GBTRegressor',\n",
       "                 GradientBoostingRegressor(learning_rate=0.01, max_depth=51,\n",
       "                                           max_features='sqrt',\n",
       "                                           min_samples_leaf=2,\n",
       "                                           min_samples_split=10,\n",
       "                                           n_estimators=500))])"
      ]
     },
     "execution_count": 87,
     "metadata": {},
     "output_type": "execute_result"
    }
   ],
   "source": [
    "#GBTRegressor Pipeline\n",
    "gbt_pipline = Pipeline( \n",
    "    steps = [\n",
    "        (\"transformer\", transformer),\n",
    "        (\"gradient boosting tree regressor\", best_gbt_model)\n",
    "    ] \n",
    ")\n",
    "#fit data\n",
    "gbt_pipline.fit(X, y) "
   ]
  },
  {
   "cell_type": "code",
   "execution_count": 89,
   "metadata": {},
   "outputs": [],
   "source": [
    "#export gbt regressor pipline \n",
    "gbt_regressor_pipline_file_name = \"../models/gbt pipline.pkl\"\n",
    "pickle.dump(gbt_pipline, open(gbt_regressor_pipline_file_name, 'wb'))"
   ]
  }
 ],
 "metadata": {
  "kernelspec": {
   "display_name": ".venv",
   "language": "python",
   "name": "python3"
  },
  "language_info": {
   "codemirror_mode": {
    "name": "ipython",
    "version": 3
   },
   "file_extension": ".py",
   "mimetype": "text/x-python",
   "name": "python",
   "nbconvert_exporter": "python",
   "pygments_lexer": "ipython3",
   "version": "3.10.7"
  },
  "orig_nbformat": 4,
  "vscode": {
   "interpreter": {
    "hash": "67703f6099c847180c0c33697b6a3bb9eae65267b7a5e35291c05dc5406b6c79"
   }
  }
 },
 "nbformat": 4,
 "nbformat_minor": 2
}
