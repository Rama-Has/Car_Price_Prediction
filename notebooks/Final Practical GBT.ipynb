{
 "cells": [
  {
   "cell_type": "code",
   "execution_count": 15,
   "metadata": {},
   "outputs": [],
   "source": [
    "import warnings    \n",
    "warnings.simplefilter(\"ignore\", UserWarning)\n",
    "import pandas as pd\n",
    "import numpy as np   \n",
    "from sklearn.preprocessing import OneHotEncoder, StandardScaler\n",
    "from sklearn.compose import ColumnTransformer \n",
    "from sklearn.pipeline import Pipeline \n",
    "from sklearn.model_selection import cross_val_score, RandomizedSearchCV\n",
    "import pickle  \n",
    "from sklearn.ensemble import GradientBoostingRegressor \n",
    "from pprint import pprint\n",
    "# from src.utils import previous_owners, convert_text_to_number,\\\n",
    "#     passengers_number, get_model_scores, outlier_detector,\\\n",
    "#     outlier_detector_zscore "
   ]
  },
  {
   "attachments": {},
   "cell_type": "markdown",
   "metadata": {},
   "source": [
    "Reading Data"
   ]
  },
  {
   "cell_type": "code",
   "execution_count": 69,
   "metadata": {},
   "outputs": [],
   "source": [
    "data = pd.read_csv('../data/clean_data.csv')"
   ]
  },
  {
   "cell_type": "code",
   "execution_count": 70,
   "metadata": {},
   "outputs": [
    {
     "data": {
      "text/html": [
       "<div>\n",
       "<style scoped>\n",
       "    .dataframe tbody tr th:only-of-type {\n",
       "        vertical-align: middle;\n",
       "    }\n",
       "\n",
       "    .dataframe tbody tr th {\n",
       "        vertical-align: top;\n",
       "    }\n",
       "\n",
       "    .dataframe thead th {\n",
       "        text-align: right;\n",
       "    }\n",
       "</style>\n",
       "<table border=\"1\" class=\"dataframe\">\n",
       "  <thead>\n",
       "    <tr style=\"text-align: right;\">\n",
       "      <th></th>\n",
       "      <th>السعر</th>\n",
       "      <th>الموديل</th>\n",
       "      <th>موديل سنة</th>\n",
       "      <th>لون السيارة</th>\n",
       "      <th>قوة الماتور</th>\n",
       "      <th>عدد الركاب</th>\n",
       "      <th>عداد السيارة</th>\n",
       "      <th>أصحاب سابقون</th>\n",
       "      <th>أصل السيارة</th>\n",
       "      <th>رخصة السيارة</th>\n",
       "      <th>...</th>\n",
       "      <th>نوع الجير</th>\n",
       "      <th>الزجاج</th>\n",
       "      <th>وسادة حماية هوائية</th>\n",
       "      <th>فرش جلد</th>\n",
       "      <th>جنطات مغنيسيوم</th>\n",
       "      <th>فتحة سقف</th>\n",
       "      <th>مسجل CD</th>\n",
       "      <th>إغلاق مركزي</th>\n",
       "      <th>مُكيّف</th>\n",
       "      <th>جهاز إنذار</th>\n",
       "    </tr>\n",
       "  </thead>\n",
       "  <tbody>\n",
       "    <tr>\n",
       "      <th>0</th>\n",
       "      <td>100000.0</td>\n",
       "      <td>كيا اوبتيما</td>\n",
       "      <td>2014</td>\n",
       "      <td>أبيض عاجي</td>\n",
       "      <td>2000.0</td>\n",
       "      <td>5.0</td>\n",
       "      <td>75000.0</td>\n",
       "      <td>1.0</td>\n",
       "      <td>خصوصي</td>\n",
       "      <td>فلسطينية</td>\n",
       "      <td>...</td>\n",
       "      <td>اوتوماتيك</td>\n",
       "      <td>الكتروني</td>\n",
       "      <td>1</td>\n",
       "      <td>1</td>\n",
       "      <td>1</td>\n",
       "      <td>1</td>\n",
       "      <td>1</td>\n",
       "      <td>1</td>\n",
       "      <td>1</td>\n",
       "      <td>1</td>\n",
       "    </tr>\n",
       "    <tr>\n",
       "      <th>1</th>\n",
       "      <td>60000.0</td>\n",
       "      <td>كيا سورينتو</td>\n",
       "      <td>2007</td>\n",
       "      <td>سكني</td>\n",
       "      <td>2500.0</td>\n",
       "      <td>8.0</td>\n",
       "      <td>130000.0</td>\n",
       "      <td>2.0</td>\n",
       "      <td>خصوصي</td>\n",
       "      <td>فلسطينية</td>\n",
       "      <td>...</td>\n",
       "      <td>نصف اوتوماتيك</td>\n",
       "      <td>الكتروني</td>\n",
       "      <td>1</td>\n",
       "      <td>1</td>\n",
       "      <td>1</td>\n",
       "      <td>1</td>\n",
       "      <td>1</td>\n",
       "      <td>1</td>\n",
       "      <td>1</td>\n",
       "      <td>1</td>\n",
       "    </tr>\n",
       "    <tr>\n",
       "      <th>2</th>\n",
       "      <td>43500.0</td>\n",
       "      <td>هونداي افانتي</td>\n",
       "      <td>2006</td>\n",
       "      <td>سكني</td>\n",
       "      <td>1600.0</td>\n",
       "      <td>5.0</td>\n",
       "      <td>65000.0</td>\n",
       "      <td>2.0</td>\n",
       "      <td>خصوصي</td>\n",
       "      <td>فلسطينية</td>\n",
       "      <td>...</td>\n",
       "      <td>اوتوماتيك</td>\n",
       "      <td>الكتروني</td>\n",
       "      <td>1</td>\n",
       "      <td>1</td>\n",
       "      <td>1</td>\n",
       "      <td>0</td>\n",
       "      <td>1</td>\n",
       "      <td>1</td>\n",
       "      <td>1</td>\n",
       "      <td>1</td>\n",
       "    </tr>\n",
       "    <tr>\n",
       "      <th>3</th>\n",
       "      <td>5500.0</td>\n",
       "      <td>فيات 127</td>\n",
       "      <td>1982</td>\n",
       "      <td>بيج</td>\n",
       "      <td>906.0</td>\n",
       "      <td>5.0</td>\n",
       "      <td>65000.0</td>\n",
       "      <td>0.0</td>\n",
       "      <td>خصوصي</td>\n",
       "      <td>فلسطينية</td>\n",
       "      <td>...</td>\n",
       "      <td>عادي</td>\n",
       "      <td>يدوي</td>\n",
       "      <td>0</td>\n",
       "      <td>0</td>\n",
       "      <td>0</td>\n",
       "      <td>0</td>\n",
       "      <td>1</td>\n",
       "      <td>0</td>\n",
       "      <td>1</td>\n",
       "      <td>0</td>\n",
       "    </tr>\n",
       "    <tr>\n",
       "      <th>4</th>\n",
       "      <td>54000.0</td>\n",
       "      <td>بيجو 208</td>\n",
       "      <td>2014</td>\n",
       "      <td>فضي</td>\n",
       "      <td>1200.0</td>\n",
       "      <td>5.0</td>\n",
       "      <td>38000.0</td>\n",
       "      <td>2.0</td>\n",
       "      <td>خصوصي</td>\n",
       "      <td>فلسطينية</td>\n",
       "      <td>...</td>\n",
       "      <td>اوتوماتيك</td>\n",
       "      <td>الكتروني</td>\n",
       "      <td>1</td>\n",
       "      <td>0</td>\n",
       "      <td>1</td>\n",
       "      <td>0</td>\n",
       "      <td>0</td>\n",
       "      <td>1</td>\n",
       "      <td>1</td>\n",
       "      <td>1</td>\n",
       "    </tr>\n",
       "  </tbody>\n",
       "</table>\n",
       "<p>5 rows × 21 columns</p>\n",
       "</div>"
      ],
      "text/plain": [
       "      السعر        الموديل  موديل سنة لون السيارة  قوة الماتور  عدد الركاب  \\\n",
       "0  100000.0    كيا اوبتيما       2014  أبيض عاجي        2000.0         5.0   \n",
       "1   60000.0    كيا سورينتو       2007       سكني        2500.0         8.0   \n",
       "2   43500.0  هونداي افانتي       2006       سكني        1600.0         5.0   \n",
       "3    5500.0       فيات 127       1982        بيج         906.0         5.0   \n",
       "4   54000.0       بيجو 208       2014        فضي        1200.0         5.0   \n",
       "\n",
       "   عداد السيارة  أصحاب سابقون أصل السيارة رخصة السيارة  ...       نوع الجير  \\\n",
       "0       75000.0           1.0      خصوصي     فلسطينية   ...      اوتوماتيك    \n",
       "1      130000.0           2.0      خصوصي     فلسطينية   ...  نصف اوتوماتيك    \n",
       "2       65000.0           2.0      خصوصي     فلسطينية   ...      اوتوماتيك    \n",
       "3       65000.0           0.0      خصوصي     فلسطينية   ...           عادي    \n",
       "4       38000.0           2.0      خصوصي     فلسطينية   ...      اوتوماتيك    \n",
       "\n",
       "      الزجاج وسادة حماية هوائية  فرش جلد  جنطات مغنيسيوم  فتحة سقف  مسجل CD  \\\n",
       "0  الكتروني                   1        1               1         1        1   \n",
       "1  الكتروني                   1        1               1         1        1   \n",
       "2  الكتروني                   1        1               1         0        1   \n",
       "3      يدوي                   0        0               0         0        1   \n",
       "4  الكتروني                   1        0               1         0        0   \n",
       "\n",
       "   إغلاق مركزي  مُكيّف  جهاز إنذار  \n",
       "0            1       1           1  \n",
       "1            1       1           1  \n",
       "2            1       1           1  \n",
       "3            0       1           0  \n",
       "4            1       1           1  \n",
       "\n",
       "[5 rows x 21 columns]"
      ]
     },
     "execution_count": 70,
     "metadata": {},
     "output_type": "execute_result"
    }
   ],
   "source": [
    "data.head()"
   ]
  },
  {
   "cell_type": "code",
   "execution_count": 71,
   "metadata": {},
   "outputs": [],
   "source": [
    "gbt = GradientBoostingRegressor() "
   ]
  },
  {
   "cell_type": "code",
   "execution_count": 72,
   "metadata": {},
   "outputs": [],
   "source": [
    "#Number of features to consider when looking for the best split\n",
    "max_features = ['sqrt', 'log2', None] \n",
    "#Number of trees \n",
    "n_estimators = [int(x) for x in np.linspace(start = 100, stop = 500, num = 5)]  \n",
    "#Maximum number of levels in tree\n",
    "max_depth = [int(x) for x in np.linspace(5, 74, num = 10)]  \n",
    "max_depth.append(None)\n",
    "#Minimum number of samples required to split a node\n",
    "min_samples_split = [5, 10, 16] #100, 200, 300\n",
    "#Minimum number of samples required at each leaf node\n",
    "min_samples_leaf = [2, 4, 7]#10, 15, 20  \n",
    "#Method of selecting samples for training each tree\n",
    "learning_rate = [0.01, 0.1] \n",
    "#Create the random grid\n",
    "random_grid = {\n",
    "    'n_estimators': n_estimators,\n",
    "    'max_depth': max_depth,\n",
    "    'min_samples_split': min_samples_split,\n",
    "    'min_samples_leaf': min_samples_leaf,\n",
    "    'learning_rate': learning_rate,\n",
    "    'max_features': max_features\n",
    "    } "
   ]
  },
  {
   "cell_type": "code",
   "execution_count": 73,
   "metadata": {},
   "outputs": [],
   "source": [
    "# Use the random grid to search for best hyperparameters\n",
    "# Random search of parameters, using 4 fold cross validation, \n",
    "# search across 20 different combinations, and use all available cores\n",
    "#define gbt_random a RandomizedSearchCV obj to \n",
    "gbt_random = RandomizedSearchCV(estimator = gbt, # the base model\n",
    "                               param_distributions = random_grid, # grid of hyper parameters\n",
    "                               n_iter = 20, # number of combinations of random hyper parameters to choose\n",
    "                               cv = 5,#5-fold \n",
    "                               verbose=4,  # print some logs while evaluating the different combinations\n",
    "                               n_jobs = 1) # use all cores in the machine to train (parallel)"
   ]
  },
  {
   "cell_type": "code",
   "execution_count": 74,
   "metadata": {},
   "outputs": [],
   "source": [
    "#get categorical features name\n",
    "categorical_features = [col for col in data.columns if data[col].dtypes == 'O']\n",
    "\n",
    "#get numeric features name\n",
    "numeric_features = [\n",
    "                'عدد الركاب', \n",
    "                'قوة الماتور', \n",
    "                'موديل سنة', \n",
    "                'أصحاب سابقون', \n",
    "                'عداد السيارة'\n",
    "                ]"
   ]
  },
  {
   "cell_type": "code",
   "execution_count": 75,
   "metadata": {},
   "outputs": [],
   "source": [
    "ohe = OneHotEncoder(sparse = False, handle_unknown = 'ignore')\n",
    "standard_scaler = StandardScaler()"
   ]
  },
  {
   "cell_type": "code",
   "execution_count": 80,
   "metadata": {},
   "outputs": [],
   "source": [
    "#define transformer to selectively apply data preparation transforms\n",
    "transformer = ColumnTransformer( \n",
    "    transformers = [  \n",
    "        #apply onehot encoding to categorical features\n",
    "        ('categorical', ohe, categorical_features),  \n",
    "    ],\n",
    "    #unspecified columns will be passed through without transformation  \n",
    "    remainder='passthrough',\n",
    "    #prevent adding prefix to columns names\n",
    "    verbose_feature_names_out = False \n",
    ")"
   ]
  },
  {
   "cell_type": "code",
   "execution_count": 81,
   "metadata": {},
   "outputs": [],
   "source": [
    "#slice the target variable and the other features\n",
    "X = data.drop(columns = 'السعر')\n",
    "y = data['السعر'] \n",
    "#transform the data (without the target variable) \n",
    "transformed_X = transformer.fit_transform(X)"
   ]
  },
  {
   "cell_type": "code",
   "execution_count": 82,
   "metadata": {},
   "outputs": [
    {
     "name": "stdout",
     "output_type": "stream",
     "text": [
      "Fitting 5 folds for each of 20 candidates, totalling 100 fits\n",
      "[CV 1/5] END learning_rate=0.1, max_depth=None, max_features=None, min_samples_leaf=2, min_samples_split=5, n_estimators=100;, score=0.729 total time=  52.9s\n",
      "[CV 2/5] END learning_rate=0.1, max_depth=None, max_features=None, min_samples_leaf=2, min_samples_split=5, n_estimators=100;, score=0.740 total time= 1.1min\n",
      "[CV 3/5] END learning_rate=0.1, max_depth=None, max_features=None, min_samples_leaf=2, min_samples_split=5, n_estimators=100;, score=0.711 total time=  52.1s\n",
      "[CV 4/5] END learning_rate=0.1, max_depth=None, max_features=None, min_samples_leaf=2, min_samples_split=5, n_estimators=100;, score=0.733 total time=  59.1s\n",
      "[CV 5/5] END learning_rate=0.1, max_depth=None, max_features=None, min_samples_leaf=2, min_samples_split=5, n_estimators=100;, score=0.786 total time=  50.6s\n",
      "[CV 1/5] END learning_rate=0.01, max_depth=5, max_features=log2, min_samples_leaf=4, min_samples_split=10, n_estimators=300;, score=0.420 total time=   1.1s\n",
      "[CV 2/5] END learning_rate=0.01, max_depth=5, max_features=log2, min_samples_leaf=4, min_samples_split=10, n_estimators=300;, score=0.408 total time=   1.1s\n",
      "[CV 3/5] END learning_rate=0.01, max_depth=5, max_features=log2, min_samples_leaf=4, min_samples_split=10, n_estimators=300;, score=0.425 total time=   1.5s\n",
      "[CV 4/5] END learning_rate=0.01, max_depth=5, max_features=log2, min_samples_leaf=4, min_samples_split=10, n_estimators=300;, score=0.395 total time=   1.0s\n",
      "[CV 5/5] END learning_rate=0.01, max_depth=5, max_features=log2, min_samples_leaf=4, min_samples_split=10, n_estimators=300;, score=0.316 total time=   1.0s\n",
      "[CV 1/5] END learning_rate=0.01, max_depth=5, max_features=sqrt, min_samples_leaf=2, min_samples_split=10, n_estimators=400;, score=0.616 total time=   3.2s\n",
      "[CV 2/5] END learning_rate=0.01, max_depth=5, max_features=sqrt, min_samples_leaf=2, min_samples_split=10, n_estimators=400;, score=0.587 total time=   2.8s\n",
      "[CV 3/5] END learning_rate=0.01, max_depth=5, max_features=sqrt, min_samples_leaf=2, min_samples_split=10, n_estimators=400;, score=0.638 total time=   3.1s\n",
      "[CV 4/5] END learning_rate=0.01, max_depth=5, max_features=sqrt, min_samples_leaf=2, min_samples_split=10, n_estimators=400;, score=0.627 total time=   2.9s\n",
      "[CV 5/5] END learning_rate=0.01, max_depth=5, max_features=sqrt, min_samples_leaf=2, min_samples_split=10, n_estimators=400;, score=0.557 total time=   3.0s\n",
      "[CV 1/5] END learning_rate=0.1, max_depth=None, max_features=None, min_samples_leaf=7, min_samples_split=16, n_estimators=400;, score=0.741 total time= 5.8min\n",
      "[CV 2/5] END learning_rate=0.1, max_depth=None, max_features=None, min_samples_leaf=7, min_samples_split=16, n_estimators=400;, score=0.738 total time= 5.6min\n",
      "[CV 3/5] END learning_rate=0.1, max_depth=None, max_features=None, min_samples_leaf=7, min_samples_split=16, n_estimators=400;, score=0.730 total time= 5.2min\n",
      "[CV 4/5] END learning_rate=0.1, max_depth=None, max_features=None, min_samples_leaf=7, min_samples_split=16, n_estimators=400;, score=0.726 total time= 4.2min\n",
      "[CV 5/5] END learning_rate=0.1, max_depth=None, max_features=None, min_samples_leaf=7, min_samples_split=16, n_estimators=400;, score=0.776 total time= 3.9min\n",
      "[CV 1/5] END learning_rate=0.1, max_depth=5, max_features=log2, min_samples_leaf=2, min_samples_split=10, n_estimators=400;, score=0.710 total time=   1.3s\n",
      "[CV 2/5] END learning_rate=0.1, max_depth=5, max_features=log2, min_samples_leaf=2, min_samples_split=10, n_estimators=400;, score=0.709 total time=   1.5s\n",
      "[CV 3/5] END learning_rate=0.1, max_depth=5, max_features=log2, min_samples_leaf=2, min_samples_split=10, n_estimators=400;, score=0.728 total time=   1.3s\n",
      "[CV 4/5] END learning_rate=0.1, max_depth=5, max_features=log2, min_samples_leaf=2, min_samples_split=10, n_estimators=400;, score=0.717 total time=   1.3s\n",
      "[CV 5/5] END learning_rate=0.1, max_depth=5, max_features=log2, min_samples_leaf=2, min_samples_split=10, n_estimators=400;, score=0.723 total time=   1.5s\n",
      "[CV 1/5] END learning_rate=0.01, max_depth=51, max_features=sqrt, min_samples_leaf=2, min_samples_split=10, n_estimators=500;, score=0.767 total time=  12.5s\n",
      "[CV 2/5] END learning_rate=0.01, max_depth=51, max_features=sqrt, min_samples_leaf=2, min_samples_split=10, n_estimators=500;, score=0.755 total time=  15.4s\n",
      "[CV 3/5] END learning_rate=0.01, max_depth=51, max_features=sqrt, min_samples_leaf=2, min_samples_split=10, n_estimators=500;, score=0.799 total time=  16.8s\n",
      "[CV 4/5] END learning_rate=0.01, max_depth=51, max_features=sqrt, min_samples_leaf=2, min_samples_split=10, n_estimators=500;, score=0.782 total time=  12.4s\n",
      "[CV 5/5] END learning_rate=0.01, max_depth=51, max_features=sqrt, min_samples_leaf=2, min_samples_split=10, n_estimators=500;, score=0.793 total time=  11.2s\n",
      "[CV 1/5] END learning_rate=0.1, max_depth=5, max_features=log2, min_samples_leaf=2, min_samples_split=10, n_estimators=100;, score=0.597 total time=   0.3s\n",
      "[CV 2/5] END learning_rate=0.1, max_depth=5, max_features=log2, min_samples_leaf=2, min_samples_split=10, n_estimators=100;, score=0.620 total time=   0.3s\n",
      "[CV 3/5] END learning_rate=0.1, max_depth=5, max_features=log2, min_samples_leaf=2, min_samples_split=10, n_estimators=100;, score=0.642 total time=   0.3s\n",
      "[CV 4/5] END learning_rate=0.1, max_depth=5, max_features=log2, min_samples_leaf=2, min_samples_split=10, n_estimators=100;, score=0.638 total time=   0.3s\n",
      "[CV 5/5] END learning_rate=0.1, max_depth=5, max_features=log2, min_samples_leaf=2, min_samples_split=10, n_estimators=100;, score=0.593 total time=   0.3s\n",
      "[CV 1/5] END learning_rate=0.1, max_depth=20, max_features=log2, min_samples_leaf=4, min_samples_split=16, n_estimators=100;, score=0.691 total time=   0.7s\n",
      "[CV 2/5] END learning_rate=0.1, max_depth=20, max_features=log2, min_samples_leaf=4, min_samples_split=16, n_estimators=100;, score=0.652 total time=   0.6s\n",
      "[CV 3/5] END learning_rate=0.1, max_depth=20, max_features=log2, min_samples_leaf=4, min_samples_split=16, n_estimators=100;, score=0.727 total time=   0.6s\n",
      "[CV 4/5] END learning_rate=0.1, max_depth=20, max_features=log2, min_samples_leaf=4, min_samples_split=16, n_estimators=100;, score=0.730 total time=   0.7s\n",
      "[CV 5/5] END learning_rate=0.1, max_depth=20, max_features=log2, min_samples_leaf=4, min_samples_split=16, n_estimators=100;, score=0.689 total time=   0.6s\n",
      "[CV 1/5] END learning_rate=0.01, max_depth=43, max_features=sqrt, min_samples_leaf=4, min_samples_split=5, n_estimators=500;, score=0.758 total time=  11.7s\n",
      "[CV 2/5] END learning_rate=0.01, max_depth=43, max_features=sqrt, min_samples_leaf=4, min_samples_split=5, n_estimators=500;, score=0.739 total time=  11.6s\n",
      "[CV 3/5] END learning_rate=0.01, max_depth=43, max_features=sqrt, min_samples_leaf=4, min_samples_split=5, n_estimators=500;, score=0.776 total time=  11.8s\n",
      "[CV 4/5] END learning_rate=0.01, max_depth=43, max_features=sqrt, min_samples_leaf=4, min_samples_split=5, n_estimators=500;, score=0.769 total time=  10.6s\n",
      "[CV 5/5] END learning_rate=0.01, max_depth=43, max_features=sqrt, min_samples_leaf=4, min_samples_split=5, n_estimators=500;, score=0.778 total time=  12.8s\n",
      "[CV 1/5] END learning_rate=0.1, max_depth=51, max_features=None, min_samples_leaf=4, min_samples_split=5, n_estimators=300;, score=0.729 total time= 3.8min\n",
      "[CV 2/5] END learning_rate=0.1, max_depth=51, max_features=None, min_samples_leaf=4, min_samples_split=5, n_estimators=300;, score=0.734 total time= 3.5min\n",
      "[CV 3/5] END learning_rate=0.1, max_depth=51, max_features=None, min_samples_leaf=4, min_samples_split=5, n_estimators=300;, score=0.730 total time= 2.6min\n",
      "[CV 4/5] END learning_rate=0.1, max_depth=51, max_features=None, min_samples_leaf=4, min_samples_split=5, n_estimators=300;, score=0.724 total time= 2.6min\n",
      "[CV 5/5] END learning_rate=0.1, max_depth=51, max_features=None, min_samples_leaf=4, min_samples_split=5, n_estimators=300;, score=0.788 total time= 2.6min\n",
      "[CV 1/5] END learning_rate=0.1, max_depth=66, max_features=sqrt, min_samples_leaf=7, min_samples_split=5, n_estimators=200;, score=0.766 total time=   5.6s\n",
      "[CV 2/5] END learning_rate=0.1, max_depth=66, max_features=sqrt, min_samples_leaf=7, min_samples_split=5, n_estimators=200;, score=0.759 total time=   4.0s\n",
      "[CV 3/5] END learning_rate=0.1, max_depth=66, max_features=sqrt, min_samples_leaf=7, min_samples_split=5, n_estimators=200;, score=0.783 total time=   4.1s\n",
      "[CV 4/5] END learning_rate=0.1, max_depth=66, max_features=sqrt, min_samples_leaf=7, min_samples_split=5, n_estimators=200;, score=0.769 total time=   4.0s\n",
      "[CV 5/5] END learning_rate=0.1, max_depth=66, max_features=sqrt, min_samples_leaf=7, min_samples_split=5, n_estimators=200;, score=0.807 total time=   4.1s\n",
      "[CV 1/5] END learning_rate=0.01, max_depth=43, max_features=sqrt, min_samples_leaf=4, min_samples_split=10, n_estimators=400;, score=0.746 total time=   5.9s\n",
      "[CV 2/5] END learning_rate=0.01, max_depth=43, max_features=sqrt, min_samples_leaf=4, min_samples_split=10, n_estimators=400;, score=0.722 total time=   5.9s\n",
      "[CV 3/5] END learning_rate=0.01, max_depth=43, max_features=sqrt, min_samples_leaf=4, min_samples_split=10, n_estimators=400;, score=0.766 total time=   5.9s\n",
      "[CV 4/5] END learning_rate=0.01, max_depth=43, max_features=sqrt, min_samples_leaf=4, min_samples_split=10, n_estimators=400;, score=0.760 total time=   8.9s\n",
      "[CV 5/5] END learning_rate=0.01, max_depth=43, max_features=sqrt, min_samples_leaf=4, min_samples_split=10, n_estimators=400;, score=0.751 total time=   8.2s\n",
      "[CV 1/5] END learning_rate=0.1, max_depth=51, max_features=log2, min_samples_leaf=2, min_samples_split=16, n_estimators=400;, score=0.753 total time=   5.4s\n",
      "[CV 2/5] END learning_rate=0.1, max_depth=51, max_features=log2, min_samples_leaf=2, min_samples_split=16, n_estimators=400;, score=0.767 total time=   5.6s\n",
      "[CV 3/5] END learning_rate=0.1, max_depth=51, max_features=log2, min_samples_leaf=2, min_samples_split=16, n_estimators=400;, score=0.791 total time=   6.2s\n",
      "[CV 4/5] END learning_rate=0.1, max_depth=51, max_features=log2, min_samples_leaf=2, min_samples_split=16, n_estimators=400;, score=0.778 total time=   5.8s\n",
      "[CV 5/5] END learning_rate=0.1, max_depth=51, max_features=log2, min_samples_leaf=2, min_samples_split=16, n_estimators=400;, score=0.802 total time=   4.8s\n",
      "[CV 1/5] END learning_rate=0.1, max_depth=None, max_features=None, min_samples_leaf=7, min_samples_split=10, n_estimators=300;, score=0.746 total time= 3.2min\n",
      "[CV 2/5] END learning_rate=0.1, max_depth=None, max_features=None, min_samples_leaf=7, min_samples_split=10, n_estimators=300;, score=0.740 total time= 2.1min\n",
      "[CV 3/5] END learning_rate=0.1, max_depth=None, max_features=None, min_samples_leaf=7, min_samples_split=10, n_estimators=300;, score=0.737 total time= 3.0min\n",
      "[CV 4/5] END learning_rate=0.1, max_depth=None, max_features=None, min_samples_leaf=7, min_samples_split=10, n_estimators=300;, score=0.720 total time= 3.6min\n",
      "[CV 5/5] END learning_rate=0.1, max_depth=None, max_features=None, min_samples_leaf=7, min_samples_split=10, n_estimators=300;, score=0.781 total time= 3.1min\n",
      "[CV 1/5] END learning_rate=0.01, max_depth=43, max_features=sqrt, min_samples_leaf=7, min_samples_split=5, n_estimators=400;, score=0.720 total time=   6.5s\n",
      "[CV 2/5] END learning_rate=0.01, max_depth=43, max_features=sqrt, min_samples_leaf=7, min_samples_split=5, n_estimators=400;, score=0.696 total time=   7.9s\n",
      "[CV 3/5] END learning_rate=0.01, max_depth=43, max_features=sqrt, min_samples_leaf=7, min_samples_split=5, n_estimators=400;, score=0.740 total time=   9.9s\n",
      "[CV 4/5] END learning_rate=0.01, max_depth=43, max_features=sqrt, min_samples_leaf=7, min_samples_split=5, n_estimators=400;, score=0.731 total time=   8.7s\n",
      "[CV 5/5] END learning_rate=0.01, max_depth=43, max_features=sqrt, min_samples_leaf=7, min_samples_split=5, n_estimators=400;, score=0.712 total time=  14.4s\n",
      "[CV 1/5] END learning_rate=0.01, max_depth=None, max_features=log2, min_samples_leaf=7, min_samples_split=16, n_estimators=400;, score=0.557 total time=   3.3s\n",
      "[CV 2/5] END learning_rate=0.01, max_depth=None, max_features=log2, min_samples_leaf=7, min_samples_split=16, n_estimators=400;, score=0.542 total time=   2.2s\n",
      "[CV 3/5] END learning_rate=0.01, max_depth=None, max_features=log2, min_samples_leaf=7, min_samples_split=16, n_estimators=400;, score=0.570 total time=   2.2s\n",
      "[CV 4/5] END learning_rate=0.01, max_depth=None, max_features=log2, min_samples_leaf=7, min_samples_split=16, n_estimators=400;, score=0.558 total time=   2.1s\n",
      "[CV 5/5] END learning_rate=0.01, max_depth=None, max_features=log2, min_samples_leaf=7, min_samples_split=16, n_estimators=400;, score=0.483 total time=   2.1s\n",
      "[CV 1/5] END learning_rate=0.01, max_depth=35, max_features=sqrt, min_samples_leaf=4, min_samples_split=16, n_estimators=300;, score=0.718 total time=   5.1s\n",
      "[CV 2/5] END learning_rate=0.01, max_depth=35, max_features=sqrt, min_samples_leaf=4, min_samples_split=16, n_estimators=300;, score=0.698 total time=   3.9s\n",
      "[CV 3/5] END learning_rate=0.01, max_depth=35, max_features=sqrt, min_samples_leaf=4, min_samples_split=16, n_estimators=300;, score=0.740 total time=   3.8s\n",
      "[CV 4/5] END learning_rate=0.01, max_depth=35, max_features=sqrt, min_samples_leaf=4, min_samples_split=16, n_estimators=300;, score=0.725 total time=   3.6s\n",
      "[CV 5/5] END learning_rate=0.01, max_depth=35, max_features=sqrt, min_samples_leaf=4, min_samples_split=16, n_estimators=300;, score=0.713 total time=   4.2s\n",
      "[CV 1/5] END learning_rate=0.1, max_depth=51, max_features=log2, min_samples_leaf=4, min_samples_split=16, n_estimators=400;, score=0.749 total time=   2.8s\n",
      "[CV 2/5] END learning_rate=0.1, max_depth=51, max_features=log2, min_samples_leaf=4, min_samples_split=16, n_estimators=400;, score=0.747 total time=   2.7s\n",
      "[CV 3/5] END learning_rate=0.1, max_depth=51, max_features=log2, min_samples_leaf=4, min_samples_split=16, n_estimators=400;, score=0.783 total time=   2.7s\n",
      "[CV 4/5] END learning_rate=0.1, max_depth=51, max_features=log2, min_samples_leaf=4, min_samples_split=16, n_estimators=400;, score=0.773 total time=   2.8s\n",
      "[CV 5/5] END learning_rate=0.1, max_depth=51, max_features=log2, min_samples_leaf=4, min_samples_split=16, n_estimators=400;, score=0.791 total time=   3.0s\n",
      "[CV 1/5] END learning_rate=0.01, max_depth=5, max_features=sqrt, min_samples_leaf=7, min_samples_split=16, n_estimators=500;, score=0.625 total time=   3.1s\n",
      "[CV 2/5] END learning_rate=0.01, max_depth=5, max_features=sqrt, min_samples_leaf=7, min_samples_split=16, n_estimators=500;, score=0.602 total time=   3.0s\n",
      "[CV 3/5] END learning_rate=0.01, max_depth=5, max_features=sqrt, min_samples_leaf=7, min_samples_split=16, n_estimators=500;, score=0.633 total time=   3.1s\n",
      "[CV 4/5] END learning_rate=0.01, max_depth=5, max_features=sqrt, min_samples_leaf=7, min_samples_split=16, n_estimators=500;, score=0.633 total time=   2.9s\n",
      "[CV 5/5] END learning_rate=0.01, max_depth=5, max_features=sqrt, min_samples_leaf=7, min_samples_split=16, n_estimators=500;, score=0.589 total time=   2.9s\n",
      "[CV 1/5] END learning_rate=0.1, max_depth=35, max_features=None, min_samples_leaf=7, min_samples_split=16, n_estimators=300;, score=0.741 total time= 2.9min\n",
      "[CV 2/5] END learning_rate=0.1, max_depth=35, max_features=None, min_samples_leaf=7, min_samples_split=16, n_estimators=300;, score=0.736 total time= 3.2min\n",
      "[CV 3/5] END learning_rate=0.1, max_depth=35, max_features=None, min_samples_leaf=7, min_samples_split=16, n_estimators=300;, score=0.732 total time= 2.5min\n",
      "[CV 4/5] END learning_rate=0.1, max_depth=35, max_features=None, min_samples_leaf=7, min_samples_split=16, n_estimators=300;, score=0.724 total time= 2.5min\n",
      "[CV 5/5] END learning_rate=0.1, max_depth=35, max_features=None, min_samples_leaf=7, min_samples_split=16, n_estimators=300;, score=0.775 total time= 2.3min\n"
     ]
    },
    {
     "data": {
      "text/html": [
       "<style>#sk-container-id-12 {color: black;background-color: white;}#sk-container-id-12 pre{padding: 0;}#sk-container-id-12 div.sk-toggleable {background-color: white;}#sk-container-id-12 label.sk-toggleable__label {cursor: pointer;display: block;width: 100%;margin-bottom: 0;padding: 0.3em;box-sizing: border-box;text-align: center;}#sk-container-id-12 label.sk-toggleable__label-arrow:before {content: \"▸\";float: left;margin-right: 0.25em;color: #696969;}#sk-container-id-12 label.sk-toggleable__label-arrow:hover:before {color: black;}#sk-container-id-12 div.sk-estimator:hover label.sk-toggleable__label-arrow:before {color: black;}#sk-container-id-12 div.sk-toggleable__content {max-height: 0;max-width: 0;overflow: hidden;text-align: left;background-color: #f0f8ff;}#sk-container-id-12 div.sk-toggleable__content pre {margin: 0.2em;color: black;border-radius: 0.25em;background-color: #f0f8ff;}#sk-container-id-12 input.sk-toggleable__control:checked~div.sk-toggleable__content {max-height: 200px;max-width: 100%;overflow: auto;}#sk-container-id-12 input.sk-toggleable__control:checked~label.sk-toggleable__label-arrow:before {content: \"▾\";}#sk-container-id-12 div.sk-estimator input.sk-toggleable__control:checked~label.sk-toggleable__label {background-color: #d4ebff;}#sk-container-id-12 div.sk-label input.sk-toggleable__control:checked~label.sk-toggleable__label {background-color: #d4ebff;}#sk-container-id-12 input.sk-hidden--visually {border: 0;clip: rect(1px 1px 1px 1px);clip: rect(1px, 1px, 1px, 1px);height: 1px;margin: -1px;overflow: hidden;padding: 0;position: absolute;width: 1px;}#sk-container-id-12 div.sk-estimator {font-family: monospace;background-color: #f0f8ff;border: 1px dotted black;border-radius: 0.25em;box-sizing: border-box;margin-bottom: 0.5em;}#sk-container-id-12 div.sk-estimator:hover {background-color: #d4ebff;}#sk-container-id-12 div.sk-parallel-item::after {content: \"\";width: 100%;border-bottom: 1px solid gray;flex-grow: 1;}#sk-container-id-12 div.sk-label:hover label.sk-toggleable__label {background-color: #d4ebff;}#sk-container-id-12 div.sk-serial::before {content: \"\";position: absolute;border-left: 1px solid gray;box-sizing: border-box;top: 0;bottom: 0;left: 50%;z-index: 0;}#sk-container-id-12 div.sk-serial {display: flex;flex-direction: column;align-items: center;background-color: white;padding-right: 0.2em;padding-left: 0.2em;position: relative;}#sk-container-id-12 div.sk-item {position: relative;z-index: 1;}#sk-container-id-12 div.sk-parallel {display: flex;align-items: stretch;justify-content: center;background-color: white;position: relative;}#sk-container-id-12 div.sk-item::before, #sk-container-id-12 div.sk-parallel-item::before {content: \"\";position: absolute;border-left: 1px solid gray;box-sizing: border-box;top: 0;bottom: 0;left: 50%;z-index: -1;}#sk-container-id-12 div.sk-parallel-item {display: flex;flex-direction: column;z-index: 1;position: relative;background-color: white;}#sk-container-id-12 div.sk-parallel-item:first-child::after {align-self: flex-end;width: 50%;}#sk-container-id-12 div.sk-parallel-item:last-child::after {align-self: flex-start;width: 50%;}#sk-container-id-12 div.sk-parallel-item:only-child::after {width: 0;}#sk-container-id-12 div.sk-dashed-wrapped {border: 1px dashed gray;margin: 0 0.4em 0.5em 0.4em;box-sizing: border-box;padding-bottom: 0.4em;background-color: white;}#sk-container-id-12 div.sk-label label {font-family: monospace;font-weight: bold;display: inline-block;line-height: 1.2em;}#sk-container-id-12 div.sk-label-container {text-align: center;}#sk-container-id-12 div.sk-container {/* jupyter's `normalize.less` sets `[hidden] { display: none; }` but bootstrap.min.css set `[hidden] { display: none !important; }` so we also need the `!important` here to be able to override the default hidden behavior on the sphinx rendered scikit-learn.org. See: https://github.com/scikit-learn/scikit-learn/issues/21755 */display: inline-block !important;position: relative;}#sk-container-id-12 div.sk-text-repr-fallback {display: none;}</style><div id=\"sk-container-id-12\" class=\"sk-top-container\"><div class=\"sk-text-repr-fallback\"><pre>RandomizedSearchCV(cv=5, estimator=GradientBoostingRegressor(), n_iter=20,\n",
       "                   n_jobs=1,\n",
       "                   param_distributions={&#x27;learning_rate&#x27;: [0.01, 0.1],\n",
       "                                        &#x27;max_depth&#x27;: [5, 12, 20, 28, 35, 43, 51,\n",
       "                                                      58, 66, 74, None],\n",
       "                                        &#x27;max_features&#x27;: [&#x27;sqrt&#x27;, &#x27;log2&#x27;, None],\n",
       "                                        &#x27;min_samples_leaf&#x27;: [2, 4, 7],\n",
       "                                        &#x27;min_samples_split&#x27;: [5, 10, 16],\n",
       "                                        &#x27;n_estimators&#x27;: [100, 200, 300, 400,\n",
       "                                                         500]},\n",
       "                   verbose=4)</pre><b>In a Jupyter environment, please rerun this cell to show the HTML representation or trust the notebook. <br />On GitHub, the HTML representation is unable to render, please try loading this page with nbviewer.org.</b></div><div class=\"sk-container\" hidden><div class=\"sk-item sk-dashed-wrapped\"><div class=\"sk-label-container\"><div class=\"sk-label sk-toggleable\"><input class=\"sk-toggleable__control sk-hidden--visually\" id=\"sk-estimator-id-14\" type=\"checkbox\" ><label for=\"sk-estimator-id-14\" class=\"sk-toggleable__label sk-toggleable__label-arrow\">RandomizedSearchCV</label><div class=\"sk-toggleable__content\"><pre>RandomizedSearchCV(cv=5, estimator=GradientBoostingRegressor(), n_iter=20,\n",
       "                   n_jobs=1,\n",
       "                   param_distributions={&#x27;learning_rate&#x27;: [0.01, 0.1],\n",
       "                                        &#x27;max_depth&#x27;: [5, 12, 20, 28, 35, 43, 51,\n",
       "                                                      58, 66, 74, None],\n",
       "                                        &#x27;max_features&#x27;: [&#x27;sqrt&#x27;, &#x27;log2&#x27;, None],\n",
       "                                        &#x27;min_samples_leaf&#x27;: [2, 4, 7],\n",
       "                                        &#x27;min_samples_split&#x27;: [5, 10, 16],\n",
       "                                        &#x27;n_estimators&#x27;: [100, 200, 300, 400,\n",
       "                                                         500]},\n",
       "                   verbose=4)</pre></div></div></div><div class=\"sk-parallel\"><div class=\"sk-parallel-item\"><div class=\"sk-item\"><div class=\"sk-label-container\"><div class=\"sk-label sk-toggleable\"><input class=\"sk-toggleable__control sk-hidden--visually\" id=\"sk-estimator-id-15\" type=\"checkbox\" ><label for=\"sk-estimator-id-15\" class=\"sk-toggleable__label sk-toggleable__label-arrow\">estimator: GradientBoostingRegressor</label><div class=\"sk-toggleable__content\"><pre>GradientBoostingRegressor()</pre></div></div></div><div class=\"sk-serial\"><div class=\"sk-item\"><div class=\"sk-estimator sk-toggleable\"><input class=\"sk-toggleable__control sk-hidden--visually\" id=\"sk-estimator-id-16\" type=\"checkbox\" ><label for=\"sk-estimator-id-16\" class=\"sk-toggleable__label sk-toggleable__label-arrow\">GradientBoostingRegressor</label><div class=\"sk-toggleable__content\"><pre>GradientBoostingRegressor()</pre></div></div></div></div></div></div></div></div></div></div>"
      ],
      "text/plain": [
       "RandomizedSearchCV(cv=5, estimator=GradientBoostingRegressor(), n_iter=20,\n",
       "                   n_jobs=1,\n",
       "                   param_distributions={'learning_rate': [0.01, 0.1],\n",
       "                                        'max_depth': [5, 12, 20, 28, 35, 43, 51,\n",
       "                                                      58, 66, 74, None],\n",
       "                                        'max_features': ['sqrt', 'log2', None],\n",
       "                                        'min_samples_leaf': [2, 4, 7],\n",
       "                                        'min_samples_split': [5, 10, 16],\n",
       "                                        'n_estimators': [100, 200, 300, 400,\n",
       "                                                         500]},\n",
       "                   verbose=4)"
      ]
     },
     "execution_count": 82,
     "metadata": {},
     "output_type": "execute_result"
    }
   ],
   "source": [
    "#Fit the random search model  \n",
    "gbt_random.fit(transformed_X, y)"
   ]
  },
  {
   "cell_type": "code",
   "execution_count": 83,
   "metadata": {},
   "outputs": [],
   "source": [
    "best_gbt_model = gbt_random.best_estimator_"
   ]
  },
  {
   "cell_type": "code",
   "execution_count": 84,
   "metadata": {},
   "outputs": [
    {
     "data": {
      "text/plain": [
       "{'n_estimators': 500,\n",
       " 'min_samples_split': 10,\n",
       " 'min_samples_leaf': 2,\n",
       " 'max_features': 'sqrt',\n",
       " 'max_depth': 51,\n",
       " 'learning_rate': 0.01}"
      ]
     },
     "execution_count": 84,
     "metadata": {},
     "output_type": "execute_result"
    }
   ],
   "source": [
    "gbt_random.best_params_"
   ]
  },
  {
   "cell_type": "code",
   "execution_count": 85,
   "metadata": {},
   "outputs": [
    {
     "name": "stdout",
     "output_type": "stream",
     "text": [
      "Best parameters:\n",
      " {'n_estimators': 500, 'min_samples_split': 10, 'min_samples_leaf': 2, 'max_features': 'sqrt', 'max_depth': 51, 'learning_rate': 0.01}\n",
      "\n",
      " Best score\n",
      " 0.7791771230827625\n"
     ]
    }
   ],
   "source": [
    "print(f\"Best parameters:\\n {gbt_random.best_params_}\\n\\n Best score\\n {gbt_random.best_score_}\")"
   ]
  },
  {
   "cell_type": "code",
   "execution_count": 86,
   "metadata": {},
   "outputs": [
    {
     "data": {
      "text/html": [
       "<style>#sk-container-id-13 {color: black;background-color: white;}#sk-container-id-13 pre{padding: 0;}#sk-container-id-13 div.sk-toggleable {background-color: white;}#sk-container-id-13 label.sk-toggleable__label {cursor: pointer;display: block;width: 100%;margin-bottom: 0;padding: 0.3em;box-sizing: border-box;text-align: center;}#sk-container-id-13 label.sk-toggleable__label-arrow:before {content: \"▸\";float: left;margin-right: 0.25em;color: #696969;}#sk-container-id-13 label.sk-toggleable__label-arrow:hover:before {color: black;}#sk-container-id-13 div.sk-estimator:hover label.sk-toggleable__label-arrow:before {color: black;}#sk-container-id-13 div.sk-toggleable__content {max-height: 0;max-width: 0;overflow: hidden;text-align: left;background-color: #f0f8ff;}#sk-container-id-13 div.sk-toggleable__content pre {margin: 0.2em;color: black;border-radius: 0.25em;background-color: #f0f8ff;}#sk-container-id-13 input.sk-toggleable__control:checked~div.sk-toggleable__content {max-height: 200px;max-width: 100%;overflow: auto;}#sk-container-id-13 input.sk-toggleable__control:checked~label.sk-toggleable__label-arrow:before {content: \"▾\";}#sk-container-id-13 div.sk-estimator input.sk-toggleable__control:checked~label.sk-toggleable__label {background-color: #d4ebff;}#sk-container-id-13 div.sk-label input.sk-toggleable__control:checked~label.sk-toggleable__label {background-color: #d4ebff;}#sk-container-id-13 input.sk-hidden--visually {border: 0;clip: rect(1px 1px 1px 1px);clip: rect(1px, 1px, 1px, 1px);height: 1px;margin: -1px;overflow: hidden;padding: 0;position: absolute;width: 1px;}#sk-container-id-13 div.sk-estimator {font-family: monospace;background-color: #f0f8ff;border: 1px dotted black;border-radius: 0.25em;box-sizing: border-box;margin-bottom: 0.5em;}#sk-container-id-13 div.sk-estimator:hover {background-color: #d4ebff;}#sk-container-id-13 div.sk-parallel-item::after {content: \"\";width: 100%;border-bottom: 1px solid gray;flex-grow: 1;}#sk-container-id-13 div.sk-label:hover label.sk-toggleable__label {background-color: #d4ebff;}#sk-container-id-13 div.sk-serial::before {content: \"\";position: absolute;border-left: 1px solid gray;box-sizing: border-box;top: 0;bottom: 0;left: 50%;z-index: 0;}#sk-container-id-13 div.sk-serial {display: flex;flex-direction: column;align-items: center;background-color: white;padding-right: 0.2em;padding-left: 0.2em;position: relative;}#sk-container-id-13 div.sk-item {position: relative;z-index: 1;}#sk-container-id-13 div.sk-parallel {display: flex;align-items: stretch;justify-content: center;background-color: white;position: relative;}#sk-container-id-13 div.sk-item::before, #sk-container-id-13 div.sk-parallel-item::before {content: \"\";position: absolute;border-left: 1px solid gray;box-sizing: border-box;top: 0;bottom: 0;left: 50%;z-index: -1;}#sk-container-id-13 div.sk-parallel-item {display: flex;flex-direction: column;z-index: 1;position: relative;background-color: white;}#sk-container-id-13 div.sk-parallel-item:first-child::after {align-self: flex-end;width: 50%;}#sk-container-id-13 div.sk-parallel-item:last-child::after {align-self: flex-start;width: 50%;}#sk-container-id-13 div.sk-parallel-item:only-child::after {width: 0;}#sk-container-id-13 div.sk-dashed-wrapped {border: 1px dashed gray;margin: 0 0.4em 0.5em 0.4em;box-sizing: border-box;padding-bottom: 0.4em;background-color: white;}#sk-container-id-13 div.sk-label label {font-family: monospace;font-weight: bold;display: inline-block;line-height: 1.2em;}#sk-container-id-13 div.sk-label-container {text-align: center;}#sk-container-id-13 div.sk-container {/* jupyter's `normalize.less` sets `[hidden] { display: none; }` but bootstrap.min.css set `[hidden] { display: none !important; }` so we also need the `!important` here to be able to override the default hidden behavior on the sphinx rendered scikit-learn.org. See: https://github.com/scikit-learn/scikit-learn/issues/21755 */display: inline-block !important;position: relative;}#sk-container-id-13 div.sk-text-repr-fallback {display: none;}</style><div id=\"sk-container-id-13\" class=\"sk-top-container\"><div class=\"sk-text-repr-fallback\"><pre>GradientBoostingRegressor(learning_rate=0.01, max_depth=51, max_features=&#x27;sqrt&#x27;,\n",
       "                          min_samples_leaf=2, min_samples_split=10,\n",
       "                          n_estimators=500)</pre><b>In a Jupyter environment, please rerun this cell to show the HTML representation or trust the notebook. <br />On GitHub, the HTML representation is unable to render, please try loading this page with nbviewer.org.</b></div><div class=\"sk-container\" hidden><div class=\"sk-item\"><div class=\"sk-estimator sk-toggleable\"><input class=\"sk-toggleable__control sk-hidden--visually\" id=\"sk-estimator-id-17\" type=\"checkbox\" checked><label for=\"sk-estimator-id-17\" class=\"sk-toggleable__label sk-toggleable__label-arrow\">GradientBoostingRegressor</label><div class=\"sk-toggleable__content\"><pre>GradientBoostingRegressor(learning_rate=0.01, max_depth=51, max_features=&#x27;sqrt&#x27;,\n",
       "                          min_samples_leaf=2, min_samples_split=10,\n",
       "                          n_estimators=500)</pre></div></div></div></div></div>"
      ],
      "text/plain": [
       "GradientBoostingRegressor(learning_rate=0.01, max_depth=51, max_features='sqrt',\n",
       "                          min_samples_leaf=2, min_samples_split=10,\n",
       "                          n_estimators=500)"
      ]
     },
     "execution_count": 86,
     "metadata": {},
     "output_type": "execute_result"
    }
   ],
   "source": [
    "gbt_random.best_estimator_ "
   ]
  },
  {
   "cell_type": "code",
   "execution_count": 93,
   "metadata": {},
   "outputs": [
    {
     "data": {
      "text/html": [
       "<style>#sk-container-id-15 {color: black;background-color: white;}#sk-container-id-15 pre{padding: 0;}#sk-container-id-15 div.sk-toggleable {background-color: white;}#sk-container-id-15 label.sk-toggleable__label {cursor: pointer;display: block;width: 100%;margin-bottom: 0;padding: 0.3em;box-sizing: border-box;text-align: center;}#sk-container-id-15 label.sk-toggleable__label-arrow:before {content: \"▸\";float: left;margin-right: 0.25em;color: #696969;}#sk-container-id-15 label.sk-toggleable__label-arrow:hover:before {color: black;}#sk-container-id-15 div.sk-estimator:hover label.sk-toggleable__label-arrow:before {color: black;}#sk-container-id-15 div.sk-toggleable__content {max-height: 0;max-width: 0;overflow: hidden;text-align: left;background-color: #f0f8ff;}#sk-container-id-15 div.sk-toggleable__content pre {margin: 0.2em;color: black;border-radius: 0.25em;background-color: #f0f8ff;}#sk-container-id-15 input.sk-toggleable__control:checked~div.sk-toggleable__content {max-height: 200px;max-width: 100%;overflow: auto;}#sk-container-id-15 input.sk-toggleable__control:checked~label.sk-toggleable__label-arrow:before {content: \"▾\";}#sk-container-id-15 div.sk-estimator input.sk-toggleable__control:checked~label.sk-toggleable__label {background-color: #d4ebff;}#sk-container-id-15 div.sk-label input.sk-toggleable__control:checked~label.sk-toggleable__label {background-color: #d4ebff;}#sk-container-id-15 input.sk-hidden--visually {border: 0;clip: rect(1px 1px 1px 1px);clip: rect(1px, 1px, 1px, 1px);height: 1px;margin: -1px;overflow: hidden;padding: 0;position: absolute;width: 1px;}#sk-container-id-15 div.sk-estimator {font-family: monospace;background-color: #f0f8ff;border: 1px dotted black;border-radius: 0.25em;box-sizing: border-box;margin-bottom: 0.5em;}#sk-container-id-15 div.sk-estimator:hover {background-color: #d4ebff;}#sk-container-id-15 div.sk-parallel-item::after {content: \"\";width: 100%;border-bottom: 1px solid gray;flex-grow: 1;}#sk-container-id-15 div.sk-label:hover label.sk-toggleable__label {background-color: #d4ebff;}#sk-container-id-15 div.sk-serial::before {content: \"\";position: absolute;border-left: 1px solid gray;box-sizing: border-box;top: 0;bottom: 0;left: 50%;z-index: 0;}#sk-container-id-15 div.sk-serial {display: flex;flex-direction: column;align-items: center;background-color: white;padding-right: 0.2em;padding-left: 0.2em;position: relative;}#sk-container-id-15 div.sk-item {position: relative;z-index: 1;}#sk-container-id-15 div.sk-parallel {display: flex;align-items: stretch;justify-content: center;background-color: white;position: relative;}#sk-container-id-15 div.sk-item::before, #sk-container-id-15 div.sk-parallel-item::before {content: \"\";position: absolute;border-left: 1px solid gray;box-sizing: border-box;top: 0;bottom: 0;left: 50%;z-index: -1;}#sk-container-id-15 div.sk-parallel-item {display: flex;flex-direction: column;z-index: 1;position: relative;background-color: white;}#sk-container-id-15 div.sk-parallel-item:first-child::after {align-self: flex-end;width: 50%;}#sk-container-id-15 div.sk-parallel-item:last-child::after {align-self: flex-start;width: 50%;}#sk-container-id-15 div.sk-parallel-item:only-child::after {width: 0;}#sk-container-id-15 div.sk-dashed-wrapped {border: 1px dashed gray;margin: 0 0.4em 0.5em 0.4em;box-sizing: border-box;padding-bottom: 0.4em;background-color: white;}#sk-container-id-15 div.sk-label label {font-family: monospace;font-weight: bold;display: inline-block;line-height: 1.2em;}#sk-container-id-15 div.sk-label-container {text-align: center;}#sk-container-id-15 div.sk-container {/* jupyter's `normalize.less` sets `[hidden] { display: none; }` but bootstrap.min.css set `[hidden] { display: none !important; }` so we also need the `!important` here to be able to override the default hidden behavior on the sphinx rendered scikit-learn.org. See: https://github.com/scikit-learn/scikit-learn/issues/21755 */display: inline-block !important;position: relative;}#sk-container-id-15 div.sk-text-repr-fallback {display: none;}</style><div id=\"sk-container-id-15\" class=\"sk-top-container\"><div class=\"sk-text-repr-fallback\"><pre>RandomizedSearchCV(cv=5, estimator=GradientBoostingRegressor(), n_iter=20,\n",
       "                   n_jobs=1,\n",
       "                   param_distributions={&#x27;learning_rate&#x27;: [0.01, 0.1],\n",
       "                                        &#x27;max_depth&#x27;: [5, 12, 20, 28, 35, 43, 51,\n",
       "                                                      58, 66, 74, None],\n",
       "                                        &#x27;max_features&#x27;: [&#x27;sqrt&#x27;, &#x27;log2&#x27;, None],\n",
       "                                        &#x27;min_samples_leaf&#x27;: [2, 4, 7],\n",
       "                                        &#x27;min_samples_split&#x27;: [5, 10, 16],\n",
       "                                        &#x27;n_estimators&#x27;: [100, 200, 300, 400,\n",
       "                                                         500]},\n",
       "                   verbose=4)</pre><b>In a Jupyter environment, please rerun this cell to show the HTML representation or trust the notebook. <br />On GitHub, the HTML representation is unable to render, please try loading this page with nbviewer.org.</b></div><div class=\"sk-container\" hidden><div class=\"sk-item sk-dashed-wrapped\"><div class=\"sk-label-container\"><div class=\"sk-label sk-toggleable\"><input class=\"sk-toggleable__control sk-hidden--visually\" id=\"sk-estimator-id-25\" type=\"checkbox\" ><label for=\"sk-estimator-id-25\" class=\"sk-toggleable__label sk-toggleable__label-arrow\">RandomizedSearchCV</label><div class=\"sk-toggleable__content\"><pre>RandomizedSearchCV(cv=5, estimator=GradientBoostingRegressor(), n_iter=20,\n",
       "                   n_jobs=1,\n",
       "                   param_distributions={&#x27;learning_rate&#x27;: [0.01, 0.1],\n",
       "                                        &#x27;max_depth&#x27;: [5, 12, 20, 28, 35, 43, 51,\n",
       "                                                      58, 66, 74, None],\n",
       "                                        &#x27;max_features&#x27;: [&#x27;sqrt&#x27;, &#x27;log2&#x27;, None],\n",
       "                                        &#x27;min_samples_leaf&#x27;: [2, 4, 7],\n",
       "                                        &#x27;min_samples_split&#x27;: [5, 10, 16],\n",
       "                                        &#x27;n_estimators&#x27;: [100, 200, 300, 400,\n",
       "                                                         500]},\n",
       "                   verbose=4)</pre></div></div></div><div class=\"sk-parallel\"><div class=\"sk-parallel-item\"><div class=\"sk-item\"><div class=\"sk-label-container\"><div class=\"sk-label sk-toggleable\"><input class=\"sk-toggleable__control sk-hidden--visually\" id=\"sk-estimator-id-26\" type=\"checkbox\" ><label for=\"sk-estimator-id-26\" class=\"sk-toggleable__label sk-toggleable__label-arrow\">estimator: GradientBoostingRegressor</label><div class=\"sk-toggleable__content\"><pre>GradientBoostingRegressor()</pre></div></div></div><div class=\"sk-serial\"><div class=\"sk-item\"><div class=\"sk-estimator sk-toggleable\"><input class=\"sk-toggleable__control sk-hidden--visually\" id=\"sk-estimator-id-27\" type=\"checkbox\" ><label for=\"sk-estimator-id-27\" class=\"sk-toggleable__label sk-toggleable__label-arrow\">GradientBoostingRegressor</label><div class=\"sk-toggleable__content\"><pre>GradientBoostingRegressor()</pre></div></div></div></div></div></div></div></div></div></div>"
      ],
      "text/plain": [
       "RandomizedSearchCV(cv=5, estimator=GradientBoostingRegressor(), n_iter=20,\n",
       "                   n_jobs=1,\n",
       "                   param_distributions={'learning_rate': [0.01, 0.1],\n",
       "                                        'max_depth': [5, 12, 20, 28, 35, 43, 51,\n",
       "                                                      58, 66, 74, None],\n",
       "                                        'max_features': ['sqrt', 'log2', None],\n",
       "                                        'min_samples_leaf': [2, 4, 7],\n",
       "                                        'min_samples_split': [5, 10, 16],\n",
       "                                        'n_estimators': [100, 200, 300, 400,\n",
       "                                                         500]},\n",
       "                   verbose=4)"
      ]
     },
     "execution_count": 93,
     "metadata": {},
     "output_type": "execute_result"
    }
   ],
   "source": [
    "gbt_random"
   ]
  },
  {
   "attachments": {},
   "cell_type": "markdown",
   "metadata": {},
   "source": [
    "# Pickling"
   ]
  },
  {
   "cell_type": "code",
   "execution_count": 87,
   "metadata": {},
   "outputs": [
    {
     "data": {
      "text/html": [
       "<style>#sk-container-id-14 {color: black;background-color: white;}#sk-container-id-14 pre{padding: 0;}#sk-container-id-14 div.sk-toggleable {background-color: white;}#sk-container-id-14 label.sk-toggleable__label {cursor: pointer;display: block;width: 100%;margin-bottom: 0;padding: 0.3em;box-sizing: border-box;text-align: center;}#sk-container-id-14 label.sk-toggleable__label-arrow:before {content: \"▸\";float: left;margin-right: 0.25em;color: #696969;}#sk-container-id-14 label.sk-toggleable__label-arrow:hover:before {color: black;}#sk-container-id-14 div.sk-estimator:hover label.sk-toggleable__label-arrow:before {color: black;}#sk-container-id-14 div.sk-toggleable__content {max-height: 0;max-width: 0;overflow: hidden;text-align: left;background-color: #f0f8ff;}#sk-container-id-14 div.sk-toggleable__content pre {margin: 0.2em;color: black;border-radius: 0.25em;background-color: #f0f8ff;}#sk-container-id-14 input.sk-toggleable__control:checked~div.sk-toggleable__content {max-height: 200px;max-width: 100%;overflow: auto;}#sk-container-id-14 input.sk-toggleable__control:checked~label.sk-toggleable__label-arrow:before {content: \"▾\";}#sk-container-id-14 div.sk-estimator input.sk-toggleable__control:checked~label.sk-toggleable__label {background-color: #d4ebff;}#sk-container-id-14 div.sk-label input.sk-toggleable__control:checked~label.sk-toggleable__label {background-color: #d4ebff;}#sk-container-id-14 input.sk-hidden--visually {border: 0;clip: rect(1px 1px 1px 1px);clip: rect(1px, 1px, 1px, 1px);height: 1px;margin: -1px;overflow: hidden;padding: 0;position: absolute;width: 1px;}#sk-container-id-14 div.sk-estimator {font-family: monospace;background-color: #f0f8ff;border: 1px dotted black;border-radius: 0.25em;box-sizing: border-box;margin-bottom: 0.5em;}#sk-container-id-14 div.sk-estimator:hover {background-color: #d4ebff;}#sk-container-id-14 div.sk-parallel-item::after {content: \"\";width: 100%;border-bottom: 1px solid gray;flex-grow: 1;}#sk-container-id-14 div.sk-label:hover label.sk-toggleable__label {background-color: #d4ebff;}#sk-container-id-14 div.sk-serial::before {content: \"\";position: absolute;border-left: 1px solid gray;box-sizing: border-box;top: 0;bottom: 0;left: 50%;z-index: 0;}#sk-container-id-14 div.sk-serial {display: flex;flex-direction: column;align-items: center;background-color: white;padding-right: 0.2em;padding-left: 0.2em;position: relative;}#sk-container-id-14 div.sk-item {position: relative;z-index: 1;}#sk-container-id-14 div.sk-parallel {display: flex;align-items: stretch;justify-content: center;background-color: white;position: relative;}#sk-container-id-14 div.sk-item::before, #sk-container-id-14 div.sk-parallel-item::before {content: \"\";position: absolute;border-left: 1px solid gray;box-sizing: border-box;top: 0;bottom: 0;left: 50%;z-index: -1;}#sk-container-id-14 div.sk-parallel-item {display: flex;flex-direction: column;z-index: 1;position: relative;background-color: white;}#sk-container-id-14 div.sk-parallel-item:first-child::after {align-self: flex-end;width: 50%;}#sk-container-id-14 div.sk-parallel-item:last-child::after {align-self: flex-start;width: 50%;}#sk-container-id-14 div.sk-parallel-item:only-child::after {width: 0;}#sk-container-id-14 div.sk-dashed-wrapped {border: 1px dashed gray;margin: 0 0.4em 0.5em 0.4em;box-sizing: border-box;padding-bottom: 0.4em;background-color: white;}#sk-container-id-14 div.sk-label label {font-family: monospace;font-weight: bold;display: inline-block;line-height: 1.2em;}#sk-container-id-14 div.sk-label-container {text-align: center;}#sk-container-id-14 div.sk-container {/* jupyter's `normalize.less` sets `[hidden] { display: none; }` but bootstrap.min.css set `[hidden] { display: none !important; }` so we also need the `!important` here to be able to override the default hidden behavior on the sphinx rendered scikit-learn.org. See: https://github.com/scikit-learn/scikit-learn/issues/21755 */display: inline-block !important;position: relative;}#sk-container-id-14 div.sk-text-repr-fallback {display: none;}</style><div id=\"sk-container-id-14\" class=\"sk-top-container\"><div class=\"sk-text-repr-fallback\"><pre>Pipeline(steps=[(&#x27;transformer&#x27;,\n",
       "                 ColumnTransformer(remainder=&#x27;passthrough&#x27;,\n",
       "                                   transformers=[(&#x27;categorical&#x27;,\n",
       "                                                  OneHotEncoder(handle_unknown=&#x27;ignore&#x27;,\n",
       "                                                                sparse=False),\n",
       "                                                  [&#x27;الموديل&#x27;, &#x27;لون السيارة&#x27;,\n",
       "                                                   &#x27;أصل السيارة&#x27;,\n",
       "                                                   &#x27;رخصة السيارة&#x27;, &#x27;نوع الوقود&#x27;,\n",
       "                                                   &#x27;نوع الجير&#x27;, &#x27;الزجاج&#x27;])],\n",
       "                                   verbose_feature_names_out=False)),\n",
       "                (&#x27;GBTRegressor&#x27;,\n",
       "                 GradientBoostingRegressor(learning_rate=0.01, max_depth=51,\n",
       "                                           max_features=&#x27;sqrt&#x27;,\n",
       "                                           min_samples_leaf=2,\n",
       "                                           min_samples_split=10,\n",
       "                                           n_estimators=500))])</pre><b>In a Jupyter environment, please rerun this cell to show the HTML representation or trust the notebook. <br />On GitHub, the HTML representation is unable to render, please try loading this page with nbviewer.org.</b></div><div class=\"sk-container\" hidden><div class=\"sk-item sk-dashed-wrapped\"><div class=\"sk-label-container\"><div class=\"sk-label sk-toggleable\"><input class=\"sk-toggleable__control sk-hidden--visually\" id=\"sk-estimator-id-18\" type=\"checkbox\" ><label for=\"sk-estimator-id-18\" class=\"sk-toggleable__label sk-toggleable__label-arrow\">Pipeline</label><div class=\"sk-toggleable__content\"><pre>Pipeline(steps=[(&#x27;transformer&#x27;,\n",
       "                 ColumnTransformer(remainder=&#x27;passthrough&#x27;,\n",
       "                                   transformers=[(&#x27;categorical&#x27;,\n",
       "                                                  OneHotEncoder(handle_unknown=&#x27;ignore&#x27;,\n",
       "                                                                sparse=False),\n",
       "                                                  [&#x27;الموديل&#x27;, &#x27;لون السيارة&#x27;,\n",
       "                                                   &#x27;أصل السيارة&#x27;,\n",
       "                                                   &#x27;رخصة السيارة&#x27;, &#x27;نوع الوقود&#x27;,\n",
       "                                                   &#x27;نوع الجير&#x27;, &#x27;الزجاج&#x27;])],\n",
       "                                   verbose_feature_names_out=False)),\n",
       "                (&#x27;GBTRegressor&#x27;,\n",
       "                 GradientBoostingRegressor(learning_rate=0.01, max_depth=51,\n",
       "                                           max_features=&#x27;sqrt&#x27;,\n",
       "                                           min_samples_leaf=2,\n",
       "                                           min_samples_split=10,\n",
       "                                           n_estimators=500))])</pre></div></div></div><div class=\"sk-serial\"><div class=\"sk-item sk-dashed-wrapped\"><div class=\"sk-label-container\"><div class=\"sk-label sk-toggleable\"><input class=\"sk-toggleable__control sk-hidden--visually\" id=\"sk-estimator-id-19\" type=\"checkbox\" ><label for=\"sk-estimator-id-19\" class=\"sk-toggleable__label sk-toggleable__label-arrow\">transformer: ColumnTransformer</label><div class=\"sk-toggleable__content\"><pre>ColumnTransformer(remainder=&#x27;passthrough&#x27;,\n",
       "                  transformers=[(&#x27;categorical&#x27;,\n",
       "                                 OneHotEncoder(handle_unknown=&#x27;ignore&#x27;,\n",
       "                                               sparse=False),\n",
       "                                 [&#x27;الموديل&#x27;, &#x27;لون السيارة&#x27;, &#x27;أصل السيارة&#x27;,\n",
       "                                  &#x27;رخصة السيارة&#x27;, &#x27;نوع الوقود&#x27;, &#x27;نوع الجير&#x27;,\n",
       "                                  &#x27;الزجاج&#x27;])],\n",
       "                  verbose_feature_names_out=False)</pre></div></div></div><div class=\"sk-parallel\"><div class=\"sk-parallel-item\"><div class=\"sk-item\"><div class=\"sk-label-container\"><div class=\"sk-label sk-toggleable\"><input class=\"sk-toggleable__control sk-hidden--visually\" id=\"sk-estimator-id-20\" type=\"checkbox\" ><label for=\"sk-estimator-id-20\" class=\"sk-toggleable__label sk-toggleable__label-arrow\">categorical</label><div class=\"sk-toggleable__content\"><pre>[&#x27;الموديل&#x27;, &#x27;لون السيارة&#x27;, &#x27;أصل السيارة&#x27;, &#x27;رخصة السيارة&#x27;, &#x27;نوع الوقود&#x27;, &#x27;نوع الجير&#x27;, &#x27;الزجاج&#x27;]</pre></div></div></div><div class=\"sk-serial\"><div class=\"sk-item\"><div class=\"sk-estimator sk-toggleable\"><input class=\"sk-toggleable__control sk-hidden--visually\" id=\"sk-estimator-id-21\" type=\"checkbox\" ><label for=\"sk-estimator-id-21\" class=\"sk-toggleable__label sk-toggleable__label-arrow\">OneHotEncoder</label><div class=\"sk-toggleable__content\"><pre>OneHotEncoder(handle_unknown=&#x27;ignore&#x27;, sparse=False)</pre></div></div></div></div></div></div><div class=\"sk-parallel-item\"><div class=\"sk-item\"><div class=\"sk-label-container\"><div class=\"sk-label sk-toggleable\"><input class=\"sk-toggleable__control sk-hidden--visually\" id=\"sk-estimator-id-22\" type=\"checkbox\" ><label for=\"sk-estimator-id-22\" class=\"sk-toggleable__label sk-toggleable__label-arrow\">remainder</label><div class=\"sk-toggleable__content\"><pre>[&#x27;موديل سنة&#x27;, &#x27;قوة الماتور&#x27;, &#x27;عدد الركاب&#x27;, &#x27;عداد السيارة&#x27;, &#x27;أصحاب سابقون&#x27;, &#x27;وسادة حماية هوائية&#x27;, &#x27;فرش جلد&#x27;, &#x27;جنطات مغنيسيوم&#x27;, &#x27;فتحة سقف&#x27;, &#x27;مسجل CD&#x27;, &#x27;إغلاق مركزي&#x27;, &#x27;مُكيّف&#x27;, &#x27;جهاز إنذار&#x27;]</pre></div></div></div><div class=\"sk-serial\"><div class=\"sk-item\"><div class=\"sk-estimator sk-toggleable\"><input class=\"sk-toggleable__control sk-hidden--visually\" id=\"sk-estimator-id-23\" type=\"checkbox\" ><label for=\"sk-estimator-id-23\" class=\"sk-toggleable__label sk-toggleable__label-arrow\">passthrough</label><div class=\"sk-toggleable__content\"><pre>passthrough</pre></div></div></div></div></div></div></div></div><div class=\"sk-item\"><div class=\"sk-estimator sk-toggleable\"><input class=\"sk-toggleable__control sk-hidden--visually\" id=\"sk-estimator-id-24\" type=\"checkbox\" ><label for=\"sk-estimator-id-24\" class=\"sk-toggleable__label sk-toggleable__label-arrow\">GradientBoostingRegressor</label><div class=\"sk-toggleable__content\"><pre>GradientBoostingRegressor(learning_rate=0.01, max_depth=51, max_features=&#x27;sqrt&#x27;,\n",
       "                          min_samples_leaf=2, min_samples_split=10,\n",
       "                          n_estimators=500)</pre></div></div></div></div></div></div></div>"
      ],
      "text/plain": [
       "Pipeline(steps=[('transformer',\n",
       "                 ColumnTransformer(remainder='passthrough',\n",
       "                                   transformers=[('categorical',\n",
       "                                                  OneHotEncoder(handle_unknown='ignore',\n",
       "                                                                sparse=False),\n",
       "                                                  ['الموديل', 'لون السيارة',\n",
       "                                                   'أصل السيارة',\n",
       "                                                   'رخصة السيارة', 'نوع الوقود',\n",
       "                                                   'نوع الجير', 'الزجاج'])],\n",
       "                                   verbose_feature_names_out=False)),\n",
       "                ('GBTRegressor',\n",
       "                 GradientBoostingRegressor(learning_rate=0.01, max_depth=51,\n",
       "                                           max_features='sqrt',\n",
       "                                           min_samples_leaf=2,\n",
       "                                           min_samples_split=10,\n",
       "                                           n_estimators=500))])"
      ]
     },
     "execution_count": 87,
     "metadata": {},
     "output_type": "execute_result"
    }
   ],
   "source": [
    "#GBTRegressor Pipeline\n",
    "gbt_pipline = Pipeline( \n",
    "    steps = [\n",
    "        (\"transformer\", transformer),\n",
    "        (\"GBTRegressor\", best_gbt_model)\n",
    "    ] \n",
    ")\n",
    "#fit data\n",
    "gbt_pipline.fit(X, y) "
   ]
  },
  {
   "cell_type": "code",
   "execution_count": 89,
   "metadata": {},
   "outputs": [],
   "source": [
    "#export gbt regressor pipline \n",
    "gbt_regressor_pipline_file_name = \"../models/gbt pipline.pkl\"\n",
    "pickle.dump(gbt_pipline, open(gbt_regressor_pipline_file_name, 'wb'))"
   ]
  }
 ],
 "metadata": {
  "kernelspec": {
   "display_name": ".venv",
   "language": "python",
   "name": "python3"
  },
  "language_info": {
   "codemirror_mode": {
    "name": "ipython",
    "version": 3
   },
   "file_extension": ".py",
   "mimetype": "text/x-python",
   "name": "python",
   "nbconvert_exporter": "python",
   "pygments_lexer": "ipython3",
   "version": "3.10.7"
  },
  "orig_nbformat": 4,
  "vscode": {
   "interpreter": {
    "hash": "67703f6099c847180c0c33697b6a3bb9eae65267b7a5e35291c05dc5406b6c79"
   }
  }
 },
 "nbformat": 4,
 "nbformat_minor": 2
}
