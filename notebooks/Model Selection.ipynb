{
 "cells": [
  {
   "cell_type": "markdown",
   "metadata": {},
   "source": [
    "#### Importing packages"
   ]
  },
  {
   "cell_type": "code",
   "execution_count": 1,
   "metadata": {},
   "outputs": [],
   "source": [
    "import warnings    \n",
    "warnings.simplefilter(\"ignore\", UserWarning)\n",
    "import pandas as pd\n",
    "import numpy as np \n",
    "import matplotlib.pyplot as plt    \n",
    "from sklearn.linear_model import LinearRegression, Ridge, Lasso, SGDRegressor\n",
    "from sklearn.preprocessing import PolynomialFeatures, FunctionTransformer,\\\n",
    "    OneHotEncoder, LabelEncoder, PowerTransformer\n",
    "from sklearn.neighbors import KNeighborsRegressor \n",
    "import seaborn as sns\n",
    "from sklearn.impute import KNNImputer\n",
    "import re\n",
    "from sklearn.tree import DecisionTreeRegressor\n",
    "from scipy import stats  \n",
    "from sklearn.compose import ColumnTransformer \n",
    "from sklearn.pipeline import Pipeline \n",
    "from sklearn.model_selection import cross_val_score\n",
    "import pickle \n",
    "from src.utils import previous_owners, convert_text_to_number,\\\n",
    "    passengers_number, get_model_scores, outlier_detector,\\\n",
    "    outlier_detector_zscore "
   ]
  },
  {
   "cell_type": "markdown",
   "metadata": {},
   "source": [
    "### reading data"
   ]
  },
  {
   "cell_type": "code",
   "execution_count": 8,
   "metadata": {},
   "outputs": [],
   "source": [
    "data = pd.read_csv('../data/cars_data.csv')"
   ]
  },
  {
   "cell_type": "code",
   "execution_count": 9,
   "metadata": {},
   "outputs": [
    {
     "data": {
      "text/html": [
       "<div>\n",
       "<style scoped>\n",
       "    .dataframe tbody tr th:only-of-type {\n",
       "        vertical-align: middle;\n",
       "    }\n",
       "\n",
       "    .dataframe tbody tr th {\n",
       "        vertical-align: top;\n",
       "    }\n",
       "\n",
       "    .dataframe thead th {\n",
       "        text-align: right;\n",
       "    }\n",
       "</style>\n",
       "<table border=\"1\" class=\"dataframe\">\n",
       "  <thead>\n",
       "    <tr style=\"text-align: right;\">\n",
       "      <th></th>\n",
       "      <th>السعر</th>\n",
       "      <th>الموديل</th>\n",
       "      <th>موديل سنة</th>\n",
       "      <th>لون السيارة</th>\n",
       "      <th>قوة الماتور</th>\n",
       "      <th>عدد الركاب</th>\n",
       "      <th>عداد السيارة</th>\n",
       "      <th>أصحاب سابقون</th>\n",
       "      <th>أصل السيارة</th>\n",
       "      <th>رخصة السيارة</th>\n",
       "      <th>...</th>\n",
       "      <th>الزجاج</th>\n",
       "      <th>سعر التأمين</th>\n",
       "      <th>وسادة حماية هوائية</th>\n",
       "      <th>فرش جلد</th>\n",
       "      <th>جنطات مغنيسيوم</th>\n",
       "      <th>فتحة سقف</th>\n",
       "      <th>مسجل CD</th>\n",
       "      <th>إغلاق مركزي</th>\n",
       "      <th>مُكيّف</th>\n",
       "      <th>جهاز إنذار</th>\n",
       "    </tr>\n",
       "  </thead>\n",
       "  <tbody>\n",
       "    <tr>\n",
       "      <th>0</th>\n",
       "      <td>100000.0</td>\n",
       "      <td>كيا اوبتيما</td>\n",
       "      <td>2014</td>\n",
       "      <td>أبيض عاجي</td>\n",
       "      <td>2000.0</td>\n",
       "      <td>4+1</td>\n",
       "      <td>75000</td>\n",
       "      <td>يد اولى</td>\n",
       "      <td>خصوصي</td>\n",
       "      <td>فلسطينية</td>\n",
       "      <td>...</td>\n",
       "      <td>الكتروني</td>\n",
       "      <td>3090</td>\n",
       "      <td>1</td>\n",
       "      <td>1</td>\n",
       "      <td>1</td>\n",
       "      <td>1</td>\n",
       "      <td>1</td>\n",
       "      <td>1</td>\n",
       "      <td>1</td>\n",
       "      <td>1</td>\n",
       "    </tr>\n",
       "    <tr>\n",
       "      <th>1</th>\n",
       "      <td>60000.0</td>\n",
       "      <td>كيا سورينتو</td>\n",
       "      <td>2007</td>\n",
       "      <td>سكني</td>\n",
       "      <td>2500.0</td>\n",
       "      <td>7+1</td>\n",
       "      <td>130000</td>\n",
       "      <td>2</td>\n",
       "      <td>خصوصي</td>\n",
       "      <td>فلسطينية</td>\n",
       "      <td>...</td>\n",
       "      <td>الكتروني</td>\n",
       "      <td>2740</td>\n",
       "      <td>1</td>\n",
       "      <td>1</td>\n",
       "      <td>1</td>\n",
       "      <td>1</td>\n",
       "      <td>1</td>\n",
       "      <td>1</td>\n",
       "      <td>1</td>\n",
       "      <td>1</td>\n",
       "    </tr>\n",
       "    <tr>\n",
       "      <th>2</th>\n",
       "      <td>43500.0</td>\n",
       "      <td>هونداي افانتي</td>\n",
       "      <td>2006</td>\n",
       "      <td>سكني</td>\n",
       "      <td>1600.0</td>\n",
       "      <td>NaN</td>\n",
       "      <td>NaN</td>\n",
       "      <td>NaN</td>\n",
       "      <td>خصوصي</td>\n",
       "      <td>فلسطينية</td>\n",
       "      <td>...</td>\n",
       "      <td>الكتروني</td>\n",
       "      <td>2340</td>\n",
       "      <td>1</td>\n",
       "      <td>1</td>\n",
       "      <td>1</td>\n",
       "      <td>0</td>\n",
       "      <td>1</td>\n",
       "      <td>1</td>\n",
       "      <td>1</td>\n",
       "      <td>1</td>\n",
       "    </tr>\n",
       "    <tr>\n",
       "      <th>3</th>\n",
       "      <td>5500.0</td>\n",
       "      <td>فيات 127</td>\n",
       "      <td>1982</td>\n",
       "      <td>بيج</td>\n",
       "      <td>906.0</td>\n",
       "      <td>4+1</td>\n",
       "      <td>شغال</td>\n",
       "      <td>00</td>\n",
       "      <td>خصوصي</td>\n",
       "      <td>فلسطينية</td>\n",
       "      <td>...</td>\n",
       "      <td>يدوي</td>\n",
       "      <td>967</td>\n",
       "      <td>0</td>\n",
       "      <td>0</td>\n",
       "      <td>0</td>\n",
       "      <td>0</td>\n",
       "      <td>1</td>\n",
       "      <td>0</td>\n",
       "      <td>1</td>\n",
       "      <td>0</td>\n",
       "    </tr>\n",
       "    <tr>\n",
       "      <th>4</th>\n",
       "      <td>54000.0</td>\n",
       "      <td>بيجو 208</td>\n",
       "      <td>2014</td>\n",
       "      <td>فضي</td>\n",
       "      <td>1200.0</td>\n",
       "      <td>4+1</td>\n",
       "      <td>38000</td>\n",
       "      <td>NaN</td>\n",
       "      <td>خصوصي</td>\n",
       "      <td>فلسطينية</td>\n",
       "      <td>...</td>\n",
       "      <td>الكتروني</td>\n",
       "      <td>2035</td>\n",
       "      <td>1</td>\n",
       "      <td>0</td>\n",
       "      <td>1</td>\n",
       "      <td>0</td>\n",
       "      <td>0</td>\n",
       "      <td>1</td>\n",
       "      <td>1</td>\n",
       "      <td>1</td>\n",
       "    </tr>\n",
       "  </tbody>\n",
       "</table>\n",
       "<p>5 rows × 22 columns</p>\n",
       "</div>"
      ],
      "text/plain": [
       "      السعر        الموديل  موديل سنة لون السيارة  قوة الماتور عدد الركاب  \\\n",
       "0  100000.0    كيا اوبتيما       2014  أبيض عاجي        2000.0       4+1    \n",
       "1   60000.0    كيا سورينتو       2007       سكني        2500.0       7+1    \n",
       "2   43500.0  هونداي افانتي       2006       سكني        1600.0        NaN   \n",
       "3    5500.0       فيات 127       1982        بيج         906.0      4+1     \n",
       "4   54000.0       بيجو 208       2014        فضي        1200.0       4+1    \n",
       "\n",
       "  عداد السيارة أصحاب سابقون أصل السيارة رخصة السيارة  ...     الزجاج  \\\n",
       "0       75000      يد اولى       خصوصي     فلسطينية   ...  الكتروني    \n",
       "1      130000            2       خصوصي     فلسطينية   ...  الكتروني    \n",
       "2          NaN          NaN      خصوصي     فلسطينية   ...  الكتروني    \n",
       "3        شغال          00        خصوصي     فلسطينية   ...      يدوي    \n",
       "4       38000           NaN      خصوصي     فلسطينية   ...  الكتروني    \n",
       "\n",
       "  سعر التأمين وسادة حماية هوائية  فرش جلد  جنطات مغنيسيوم  فتحة سقف  مسجل CD  \\\n",
       "0        3090                  1        1               1         1        1   \n",
       "1        2740                  1        1               1         1        1   \n",
       "2        2340                  1        1               1         0        1   \n",
       "3         967                  0        0               0         0        1   \n",
       "4        2035                  1        0               1         0        0   \n",
       "\n",
       "   إغلاق مركزي  مُكيّف  جهاز إنذار  \n",
       "0            1       1           1  \n",
       "1            1       1           1  \n",
       "2            1       1           1  \n",
       "3            0       1           0  \n",
       "4            1       1           1  \n",
       "\n",
       "[5 rows x 22 columns]"
      ]
     },
     "execution_count": 9,
     "metadata": {},
     "output_type": "execute_result"
    }
   ],
   "source": [
    "data.head()"
   ]
  },
  {
   "cell_type": "code",
   "execution_count": 10,
   "metadata": {},
   "outputs": [
    {
     "data": {
      "text/plain": [
       "(6864, 22)"
      ]
     },
     "execution_count": 10,
     "metadata": {},
     "output_type": "execute_result"
    }
   ],
   "source": [
    "#get the shape of the data\n",
    "data.shape"
   ]
  },
  {
   "cell_type": "markdown",
   "metadata": {},
   "source": [
    "there are 6864 samples and 22 features"
   ]
  },
  {
   "cell_type": "markdown",
   "metadata": {},
   "source": [
    "# Feature Engineering"
   ]
  },
  {
   "cell_type": "markdown",
   "metadata": {},
   "source": [
    "- Encode categorical features\n",
    "- Dealing with skewed features "
   ]
  },
  {
   "cell_type": "code",
   "execution_count": 59,
   "metadata": {},
   "outputs": [],
   "source": [
    "#get numeric features name\n",
    "numeric_features = [\n",
    "                'عدد الركاب', \n",
    "                'قوة الماتور', \n",
    "                'موديل سنة', \n",
    "                'أصحاب سابقون', \n",
    "                'عداد السيارة'\n",
    "                ]\n",
    "\n",
    "#get categorical features name\n",
    "categorical_features = [\n",
    "    col for col in data.columns if data[col].dtypes == 'O'\n",
    "    ]"
   ]
  },
  {
   "cell_type": "code",
   "execution_count": 60,
   "metadata": {},
   "outputs": [],
   "source": [
    "#OneHotEncoder object to encode the categorical features\n",
    "ohe = OneHotEncoder(sparse = False, handle_unknown = 'ignore')\n",
    "#power transformer object to transform numeric features \n",
    "power_transformer  = PowerTransformer() "
   ]
  },
  {
   "cell_type": "code",
   "execution_count": 61,
   "metadata": {},
   "outputs": [],
   "source": [
    "#define transformer to selectively apply data preparation transforms\n",
    "transformer = ColumnTransformer( \n",
    "    transformers = [  \n",
    "        #apply OneHotEncoder to categorical features\n",
    "        ('categorical', ohe, categorical_features),\n",
    "        #apply Log transformation to numeric features  \n",
    "        ('numerical', power_transformer, numeric_features),\n",
    "    ],\n",
    "    #unspecified columns will be passed through without transformation  \n",
    "    remainder='passthrough',\n",
    "    #prevent adding prefix to columns names\n",
    "    verbose_feature_names_out = False \n",
    ")"
   ]
  },
  {
   "cell_type": "code",
   "execution_count": 62,
   "metadata": {},
   "outputs": [],
   "source": [
    "#slice the target variable and the other features\n",
    "X = data.drop(columns = 'السعر')\n",
    "y = data['السعر'] "
   ]
  },
  {
   "cell_type": "code",
   "execution_count": 63,
   "metadata": {},
   "outputs": [
    {
     "name": "stderr",
     "output_type": "stream",
     "text": [
      "c:\\Users\\hp\\desktop\\Car_Price_Prediction_Rama_Hasiba_12010022\\.venv\\lib\\site-packages\\sklearn\\preprocessing\\_data.py:3211: RuntimeWarning: overflow encountered in power\n",
      "  out[pos] = (np.power(x[pos] + 1, lmbda) - 1) / lmbda\n",
      "c:\\Users\\hp\\desktop\\Car_Price_Prediction_Rama_Hasiba_12010022\\.venv\\lib\\site-packages\\numpy\\core\\_methods.py:236: RuntimeWarning: overflow encountered in multiply\n",
      "  x = um.multiply(x, x, out=x)\n",
      "c:\\Users\\hp\\desktop\\Car_Price_Prediction_Rama_Hasiba_12010022\\.venv\\lib\\site-packages\\numpy\\core\\_methods.py:247: RuntimeWarning: overflow encountered in reduce\n",
      "  ret = umr_sum(x, axis, dtype, out, keepdims=keepdims, where=where)\n"
     ]
    }
   ],
   "source": [
    "#transform the data (without the target variable) \n",
    "transformed_X = transformer.fit_transform(X)"
   ]
  },
  {
   "cell_type": "markdown",
   "metadata": {},
   "source": [
    "# Model Selection"
   ]
  },
  {
   "cell_type": "markdown",
   "metadata": {},
   "source": [
    "Try polynomial regression, kNN, and decision tree to select the best model to predict car price "
   ]
  },
  {
   "cell_type": "markdown",
   "metadata": {},
   "source": [
    "- `KNN`"
   ]
  },
  {
   "cell_type": "markdown",
   "metadata": {},
   "source": [
    "Search for an optimal value of K for KNN"
   ]
  },
  {
   "cell_type": "code",
   "execution_count": 64,
   "metadata": {},
   "outputs": [],
   "source": [
    "# range of k we want to try\n",
    "k_range = range(1, 31)\n",
    "# empty dictionary to store k with it's score \n",
    "k_scores = {}\n",
    "# 1. loop through reasonable values of k\n",
    "for k in k_range:\n",
    "    # 2. run KNeighborsRegressor with k neighbours\n",
    "    knn = KNeighborsRegressor(n_neighbors=k)\n",
    "    # 3. obtain cross_val_score for KNeighborsRegressor with k neighbours\n",
    "    scores = cross_val_score(knn, transformed_X, y)\n",
    "    # 4. store mean of scores for k neighbors to k_scores dictionary \n",
    "    k_scores[str(k)] = scores.mean().round(2)"
   ]
  },
  {
   "cell_type": "code",
   "execution_count": 65,
   "metadata": {},
   "outputs": [
    {
     "name": "stdout",
     "output_type": "stream",
     "text": [
      "optimal value of k is  9\n"
     ]
    }
   ],
   "source": [
    "# get the optimal k (k maximum score)\n",
    "optimal_k = max(k_scores, key = k_scores.get)  \n",
    "print(\"optimal value of k is \", optimal_k)"
   ]
  },
  {
   "cell_type": "code",
   "execution_count": 66,
   "metadata": {},
   "outputs": [],
   "source": [
    "#define models dictionary which contains models I want to try \n",
    "#with thier description, hyperparameters, and the score after evaluating the model\n",
    "models = {\n",
    "    \"KNN\": {\n",
    "        \"model\": KNeighborsRegressor(n_neighbors = int(optimal_k)), \n",
    "        \"description\":\"KNN Regressor\",\n",
    "        \"K\": int(optimal_k),  \n",
    "        },   \n",
    "    \"DecisionTreeRegressor\" : {  \n",
    "        \"model\": DecisionTreeRegressor(),\n",
    "        \"description\": \"Decision Tree Regressor\" \n",
    "        },\n",
    "    \"ols\": {\n",
    "        \"model\": LinearRegression(),\n",
    "        \"description\":\"orinary least square\"\n",
    "        }, \n",
    "    \"sgd1\": {\n",
    "        \"model\": SGDRegressor(),\n",
    "        \"description\":\"gradient descent with degree 1\"\n",
    "        },  \n",
    "    \"poly2_lasso\": {\n",
    "        \"model\": Lasso(), \n",
    "        \"degree\" : 2,\n",
    "        \"description\":\"orinary least square\"\n",
    "        },  \n",
    "    # \"poly2\": {\n",
    "    #     \"model\": LinearRegression(), \n",
    "    #     \"degree\": 2,\n",
    "    #     \"description\":\"Polynomial of degree 2\"\n",
    "    #     }, \n",
    "    # \"poly2_ridge\": {\n",
    "    #     \"model\": Ridge(), \"degree\" : 2,\n",
    "    #     \"description\":\"orinary least square\"\n",
    "    #     },   \n",
    "    }"
   ]
  },
  {
   "cell_type": "code",
   "execution_count": 181,
   "metadata": {},
   "outputs": [
    {
     "name": "stdout",
     "output_type": "stream",
     "text": [
      "degree\n"
     ]
    }
   ],
   "source": [
    "#train models and get the score for each one\n",
    "models = get_model_scores(models, transformed_X, y)"
   ]
  },
  {
   "cell_type": "code",
   "execution_count": 182,
   "metadata": {},
   "outputs": [
    {
     "data": {
      "text/plain": [
       "{'KNN': {'model': KNeighborsRegressor(n_neighbors=9),\n",
       "  'description': 'KNN Regressor',\n",
       "  'K': 9,\n",
       "  'scores_list': array([0.57721361, 0.49016709, 0.47240443, 0.54135009, 0.55050326]),\n",
       "  'score_mean': 0.5263276976574237},\n",
       " 'DecisionTreeRegressor': {'model': DecisionTreeRegressor(),\n",
       "  'description': 'Decision Tree Regressor',\n",
       "  'scores_list': array([0.54804847, 0.67775327, 0.58553857, 0.68116249, 0.73948871]),\n",
       "  'score_mean': 0.6463983011092546},\n",
       " 'ols': {'model': LinearRegression(),\n",
       "  'description': 'orinary least square',\n",
       "  'scores_list': array([-1.41827845e+18, -1.89122681e+18, -5.35281508e+18, -8.76163913e+19,\n",
       "         -1.25454480e+21]),\n",
       "  'score_mean': -2.7016470315513577e+20},\n",
       " 'sgd1': {'model': SGDRegressor(),\n",
       "  'description': 'gradient descent with degree 1',\n",
       "  'scores_list': array([0.59516241, 0.4470111 , 0.50048765, 0.5661522 , 0.50115749]),\n",
       "  'score_mean': 0.5219941679816815},\n",
       " 'poly2_lasso': {'model': Lasso(),\n",
       "  'degree': 2,\n",
       "  'description': 'orinary least square',\n",
       "  'scores_list': array([0.64324631, 0.63480458, 0.61641738, 0.68696138, 0.72419182]),\n",
       "  'score_mean': 0.6611242943659412}}"
      ]
     },
     "execution_count": 182,
     "metadata": {},
     "output_type": "execute_result"
    }
   ],
   "source": [
    "models"
   ]
  },
  {
   "cell_type": "code",
   "execution_count": 192,
   "metadata": {},
   "outputs": [
    {
     "name": "stdout",
     "output_type": "stream",
     "text": [
      "KNN\n",
      "0.5263276976574237\n",
      "--------------------------\n",
      "DecisionTreeRegressor\n",
      "0.6463983011092546\n",
      "--------------------------\n",
      "ols\n",
      "-2.7016470315513577e+20\n",
      "--------------------------\n",
      "sgd1\n",
      "0.5219941679816815\n",
      "--------------------------\n",
      "poly2_lasso\n",
      "0.6611242943659412\n",
      "--------------------------\n"
     ]
    }
   ],
   "source": [
    "#get each model with it's score\n",
    "for model_id in models: \n",
    "    print(model_id)\n",
    "    print(models[model_id][\"score_mean\"])\n",
    "    print(\"--------------------------\")"
   ]
  },
  {
   "cell_type": "markdown",
   "metadata": {},
   "source": [
    "The best score is from  <b>Polynomial Regression with degree of 2</b>"
   ]
  },
  {
   "cell_type": "markdown",
   "metadata": {},
   "source": [
    "## Pickling"
   ]
  },
  {
   "cell_type": "code",
   "execution_count": 67,
   "metadata": {},
   "outputs": [],
   "source": [
    "# Decision Regressor Pipeline\n",
    "tree_pip = Pipeline( \n",
    "    steps = [\n",
    "        (\"transformer\", transformer),\n",
    "        (\"DecisionTreeRegressor\", DecisionTreeRegressor())\n",
    "    ]\n",
    ")"
   ]
  },
  {
   "cell_type": "code",
   "execution_count": 68,
   "metadata": {},
   "outputs": [
    {
     "name": "stderr",
     "output_type": "stream",
     "text": [
      "c:\\Users\\hp\\desktop\\Car_Price_Prediction_Rama_Hasiba_12010022\\.venv\\lib\\site-packages\\sklearn\\preprocessing\\_data.py:3211: RuntimeWarning: overflow encountered in power\n",
      "  out[pos] = (np.power(x[pos] + 1, lmbda) - 1) / lmbda\n",
      "c:\\Users\\hp\\desktop\\Car_Price_Prediction_Rama_Hasiba_12010022\\.venv\\lib\\site-packages\\numpy\\core\\_methods.py:236: RuntimeWarning: overflow encountered in multiply\n",
      "  x = um.multiply(x, x, out=x)\n",
      "c:\\Users\\hp\\desktop\\Car_Price_Prediction_Rama_Hasiba_12010022\\.venv\\lib\\site-packages\\numpy\\core\\_methods.py:247: RuntimeWarning: overflow encountered in reduce\n",
      "  ret = umr_sum(x, axis, dtype, out, keepdims=keepdims, where=where)\n"
     ]
    },
    {
     "data": {
      "text/html": [
       "<style>#sk-container-id-1 {color: black;background-color: white;}#sk-container-id-1 pre{padding: 0;}#sk-container-id-1 div.sk-toggleable {background-color: white;}#sk-container-id-1 label.sk-toggleable__label {cursor: pointer;display: block;width: 100%;margin-bottom: 0;padding: 0.3em;box-sizing: border-box;text-align: center;}#sk-container-id-1 label.sk-toggleable__label-arrow:before {content: \"▸\";float: left;margin-right: 0.25em;color: #696969;}#sk-container-id-1 label.sk-toggleable__label-arrow:hover:before {color: black;}#sk-container-id-1 div.sk-estimator:hover label.sk-toggleable__label-arrow:before {color: black;}#sk-container-id-1 div.sk-toggleable__content {max-height: 0;max-width: 0;overflow: hidden;text-align: left;background-color: #f0f8ff;}#sk-container-id-1 div.sk-toggleable__content pre {margin: 0.2em;color: black;border-radius: 0.25em;background-color: #f0f8ff;}#sk-container-id-1 input.sk-toggleable__control:checked~div.sk-toggleable__content {max-height: 200px;max-width: 100%;overflow: auto;}#sk-container-id-1 input.sk-toggleable__control:checked~label.sk-toggleable__label-arrow:before {content: \"▾\";}#sk-container-id-1 div.sk-estimator input.sk-toggleable__control:checked~label.sk-toggleable__label {background-color: #d4ebff;}#sk-container-id-1 div.sk-label input.sk-toggleable__control:checked~label.sk-toggleable__label {background-color: #d4ebff;}#sk-container-id-1 input.sk-hidden--visually {border: 0;clip: rect(1px 1px 1px 1px);clip: rect(1px, 1px, 1px, 1px);height: 1px;margin: -1px;overflow: hidden;padding: 0;position: absolute;width: 1px;}#sk-container-id-1 div.sk-estimator {font-family: monospace;background-color: #f0f8ff;border: 1px dotted black;border-radius: 0.25em;box-sizing: border-box;margin-bottom: 0.5em;}#sk-container-id-1 div.sk-estimator:hover {background-color: #d4ebff;}#sk-container-id-1 div.sk-parallel-item::after {content: \"\";width: 100%;border-bottom: 1px solid gray;flex-grow: 1;}#sk-container-id-1 div.sk-label:hover label.sk-toggleable__label {background-color: #d4ebff;}#sk-container-id-1 div.sk-serial::before {content: \"\";position: absolute;border-left: 1px solid gray;box-sizing: border-box;top: 0;bottom: 0;left: 50%;z-index: 0;}#sk-container-id-1 div.sk-serial {display: flex;flex-direction: column;align-items: center;background-color: white;padding-right: 0.2em;padding-left: 0.2em;position: relative;}#sk-container-id-1 div.sk-item {position: relative;z-index: 1;}#sk-container-id-1 div.sk-parallel {display: flex;align-items: stretch;justify-content: center;background-color: white;position: relative;}#sk-container-id-1 div.sk-item::before, #sk-container-id-1 div.sk-parallel-item::before {content: \"\";position: absolute;border-left: 1px solid gray;box-sizing: border-box;top: 0;bottom: 0;left: 50%;z-index: -1;}#sk-container-id-1 div.sk-parallel-item {display: flex;flex-direction: column;z-index: 1;position: relative;background-color: white;}#sk-container-id-1 div.sk-parallel-item:first-child::after {align-self: flex-end;width: 50%;}#sk-container-id-1 div.sk-parallel-item:last-child::after {align-self: flex-start;width: 50%;}#sk-container-id-1 div.sk-parallel-item:only-child::after {width: 0;}#sk-container-id-1 div.sk-dashed-wrapped {border: 1px dashed gray;margin: 0 0.4em 0.5em 0.4em;box-sizing: border-box;padding-bottom: 0.4em;background-color: white;}#sk-container-id-1 div.sk-label label {font-family: monospace;font-weight: bold;display: inline-block;line-height: 1.2em;}#sk-container-id-1 div.sk-label-container {text-align: center;}#sk-container-id-1 div.sk-container {/* jupyter's `normalize.less` sets `[hidden] { display: none; }` but bootstrap.min.css set `[hidden] { display: none !important; }` so we also need the `!important` here to be able to override the default hidden behavior on the sphinx rendered scikit-learn.org. See: https://github.com/scikit-learn/scikit-learn/issues/21755 */display: inline-block !important;position: relative;}#sk-container-id-1 div.sk-text-repr-fallback {display: none;}</style><div id=\"sk-container-id-1\" class=\"sk-top-container\"><div class=\"sk-text-repr-fallback\"><pre>Pipeline(steps=[(&#x27;transformer&#x27;,\n",
       "                 ColumnTransformer(remainder=&#x27;passthrough&#x27;,\n",
       "                                   transformers=[(&#x27;categorical&#x27;,\n",
       "                                                  OneHotEncoder(handle_unknown=&#x27;ignore&#x27;,\n",
       "                                                                sparse=False),\n",
       "                                                  [&#x27;الموديل&#x27;, &#x27;لون السيارة&#x27;,\n",
       "                                                   &#x27;أصل السيارة&#x27;,\n",
       "                                                   &#x27;رخصة السيارة&#x27;, &#x27;نوع الوقود&#x27;,\n",
       "                                                   &#x27;نوع الجير&#x27;, &#x27;الزجاج&#x27;]),\n",
       "                                                 (&#x27;numerical&#x27;,\n",
       "                                                  PowerTransformer(),\n",
       "                                                  [&#x27;عدد الركاب&#x27;, &#x27;قوة الماتور&#x27;,\n",
       "                                                   &#x27;موديل سنة&#x27;, &#x27;أصحاب سابقون&#x27;,\n",
       "                                                   &#x27;عداد السيارة&#x27;])],\n",
       "                                   verbose_feature_names_out=False)),\n",
       "                (&#x27;DecisionTreeRegressor&#x27;, DecisionTreeRegressor())])</pre><b>In a Jupyter environment, please rerun this cell to show the HTML representation or trust the notebook. <br />On GitHub, the HTML representation is unable to render, please try loading this page with nbviewer.org.</b></div><div class=\"sk-container\" hidden><div class=\"sk-item sk-dashed-wrapped\"><div class=\"sk-label-container\"><div class=\"sk-label sk-toggleable\"><input class=\"sk-toggleable__control sk-hidden--visually\" id=\"sk-estimator-id-1\" type=\"checkbox\" ><label for=\"sk-estimator-id-1\" class=\"sk-toggleable__label sk-toggleable__label-arrow\">Pipeline</label><div class=\"sk-toggleable__content\"><pre>Pipeline(steps=[(&#x27;transformer&#x27;,\n",
       "                 ColumnTransformer(remainder=&#x27;passthrough&#x27;,\n",
       "                                   transformers=[(&#x27;categorical&#x27;,\n",
       "                                                  OneHotEncoder(handle_unknown=&#x27;ignore&#x27;,\n",
       "                                                                sparse=False),\n",
       "                                                  [&#x27;الموديل&#x27;, &#x27;لون السيارة&#x27;,\n",
       "                                                   &#x27;أصل السيارة&#x27;,\n",
       "                                                   &#x27;رخصة السيارة&#x27;, &#x27;نوع الوقود&#x27;,\n",
       "                                                   &#x27;نوع الجير&#x27;, &#x27;الزجاج&#x27;]),\n",
       "                                                 (&#x27;numerical&#x27;,\n",
       "                                                  PowerTransformer(),\n",
       "                                                  [&#x27;عدد الركاب&#x27;, &#x27;قوة الماتور&#x27;,\n",
       "                                                   &#x27;موديل سنة&#x27;, &#x27;أصحاب سابقون&#x27;,\n",
       "                                                   &#x27;عداد السيارة&#x27;])],\n",
       "                                   verbose_feature_names_out=False)),\n",
       "                (&#x27;DecisionTreeRegressor&#x27;, DecisionTreeRegressor())])</pre></div></div></div><div class=\"sk-serial\"><div class=\"sk-item sk-dashed-wrapped\"><div class=\"sk-label-container\"><div class=\"sk-label sk-toggleable\"><input class=\"sk-toggleable__control sk-hidden--visually\" id=\"sk-estimator-id-2\" type=\"checkbox\" ><label for=\"sk-estimator-id-2\" class=\"sk-toggleable__label sk-toggleable__label-arrow\">transformer: ColumnTransformer</label><div class=\"sk-toggleable__content\"><pre>ColumnTransformer(remainder=&#x27;passthrough&#x27;,\n",
       "                  transformers=[(&#x27;categorical&#x27;,\n",
       "                                 OneHotEncoder(handle_unknown=&#x27;ignore&#x27;,\n",
       "                                               sparse=False),\n",
       "                                 [&#x27;الموديل&#x27;, &#x27;لون السيارة&#x27;, &#x27;أصل السيارة&#x27;,\n",
       "                                  &#x27;رخصة السيارة&#x27;, &#x27;نوع الوقود&#x27;, &#x27;نوع الجير&#x27;,\n",
       "                                  &#x27;الزجاج&#x27;]),\n",
       "                                (&#x27;numerical&#x27;, PowerTransformer(),\n",
       "                                 [&#x27;عدد الركاب&#x27;, &#x27;قوة الماتور&#x27;, &#x27;موديل سنة&#x27;,\n",
       "                                  &#x27;أصحاب سابقون&#x27;, &#x27;عداد السيارة&#x27;])],\n",
       "                  verbose_feature_names_out=False)</pre></div></div></div><div class=\"sk-parallel\"><div class=\"sk-parallel-item\"><div class=\"sk-item\"><div class=\"sk-label-container\"><div class=\"sk-label sk-toggleable\"><input class=\"sk-toggleable__control sk-hidden--visually\" id=\"sk-estimator-id-3\" type=\"checkbox\" ><label for=\"sk-estimator-id-3\" class=\"sk-toggleable__label sk-toggleable__label-arrow\">categorical</label><div class=\"sk-toggleable__content\"><pre>[&#x27;الموديل&#x27;, &#x27;لون السيارة&#x27;, &#x27;أصل السيارة&#x27;, &#x27;رخصة السيارة&#x27;, &#x27;نوع الوقود&#x27;, &#x27;نوع الجير&#x27;, &#x27;الزجاج&#x27;]</pre></div></div></div><div class=\"sk-serial\"><div class=\"sk-item\"><div class=\"sk-estimator sk-toggleable\"><input class=\"sk-toggleable__control sk-hidden--visually\" id=\"sk-estimator-id-4\" type=\"checkbox\" ><label for=\"sk-estimator-id-4\" class=\"sk-toggleable__label sk-toggleable__label-arrow\">OneHotEncoder</label><div class=\"sk-toggleable__content\"><pre>OneHotEncoder(handle_unknown=&#x27;ignore&#x27;, sparse=False)</pre></div></div></div></div></div></div><div class=\"sk-parallel-item\"><div class=\"sk-item\"><div class=\"sk-label-container\"><div class=\"sk-label sk-toggleable\"><input class=\"sk-toggleable__control sk-hidden--visually\" id=\"sk-estimator-id-5\" type=\"checkbox\" ><label for=\"sk-estimator-id-5\" class=\"sk-toggleable__label sk-toggleable__label-arrow\">numerical</label><div class=\"sk-toggleable__content\"><pre>[&#x27;عدد الركاب&#x27;, &#x27;قوة الماتور&#x27;, &#x27;موديل سنة&#x27;, &#x27;أصحاب سابقون&#x27;, &#x27;عداد السيارة&#x27;]</pre></div></div></div><div class=\"sk-serial\"><div class=\"sk-item\"><div class=\"sk-estimator sk-toggleable\"><input class=\"sk-toggleable__control sk-hidden--visually\" id=\"sk-estimator-id-6\" type=\"checkbox\" ><label for=\"sk-estimator-id-6\" class=\"sk-toggleable__label sk-toggleable__label-arrow\">PowerTransformer</label><div class=\"sk-toggleable__content\"><pre>PowerTransformer()</pre></div></div></div></div></div></div><div class=\"sk-parallel-item\"><div class=\"sk-item\"><div class=\"sk-label-container\"><div class=\"sk-label sk-toggleable\"><input class=\"sk-toggleable__control sk-hidden--visually\" id=\"sk-estimator-id-7\" type=\"checkbox\" ><label for=\"sk-estimator-id-7\" class=\"sk-toggleable__label sk-toggleable__label-arrow\">remainder</label><div class=\"sk-toggleable__content\"><pre>[&#x27;وسادة حماية هوائية&#x27;, &#x27;فرش جلد&#x27;, &#x27;جنطات مغنيسيوم&#x27;, &#x27;فتحة سقف&#x27;, &#x27;مسجل CD&#x27;, &#x27;إغلاق مركزي&#x27;, &#x27;مُكيّف&#x27;, &#x27;جهاز إنذار&#x27;]</pre></div></div></div><div class=\"sk-serial\"><div class=\"sk-item\"><div class=\"sk-estimator sk-toggleable\"><input class=\"sk-toggleable__control sk-hidden--visually\" id=\"sk-estimator-id-8\" type=\"checkbox\" ><label for=\"sk-estimator-id-8\" class=\"sk-toggleable__label sk-toggleable__label-arrow\">passthrough</label><div class=\"sk-toggleable__content\"><pre>passthrough</pre></div></div></div></div></div></div></div></div><div class=\"sk-item\"><div class=\"sk-estimator sk-toggleable\"><input class=\"sk-toggleable__control sk-hidden--visually\" id=\"sk-estimator-id-9\" type=\"checkbox\" ><label for=\"sk-estimator-id-9\" class=\"sk-toggleable__label sk-toggleable__label-arrow\">DecisionTreeRegressor</label><div class=\"sk-toggleable__content\"><pre>DecisionTreeRegressor()</pre></div></div></div></div></div></div></div>"
      ],
      "text/plain": [
       "Pipeline(steps=[('transformer',\n",
       "                 ColumnTransformer(remainder='passthrough',\n",
       "                                   transformers=[('categorical',\n",
       "                                                  OneHotEncoder(handle_unknown='ignore',\n",
       "                                                                sparse=False),\n",
       "                                                  ['الموديل', 'لون السيارة',\n",
       "                                                   'أصل السيارة',\n",
       "                                                   'رخصة السيارة', 'نوع الوقود',\n",
       "                                                   'نوع الجير', 'الزجاج']),\n",
       "                                                 ('numerical',\n",
       "                                                  PowerTransformer(),\n",
       "                                                  ['عدد الركاب', 'قوة الماتور',\n",
       "                                                   'موديل سنة', 'أصحاب سابقون',\n",
       "                                                   'عداد السيارة'])],\n",
       "                                   verbose_feature_names_out=False)),\n",
       "                ('DecisionTreeRegressor', DecisionTreeRegressor())])"
      ]
     },
     "execution_count": 68,
     "metadata": {},
     "output_type": "execute_result"
    }
   ],
   "source": [
    "#fit data\n",
    "tree_pip.fit(X, y) "
   ]
  },
  {
   "cell_type": "code",
   "execution_count": 89,
   "metadata": {},
   "outputs": [],
   "source": [
    "# export tree regressor pipline  \n",
    "tree_regressor_model_file_name = \"../Models/Decision Tree Regressor.pkl\"\n",
    "pickle.dump(tree_pip, open(tree_regressor_model_file_name, 'wb'))"
   ]
  },
  {
   "cell_type": "code",
   "execution_count": 91,
   "metadata": {},
   "outputs": [],
   "source": [
    "poly2 = PolynomialFeatures(2)    \n",
    "poly2_lasso_pipline = Pipeline(\n",
    "    steps = [\n",
    "        (\"transformer\", transformer),\n",
    "        (\"polynomial\", poly2),\n",
    "        (\"polynomial with degree of 2 lasso\", Lasso())\n",
    "    ]\n",
    ")"
   ]
  },
  {
   "cell_type": "code",
   "execution_count": 92,
   "metadata": {},
   "outputs": [
    {
     "data": {
      "text/html": [
       "<style>#sk-container-id-2 {color: black;background-color: white;}#sk-container-id-2 pre{padding: 0;}#sk-container-id-2 div.sk-toggleable {background-color: white;}#sk-container-id-2 label.sk-toggleable__label {cursor: pointer;display: block;width: 100%;margin-bottom: 0;padding: 0.3em;box-sizing: border-box;text-align: center;}#sk-container-id-2 label.sk-toggleable__label-arrow:before {content: \"▸\";float: left;margin-right: 0.25em;color: #696969;}#sk-container-id-2 label.sk-toggleable__label-arrow:hover:before {color: black;}#sk-container-id-2 div.sk-estimator:hover label.sk-toggleable__label-arrow:before {color: black;}#sk-container-id-2 div.sk-toggleable__content {max-height: 0;max-width: 0;overflow: hidden;text-align: left;background-color: #f0f8ff;}#sk-container-id-2 div.sk-toggleable__content pre {margin: 0.2em;color: black;border-radius: 0.25em;background-color: #f0f8ff;}#sk-container-id-2 input.sk-toggleable__control:checked~div.sk-toggleable__content {max-height: 200px;max-width: 100%;overflow: auto;}#sk-container-id-2 input.sk-toggleable__control:checked~label.sk-toggleable__label-arrow:before {content: \"▾\";}#sk-container-id-2 div.sk-estimator input.sk-toggleable__control:checked~label.sk-toggleable__label {background-color: #d4ebff;}#sk-container-id-2 div.sk-label input.sk-toggleable__control:checked~label.sk-toggleable__label {background-color: #d4ebff;}#sk-container-id-2 input.sk-hidden--visually {border: 0;clip: rect(1px 1px 1px 1px);clip: rect(1px, 1px, 1px, 1px);height: 1px;margin: -1px;overflow: hidden;padding: 0;position: absolute;width: 1px;}#sk-container-id-2 div.sk-estimator {font-family: monospace;background-color: #f0f8ff;border: 1px dotted black;border-radius: 0.25em;box-sizing: border-box;margin-bottom: 0.5em;}#sk-container-id-2 div.sk-estimator:hover {background-color: #d4ebff;}#sk-container-id-2 div.sk-parallel-item::after {content: \"\";width: 100%;border-bottom: 1px solid gray;flex-grow: 1;}#sk-container-id-2 div.sk-label:hover label.sk-toggleable__label {background-color: #d4ebff;}#sk-container-id-2 div.sk-serial::before {content: \"\";position: absolute;border-left: 1px solid gray;box-sizing: border-box;top: 0;bottom: 0;left: 50%;z-index: 0;}#sk-container-id-2 div.sk-serial {display: flex;flex-direction: column;align-items: center;background-color: white;padding-right: 0.2em;padding-left: 0.2em;position: relative;}#sk-container-id-2 div.sk-item {position: relative;z-index: 1;}#sk-container-id-2 div.sk-parallel {display: flex;align-items: stretch;justify-content: center;background-color: white;position: relative;}#sk-container-id-2 div.sk-item::before, #sk-container-id-2 div.sk-parallel-item::before {content: \"\";position: absolute;border-left: 1px solid gray;box-sizing: border-box;top: 0;bottom: 0;left: 50%;z-index: -1;}#sk-container-id-2 div.sk-parallel-item {display: flex;flex-direction: column;z-index: 1;position: relative;background-color: white;}#sk-container-id-2 div.sk-parallel-item:first-child::after {align-self: flex-end;width: 50%;}#sk-container-id-2 div.sk-parallel-item:last-child::after {align-self: flex-start;width: 50%;}#sk-container-id-2 div.sk-parallel-item:only-child::after {width: 0;}#sk-container-id-2 div.sk-dashed-wrapped {border: 1px dashed gray;margin: 0 0.4em 0.5em 0.4em;box-sizing: border-box;padding-bottom: 0.4em;background-color: white;}#sk-container-id-2 div.sk-label label {font-family: monospace;font-weight: bold;display: inline-block;line-height: 1.2em;}#sk-container-id-2 div.sk-label-container {text-align: center;}#sk-container-id-2 div.sk-container {/* jupyter's `normalize.less` sets `[hidden] { display: none; }` but bootstrap.min.css set `[hidden] { display: none !important; }` so we also need the `!important` here to be able to override the default hidden behavior on the sphinx rendered scikit-learn.org. See: https://github.com/scikit-learn/scikit-learn/issues/21755 */display: inline-block !important;position: relative;}#sk-container-id-2 div.sk-text-repr-fallback {display: none;}</style><div id=\"sk-container-id-2\" class=\"sk-top-container\"><div class=\"sk-text-repr-fallback\"><pre>Pipeline(steps=[(&#x27;transformer&#x27;,\n",
       "                 ColumnTransformer(remainder=&#x27;passthrough&#x27;,\n",
       "                                   transformers=[(&#x27;categorical&#x27;,\n",
       "                                                  OneHotEncoder(handle_unknown=&#x27;ignore&#x27;,\n",
       "                                                                sparse=False),\n",
       "                                                  [&#x27;الموديل&#x27;, &#x27;لون السيارة&#x27;,\n",
       "                                                   &#x27;أصل السيارة&#x27;,\n",
       "                                                   &#x27;رخصة السيارة&#x27;, &#x27;نوع الوقود&#x27;,\n",
       "                                                   &#x27;نوع الجير&#x27;, &#x27;الزجاج&#x27;]),\n",
       "                                                 (&#x27;numerical&#x27;,\n",
       "                                                  FunctionTransformer(func=&lt;ufunc &#x27;log1p&#x27;&gt;),\n",
       "                                                  [&#x27;عدد الركاب&#x27;, &#x27;قوة الماتور&#x27;,\n",
       "                                                   &#x27;موديل سنة&#x27;, &#x27;أصحاب سابقون&#x27;,\n",
       "                                                   &#x27;عداد السيارة&#x27;])],\n",
       "                                   verbose_feature_names_out=False)),\n",
       "                (&#x27;polynomial&#x27;, PolynomialFeatures()),\n",
       "                (&#x27;DecisionTreeRegressor&#x27;, Lasso())])</pre><b>In a Jupyter environment, please rerun this cell to show the HTML representation or trust the notebook. <br />On GitHub, the HTML representation is unable to render, please try loading this page with nbviewer.org.</b></div><div class=\"sk-container\" hidden><div class=\"sk-item sk-dashed-wrapped\"><div class=\"sk-label-container\"><div class=\"sk-label sk-toggleable\"><input class=\"sk-toggleable__control sk-hidden--visually\" id=\"sk-estimator-id-10\" type=\"checkbox\" ><label for=\"sk-estimator-id-10\" class=\"sk-toggleable__label sk-toggleable__label-arrow\">Pipeline</label><div class=\"sk-toggleable__content\"><pre>Pipeline(steps=[(&#x27;transformer&#x27;,\n",
       "                 ColumnTransformer(remainder=&#x27;passthrough&#x27;,\n",
       "                                   transformers=[(&#x27;categorical&#x27;,\n",
       "                                                  OneHotEncoder(handle_unknown=&#x27;ignore&#x27;,\n",
       "                                                                sparse=False),\n",
       "                                                  [&#x27;الموديل&#x27;, &#x27;لون السيارة&#x27;,\n",
       "                                                   &#x27;أصل السيارة&#x27;,\n",
       "                                                   &#x27;رخصة السيارة&#x27;, &#x27;نوع الوقود&#x27;,\n",
       "                                                   &#x27;نوع الجير&#x27;, &#x27;الزجاج&#x27;]),\n",
       "                                                 (&#x27;numerical&#x27;,\n",
       "                                                  FunctionTransformer(func=&lt;ufunc &#x27;log1p&#x27;&gt;),\n",
       "                                                  [&#x27;عدد الركاب&#x27;, &#x27;قوة الماتور&#x27;,\n",
       "                                                   &#x27;موديل سنة&#x27;, &#x27;أصحاب سابقون&#x27;,\n",
       "                                                   &#x27;عداد السيارة&#x27;])],\n",
       "                                   verbose_feature_names_out=False)),\n",
       "                (&#x27;polynomial&#x27;, PolynomialFeatures()),\n",
       "                (&#x27;DecisionTreeRegressor&#x27;, Lasso())])</pre></div></div></div><div class=\"sk-serial\"><div class=\"sk-item sk-dashed-wrapped\"><div class=\"sk-label-container\"><div class=\"sk-label sk-toggleable\"><input class=\"sk-toggleable__control sk-hidden--visually\" id=\"sk-estimator-id-11\" type=\"checkbox\" ><label for=\"sk-estimator-id-11\" class=\"sk-toggleable__label sk-toggleable__label-arrow\">transformer: ColumnTransformer</label><div class=\"sk-toggleable__content\"><pre>ColumnTransformer(remainder=&#x27;passthrough&#x27;,\n",
       "                  transformers=[(&#x27;categorical&#x27;,\n",
       "                                 OneHotEncoder(handle_unknown=&#x27;ignore&#x27;,\n",
       "                                               sparse=False),\n",
       "                                 [&#x27;الموديل&#x27;, &#x27;لون السيارة&#x27;, &#x27;أصل السيارة&#x27;,\n",
       "                                  &#x27;رخصة السيارة&#x27;, &#x27;نوع الوقود&#x27;, &#x27;نوع الجير&#x27;,\n",
       "                                  &#x27;الزجاج&#x27;]),\n",
       "                                (&#x27;numerical&#x27;,\n",
       "                                 FunctionTransformer(func=&lt;ufunc &#x27;log1p&#x27;&gt;),\n",
       "                                 [&#x27;عدد الركاب&#x27;, &#x27;قوة الماتور&#x27;, &#x27;موديل سنة&#x27;,\n",
       "                                  &#x27;أصحاب سابقون&#x27;, &#x27;عداد السيارة&#x27;])],\n",
       "                  verbose_feature_names_out=False)</pre></div></div></div><div class=\"sk-parallel\"><div class=\"sk-parallel-item\"><div class=\"sk-item\"><div class=\"sk-label-container\"><div class=\"sk-label sk-toggleable\"><input class=\"sk-toggleable__control sk-hidden--visually\" id=\"sk-estimator-id-12\" type=\"checkbox\" ><label for=\"sk-estimator-id-12\" class=\"sk-toggleable__label sk-toggleable__label-arrow\">categorical</label><div class=\"sk-toggleable__content\"><pre>[&#x27;الموديل&#x27;, &#x27;لون السيارة&#x27;, &#x27;أصل السيارة&#x27;, &#x27;رخصة السيارة&#x27;, &#x27;نوع الوقود&#x27;, &#x27;نوع الجير&#x27;, &#x27;الزجاج&#x27;]</pre></div></div></div><div class=\"sk-serial\"><div class=\"sk-item\"><div class=\"sk-estimator sk-toggleable\"><input class=\"sk-toggleable__control sk-hidden--visually\" id=\"sk-estimator-id-13\" type=\"checkbox\" ><label for=\"sk-estimator-id-13\" class=\"sk-toggleable__label sk-toggleable__label-arrow\">OneHotEncoder</label><div class=\"sk-toggleable__content\"><pre>OneHotEncoder(handle_unknown=&#x27;ignore&#x27;, sparse=False)</pre></div></div></div></div></div></div><div class=\"sk-parallel-item\"><div class=\"sk-item\"><div class=\"sk-label-container\"><div class=\"sk-label sk-toggleable\"><input class=\"sk-toggleable__control sk-hidden--visually\" id=\"sk-estimator-id-14\" type=\"checkbox\" ><label for=\"sk-estimator-id-14\" class=\"sk-toggleable__label sk-toggleable__label-arrow\">numerical</label><div class=\"sk-toggleable__content\"><pre>[&#x27;عدد الركاب&#x27;, &#x27;قوة الماتور&#x27;, &#x27;موديل سنة&#x27;, &#x27;أصحاب سابقون&#x27;, &#x27;عداد السيارة&#x27;]</pre></div></div></div><div class=\"sk-serial\"><div class=\"sk-item\"><div class=\"sk-estimator sk-toggleable\"><input class=\"sk-toggleable__control sk-hidden--visually\" id=\"sk-estimator-id-15\" type=\"checkbox\" ><label for=\"sk-estimator-id-15\" class=\"sk-toggleable__label sk-toggleable__label-arrow\">FunctionTransformer</label><div class=\"sk-toggleable__content\"><pre>FunctionTransformer(func=&lt;ufunc &#x27;log1p&#x27;&gt;)</pre></div></div></div></div></div></div><div class=\"sk-parallel-item\"><div class=\"sk-item\"><div class=\"sk-label-container\"><div class=\"sk-label sk-toggleable\"><input class=\"sk-toggleable__control sk-hidden--visually\" id=\"sk-estimator-id-16\" type=\"checkbox\" ><label for=\"sk-estimator-id-16\" class=\"sk-toggleable__label sk-toggleable__label-arrow\">remainder</label><div class=\"sk-toggleable__content\"><pre>[&#x27;وسادة حماية هوائية&#x27;, &#x27;فرش جلد&#x27;, &#x27;جنطات مغنيسيوم&#x27;, &#x27;فتحة سقف&#x27;, &#x27;مسجل CD&#x27;, &#x27;إغلاق مركزي&#x27;, &#x27;مُكيّف&#x27;, &#x27;جهاز إنذار&#x27;]</pre></div></div></div><div class=\"sk-serial\"><div class=\"sk-item\"><div class=\"sk-estimator sk-toggleable\"><input class=\"sk-toggleable__control sk-hidden--visually\" id=\"sk-estimator-id-17\" type=\"checkbox\" ><label for=\"sk-estimator-id-17\" class=\"sk-toggleable__label sk-toggleable__label-arrow\">passthrough</label><div class=\"sk-toggleable__content\"><pre>passthrough</pre></div></div></div></div></div></div></div></div><div class=\"sk-item\"><div class=\"sk-estimator sk-toggleable\"><input class=\"sk-toggleable__control sk-hidden--visually\" id=\"sk-estimator-id-18\" type=\"checkbox\" ><label for=\"sk-estimator-id-18\" class=\"sk-toggleable__label sk-toggleable__label-arrow\">PolynomialFeatures</label><div class=\"sk-toggleable__content\"><pre>PolynomialFeatures()</pre></div></div></div><div class=\"sk-item\"><div class=\"sk-estimator sk-toggleable\"><input class=\"sk-toggleable__control sk-hidden--visually\" id=\"sk-estimator-id-19\" type=\"checkbox\" ><label for=\"sk-estimator-id-19\" class=\"sk-toggleable__label sk-toggleable__label-arrow\">Lasso</label><div class=\"sk-toggleable__content\"><pre>Lasso()</pre></div></div></div></div></div></div></div>"
      ],
      "text/plain": [
       "Pipeline(steps=[('transformer',\n",
       "                 ColumnTransformer(remainder='passthrough',\n",
       "                                   transformers=[('categorical',\n",
       "                                                  OneHotEncoder(handle_unknown='ignore',\n",
       "                                                                sparse=False),\n",
       "                                                  ['الموديل', 'لون السيارة',\n",
       "                                                   'أصل السيارة',\n",
       "                                                   'رخصة السيارة', 'نوع الوقود',\n",
       "                                                   'نوع الجير', 'الزجاج']),\n",
       "                                                 ('numerical',\n",
       "                                                  FunctionTransformer(func=<ufunc 'log1p'>),\n",
       "                                                  ['عدد الركاب', 'قوة الماتور',\n",
       "                                                   'موديل سنة', 'أصحاب سابقون',\n",
       "                                                   'عداد السيارة'])],\n",
       "                                   verbose_feature_names_out=False)),\n",
       "                ('polynomial', PolynomialFeatures()),\n",
       "                ('DecisionTreeRegressor', Lasso())])"
      ]
     },
     "execution_count": 92,
     "metadata": {},
     "output_type": "execute_result"
    }
   ],
   "source": [
    "#fit data\n",
    "poly2_lasso_pipline.fit(X, y) "
   ]
  },
  {
   "cell_type": "code",
   "execution_count": 93,
   "metadata": {},
   "outputs": [],
   "source": [
    "# exporting poly2_lasso_pipline \n",
    "poly2_lasso_model_file_name = \"../models/polynomial degree 2 lasso.pkl\"\n",
    "pickle.dump(poly2_lasso_pipline, open(poly2_lasso_model_file_name, 'wb'))"
   ]
  }
 ],
 "metadata": {
  "kernelspec": {
   "display_name": ".venv",
   "language": "python",
   "name": "python3"
  },
  "language_info": {
   "codemirror_mode": {
    "name": "ipython",
    "version": 3
   },
   "file_extension": ".py",
   "mimetype": "text/x-python",
   "name": "python",
   "nbconvert_exporter": "python",
   "pygments_lexer": "ipython3",
   "version": "3.10.7"
  },
  "orig_nbformat": 4,
  "vscode": {
   "interpreter": {
    "hash": "67703f6099c847180c0c33697b6a3bb9eae65267b7a5e35291c05dc5406b6c79"
   }
  }
 },
 "nbformat": 4,
 "nbformat_minor": 2
}
